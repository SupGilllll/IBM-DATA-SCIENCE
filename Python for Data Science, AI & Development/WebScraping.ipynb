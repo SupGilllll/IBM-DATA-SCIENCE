{
    "cells": [
        {
            "metadata": {},
            "cell_type": "markdown",
            "source": "<center>\n    <img src=\"https://gitlab.com/ibm/skills-network/courses/placeholder101/-/raw/master/labs/module%201/images/IDSNlogo.png\" width=\"300\" alt=\"cognitiveclass.ai logo\"  />\n</center>\n"
        },
        {
            "metadata": {},
            "cell_type": "markdown",
            "source": "# **Web Scraping Lab**\n"
        },
        {
            "metadata": {},
            "cell_type": "markdown",
            "source": "Estimated time needed: **30** minutes\n"
        },
        {
            "metadata": {},
            "cell_type": "markdown",
            "source": "## Objectives\n"
        },
        {
            "metadata": {},
            "cell_type": "markdown",
            "source": "After completing this lab you will be able to:\n"
        },
        {
            "metadata": {},
            "cell_type": "markdown",
            "source": "<h2>Table of Contents</h2>\n<div class=\"alert alert-block alert-info\" style=\"margin-top: 20px\">\n    <ul>\n        <li>\n            <a href=\"BSO\">Beautiful Soup Object</a>\n            <ul>\n                <li>Tag</li>\n                <li>Children, Parents, and Siblings</li>\n                <li>HTML Attributes</li>\n                <li>Navigable String</li>\n            </ul>\n        </li>\n     </ul>\n    <ul>\n        <li>\n            <a href=\"filter\">Filter</a>\n            <ul>\n                <li>find All</li>\n                <li>find </li>\n                <li>HTML Attributes</li>\n                <li>Navigable String</li>\n            </ul>\n        </li>\n     </ul>\n     <ul>\n        <li>\n            <a href=\"DSCW\">Downloading And Scraping The Contents Of A Web</a>\n    </li>\n         </ul>\n    <p>\n        Estimated time needed: <strong>25 min</strong>\n    </p>\n\n</div>\n\n<hr>\n"
        },
        {
            "metadata": {},
            "cell_type": "markdown",
            "source": ""
        },
        {
            "metadata": {},
            "cell_type": "markdown",
            "source": "For this lab, we are going to be using Python and several Python libraries. Some of these libraries might be installed in your lab environment or in SN Labs. Others may need to be installed by you. The cells below will install these libraries when executed.\n"
        },
        {
            "metadata": {},
            "cell_type": "code",
            "source": "!pip install bs4\n#!pip install requests",
            "execution_count": 1,
            "outputs": [
                {
                    "output_type": "stream",
                    "text": "/opt/conda/envs/Python-3.7-OpenCE/lib/python3.7/site-packages/secretstorage/dhcrypto.py:16: CryptographyDeprecationWarning: int_from_bytes is deprecated, use int.from_bytes instead\n  from cryptography.utils import int_from_bytes\n/opt/conda/envs/Python-3.7-OpenCE/lib/python3.7/site-packages/secretstorage/util.py:25: CryptographyDeprecationWarning: int_from_bytes is deprecated, use int.from_bytes instead\n  from cryptography.utils import int_from_bytes\nCollecting bs4\n  Downloading bs4-0.0.1.tar.gz (1.1 kB)\nRequirement already satisfied: beautifulsoup4 in /opt/conda/envs/Python-3.7-OpenCE/lib/python3.7/site-packages (from bs4) (4.9.1)\nRequirement already satisfied: soupsieve>1.2 in /opt/conda/envs/Python-3.7-OpenCE/lib/python3.7/site-packages (from beautifulsoup4->bs4) (2.0.1)\nBuilding wheels for collected packages: bs4\n  Building wheel for bs4 (setup.py) ... \u001b[?25ldone\n\u001b[?25h  Created wheel for bs4: filename=bs4-0.0.1-py3-none-any.whl size=1273 sha256=ffb3ea38143c444ff3e396f177b8f92fc7bdd8eedaf3320fa77c2a8b22322c3f\n  Stored in directory: /tmp/wsuser/.cache/pip/wheels/0a/9e/ba/20e5bbc1afef3a491f0b3bb74d508f99403aabe76eda2167ca\nSuccessfully built bs4\nInstalling collected packages: bs4\nSuccessfully installed bs4-0.0.1\n",
                    "name": "stdout"
                }
            ]
        },
        {
            "metadata": {},
            "cell_type": "markdown",
            "source": "Import the required modules and functions\n"
        },
        {
            "metadata": {},
            "cell_type": "code",
            "source": "from bs4 import BeautifulSoup # this module helps in web scrapping.\nimport requests  # this module helps us to download a web page",
            "execution_count": 2,
            "outputs": []
        },
        {
            "metadata": {},
            "cell_type": "markdown",
            "source": "<h2 id=\"BSO\">Beautiful Soup Objects</h2>\n"
        },
        {
            "metadata": {},
            "cell_type": "markdown",
            "source": "Beautiful Soup is a Python library for pulling data out of HTML and XML files, we will focus on HTML files. This is accomplished by representing the HTML as a set of objects with methods used to parse the HTML.  We can navigate the HTML as a tree and/or filter out what we are looking for.\n\nConsider the following HTML:\n"
        },
        {
            "metadata": {},
            "cell_type": "code",
            "source": "%%html\n<!DOCTYPE html>\n<html>\n<head>\n<title>Page Title</title>\n</head>\n<body>\n<h3><b id='boldest'>Lebron James</b></h3>\n<p> Salary: $ 92,000,000 </p>\n<h3> Stephen Curry</h3>\n<p> Salary: $85,000, 000 </p>\n<h3> Kevin Durant </h3>\n<p> Salary: $73,200, 000</p>\n</body>\n</html>",
            "execution_count": 3,
            "outputs": [
                {
                    "output_type": "display_data",
                    "data": {
                        "text/plain": "<IPython.core.display.HTML object>",
                        "text/html": "<!DOCTYPE html>\n<html>\n<head>\n<title>Page Title</title>\n</head>\n<body>\n<h3><b id='boldest'>Lebron James</b></h3>\n<p> Salary: $ 92,000,000 </p>\n<h3> Stephen Curry</h3>\n<p> Salary: $85,000, 000 </p>\n<h3> Kevin Durant </h3>\n<p> Salary: $73,200, 000</p>\n</body>\n</html>\n"
                    },
                    "metadata": {}
                }
            ]
        },
        {
            "metadata": {},
            "cell_type": "markdown",
            "source": "We can store it as a string in the variable HTML:\n"
        },
        {
            "metadata": {},
            "cell_type": "code",
            "source": "html=\"<!DOCTYPE html><html><head><title>Page Title</title></head><body><h3><b id='boldest'>Lebron James</b></h3><p> Salary: $ 92,000,000 </p><h3> Stephen Curry</h3><p> Salary: $85,000, 000 </p><h3> Kevin Durant </h3><p> Salary: $73,200, 000</p></body></html>\"",
            "execution_count": 4,
            "outputs": []
        },
        {
            "metadata": {},
            "cell_type": "markdown",
            "source": "To parse a document, pass it into the <code>BeautifulSoup</code> constructor, the <code>BeautifulSoup</code> object, which represents the document as a nested data structure:\n"
        },
        {
            "metadata": {},
            "cell_type": "code",
            "source": "soup = BeautifulSoup(html, 'html5lib')",
            "execution_count": 5,
            "outputs": []
        },
        {
            "metadata": {},
            "cell_type": "markdown",
            "source": "First, the document is converted to Unicode, (similar to ASCII),  and HTML entities are converted to Unicode characters. Beautiful Soup transforms a complex HTML document into a complex tree of Python objects. The <code>BeautifulSoup</code> object can create other types of objects. In this lab, we will cover <code>BeautifulSoup</code> and <code>Tag</code> objects that for the purposes of this lab are identical, and <code>NavigableString</code> objects.\n"
        },
        {
            "metadata": {},
            "cell_type": "markdown",
            "source": "We can use the method <code>prettify()</code> to display the HTML in the nested structure:\n"
        },
        {
            "metadata": {},
            "cell_type": "code",
            "source": "print(soup.prettify())",
            "execution_count": 6,
            "outputs": [
                {
                    "output_type": "stream",
                    "text": "<!DOCTYPE html>\n<html>\n <head>\n  <title>\n   Page Title\n  </title>\n </head>\n <body>\n  <h3>\n   <b id=\"boldest\">\n    Lebron James\n   </b>\n  </h3>\n  <p>\n   Salary: $ 92,000,000\n  </p>\n  <h3>\n   Stephen Curry\n  </h3>\n  <p>\n   Salary: $85,000, 000\n  </p>\n  <h3>\n   Kevin Durant\n  </h3>\n  <p>\n   Salary: $73,200, 000\n  </p>\n </body>\n</html>\n",
                    "name": "stdout"
                }
            ]
        },
        {
            "metadata": {},
            "cell_type": "markdown",
            "source": "## Tags\n"
        },
        {
            "metadata": {},
            "cell_type": "markdown",
            "source": "Let's say we want the  title of the page and the name of the top paid player we can use the <code>Tag</code>. The <code>Tag</code> object corresponds to an HTML tag in the original document, for example, the tag title.\n"
        },
        {
            "metadata": {},
            "cell_type": "code",
            "source": "tag_object=soup.title\nprint(\"tag object:\",tag_object)",
            "execution_count": 7,
            "outputs": [
                {
                    "output_type": "stream",
                    "text": "tag object: <title>Page Title</title>\n",
                    "name": "stdout"
                }
            ]
        },
        {
            "metadata": {},
            "cell_type": "markdown",
            "source": "we can see the tag type <code>bs4.element.Tag</code>\n"
        },
        {
            "metadata": {},
            "cell_type": "code",
            "source": "print(\"tag object type:\",type(tag_object))",
            "execution_count": 8,
            "outputs": [
                {
                    "output_type": "stream",
                    "text": "tag object type: <class 'bs4.element.Tag'>\n",
                    "name": "stdout"
                }
            ]
        },
        {
            "metadata": {},
            "cell_type": "markdown",
            "source": "If there is more than one <code>Tag</code>  with the same name, the first element with that <code>Tag</code> name is called, this corresponds to the most paid player:\n"
        },
        {
            "metadata": {},
            "cell_type": "code",
            "source": "tag_object=soup.h3\ntag_object",
            "execution_count": 9,
            "outputs": [
                {
                    "output_type": "execute_result",
                    "execution_count": 9,
                    "data": {
                        "text/plain": "<h3><b id=\"boldest\">Lebron James</b></h3>"
                    },
                    "metadata": {}
                }
            ]
        },
        {
            "metadata": {},
            "cell_type": "markdown",
            "source": "Enclosed in the bold attribute <code>b</code>, it helps to use the tree representation. We can navigate down the tree using the child attribute to get the name.\n"
        },
        {
            "metadata": {},
            "cell_type": "markdown",
            "source": "### Children, Parents, and Siblings\n"
        },
        {
            "metadata": {},
            "cell_type": "markdown",
            "source": "As stated above the <code>Tag</code> object is a tree of objects we can access the child of the tag or navigate down the branch as follows:\n"
        },
        {
            "metadata": {},
            "cell_type": "code",
            "source": "tag_child =tag_object.b\ntag_child",
            "execution_count": 10,
            "outputs": [
                {
                    "output_type": "execute_result",
                    "execution_count": 10,
                    "data": {
                        "text/plain": "<b id=\"boldest\">Lebron James</b>"
                    },
                    "metadata": {}
                }
            ]
        },
        {
            "metadata": {},
            "cell_type": "markdown",
            "source": "You can access the parent with the <code> parent</code>\n"
        },
        {
            "metadata": {},
            "cell_type": "code",
            "source": "parent_tag=tag_child.parent\nparent_tag",
            "execution_count": 11,
            "outputs": [
                {
                    "output_type": "execute_result",
                    "execution_count": 11,
                    "data": {
                        "text/plain": "<h3><b id=\"boldest\">Lebron James</b></h3>"
                    },
                    "metadata": {}
                }
            ]
        },
        {
            "metadata": {},
            "cell_type": "markdown",
            "source": "this is identical to\n"
        },
        {
            "metadata": {},
            "cell_type": "code",
            "source": "tag_object",
            "execution_count": 12,
            "outputs": [
                {
                    "output_type": "execute_result",
                    "execution_count": 12,
                    "data": {
                        "text/plain": "<h3><b id=\"boldest\">Lebron James</b></h3>"
                    },
                    "metadata": {}
                }
            ]
        },
        {
            "metadata": {},
            "cell_type": "markdown",
            "source": "<code>tag_object</code> parent is the <code>body</code> element.\n"
        },
        {
            "metadata": {},
            "cell_type": "code",
            "source": "tag_object.parent",
            "execution_count": 13,
            "outputs": [
                {
                    "output_type": "execute_result",
                    "execution_count": 13,
                    "data": {
                        "text/plain": "<body><h3><b id=\"boldest\">Lebron James</b></h3><p> Salary: $ 92,000,000 </p><h3> Stephen Curry</h3><p> Salary: $85,000, 000 </p><h3> Kevin Durant </h3><p> Salary: $73,200, 000</p></body>"
                    },
                    "metadata": {}
                }
            ]
        },
        {
            "metadata": {},
            "cell_type": "markdown",
            "source": "<code>tag_object</code> sibling is the <code>paragraph</code> element\n"
        },
        {
            "metadata": {},
            "cell_type": "code",
            "source": "sibling_1=tag_object.next_sibling\nsibling_1",
            "execution_count": 14,
            "outputs": [
                {
                    "output_type": "execute_result",
                    "execution_count": 14,
                    "data": {
                        "text/plain": "<p> Salary: $ 92,000,000 </p>"
                    },
                    "metadata": {}
                }
            ]
        },
        {
            "metadata": {},
            "cell_type": "markdown",
            "source": "`sibling_2` is the `header` element which is also a sibling of both `sibling_1` and `tag_object`\n"
        },
        {
            "metadata": {},
            "cell_type": "code",
            "source": "sibling_2=sibling_1.next_sibling\nsibling_2",
            "execution_count": 15,
            "outputs": [
                {
                    "output_type": "execute_result",
                    "execution_count": 15,
                    "data": {
                        "text/plain": "<h3> Stephen Curry</h3>"
                    },
                    "metadata": {}
                }
            ]
        },
        {
            "metadata": {},
            "cell_type": "markdown",
            "source": "<h3 id=\"first_question\">Exercise: <code>next_sibling</code></h3>\n"
        },
        {
            "metadata": {},
            "cell_type": "markdown",
            "source": "Using the object <code>sibling\\_2</code> and the method <code>next_sibling</code> to find the salary of Stephen Curry:\n"
        },
        {
            "metadata": {},
            "cell_type": "code",
            "source": "sibling_3=sibling_2.next_sibling\nsibling_3",
            "execution_count": 17,
            "outputs": [
                {
                    "output_type": "execute_result",
                    "execution_count": 17,
                    "data": {
                        "text/plain": "<p> Salary: $85,000, 000 </p>"
                    },
                    "metadata": {}
                }
            ]
        },
        {
            "metadata": {},
            "cell_type": "markdown",
            "source": "<details><summary>Click here for the solution</summary>\n\n```\nsibling_2.next_sibling\n\n```\n\n</details>\n"
        },
        {
            "metadata": {},
            "cell_type": "markdown",
            "source": "### HTML Attributes\n"
        },
        {
            "metadata": {},
            "cell_type": "markdown",
            "source": "If the tag has attributes, the tag <code>id=\"boldest\"</code> has an attribute <code>id</code> whose value is <code>boldest</code>. You can access a tag\u2019s attributes by treating the tag like a dictionary:\n"
        },
        {
            "metadata": {},
            "cell_type": "code",
            "source": "tag_child['id']",
            "execution_count": 18,
            "outputs": [
                {
                    "output_type": "execute_result",
                    "execution_count": 18,
                    "data": {
                        "text/plain": "'boldest'"
                    },
                    "metadata": {}
                }
            ]
        },
        {
            "metadata": {},
            "cell_type": "markdown",
            "source": "You can access that dictionary directly as <code>attrs</code>:\n"
        },
        {
            "metadata": {},
            "cell_type": "code",
            "source": "tag_child.attrs",
            "execution_count": 19,
            "outputs": [
                {
                    "output_type": "execute_result",
                    "execution_count": 19,
                    "data": {
                        "text/plain": "{'id': 'boldest'}"
                    },
                    "metadata": {}
                }
            ]
        },
        {
            "metadata": {},
            "cell_type": "markdown",
            "source": "You can also work with Multi-valued attribute check out <a href=\"https://www.crummy.com/software/BeautifulSoup/bs4/doc/?utm_medium=Exinfluencer&utm_source=Exinfluencer&utm_content=000026UJ&utm_term=10006555&utm_id=NA-SkillsNetwork-Channel-SkillsNetworkCoursesIBMDeveloperSkillsNetworkPY0220ENSkillsNetwork23455606-2021-01-01\">\\[1]</a> for more.\n"
        },
        {
            "metadata": {},
            "cell_type": "markdown",
            "source": "We can also obtain the content if the attribute of the <code>tag</code> using the Python <code>get()</code> method.\n"
        },
        {
            "metadata": {},
            "cell_type": "code",
            "source": "tag_child.get('id')",
            "execution_count": 20,
            "outputs": [
                {
                    "output_type": "execute_result",
                    "execution_count": 20,
                    "data": {
                        "text/plain": "'boldest'"
                    },
                    "metadata": {}
                }
            ]
        },
        {
            "metadata": {},
            "cell_type": "markdown",
            "source": "### Navigable String\n"
        },
        {
            "metadata": {},
            "cell_type": "markdown",
            "source": "A string corresponds to a bit of text or content within a tag. Beautiful Soup uses the <code>NavigableString</code> class to contain this text. In our HTML we can obtain the name of the first player by extracting the sting of the <code>Tag</code> object <code>tag_child</code> as follows:\n"
        },
        {
            "metadata": {},
            "cell_type": "code",
            "source": "tag_string=tag_child.string\ntag_string",
            "execution_count": 21,
            "outputs": [
                {
                    "output_type": "execute_result",
                    "execution_count": 21,
                    "data": {
                        "text/plain": "'Lebron James'"
                    },
                    "metadata": {}
                }
            ]
        },
        {
            "metadata": {},
            "cell_type": "markdown",
            "source": "we can verify the type is Navigable String\n"
        },
        {
            "metadata": {},
            "cell_type": "code",
            "source": "type(tag_string)",
            "execution_count": 22,
            "outputs": [
                {
                    "output_type": "execute_result",
                    "execution_count": 22,
                    "data": {
                        "text/plain": "bs4.element.NavigableString"
                    },
                    "metadata": {}
                }
            ]
        },
        {
            "metadata": {},
            "cell_type": "markdown",
            "source": "A NavigableString is just like a Python string or Unicode string, to be more precise. The main difference is that it also supports some  <code>BeautifulSoup</code> features. We can covert it to sting object in Python:\n"
        },
        {
            "metadata": {},
            "cell_type": "code",
            "source": "unicode_string = str(tag_string)\nunicode_string",
            "execution_count": 23,
            "outputs": [
                {
                    "output_type": "execute_result",
                    "execution_count": 23,
                    "data": {
                        "text/plain": "'Lebron James'"
                    },
                    "metadata": {}
                }
            ]
        },
        {
            "metadata": {},
            "cell_type": "markdown",
            "source": "<h2 id=\"filter\">Filter</h2>\n"
        },
        {
            "metadata": {},
            "cell_type": "markdown",
            "source": "Filters allow you to find complex patterns, the simplest filter is a string. In this section we will pass a string to a different filter method and Beautiful Soup will perform a match against that exact string.  Consider the following HTML of rocket launchs:\n"
        },
        {
            "metadata": {},
            "cell_type": "code",
            "source": "%%html\n<table>\n  <tr>\n    <td id='flight' >Flight No</td>\n    <td>Launch site</td> \n    <td>Payload mass</td>\n   </tr>\n  <tr> \n    <td>1</td>\n    <td><a href='https://en.wikipedia.org/wiki/Florida'>Florida</a></td>\n    <td>300 kg</td>\n  </tr>\n  <tr>\n    <td>2</td>\n    <td><a href='https://en.wikipedia.org/wiki/Texas'>Texas</a></td>\n    <td>94 kg</td>\n  </tr>\n  <tr>\n    <td>3</td>\n    <td><a href='https://en.wikipedia.org/wiki/Florida'>Florida<a> </td>\n    <td>80 kg</td>\n  </tr>\n</table>",
            "execution_count": 24,
            "outputs": [
                {
                    "output_type": "display_data",
                    "data": {
                        "text/plain": "<IPython.core.display.HTML object>",
                        "text/html": "<table>\n  <tr>\n    <td id='flight' >Flight No</td>\n    <td>Launch site</td> \n    <td>Payload mass</td>\n   </tr>\n  <tr> \n    <td>1</td>\n    <td><a href='https://en.wikipedia.org/wiki/Florida'>Florida</a></td>\n    <td>300 kg</td>\n  </tr>\n  <tr>\n    <td>2</td>\n    <td><a href='https://en.wikipedia.org/wiki/Texas'>Texas</a></td>\n    <td>94 kg</td>\n  </tr>\n  <tr>\n    <td>3</td>\n    <td><a href='https://en.wikipedia.org/wiki/Florida'>Florida<a> </td>\n    <td>80 kg</td>\n  </tr>\n</table>\n"
                    },
                    "metadata": {}
                }
            ]
        },
        {
            "metadata": {},
            "cell_type": "markdown",
            "source": "We can store it as a string in the variable <code>table</code>:\n"
        },
        {
            "metadata": {},
            "cell_type": "code",
            "source": "table=\"<table><tr><td id='flight'>Flight No</td><td>Launch site</td> <td>Payload mass</td></tr><tr> <td>1</td><td><a href='https://en.wikipedia.org/wiki/Florida'>Florida<a></td><td>300 kg</td></tr><tr><td>2</td><td><a href='https://en.wikipedia.org/wiki/Texas'>Texas</a></td><td>94 kg</td></tr><tr><td>3</td><td><a href='https://en.wikipedia.org/wiki/Florida'>Florida<a> </td><td>80 kg</td></tr></table>\"",
            "execution_count": 25,
            "outputs": []
        },
        {
            "metadata": {},
            "cell_type": "code",
            "source": "table_bs = BeautifulSoup(table, 'html5lib')",
            "execution_count": 26,
            "outputs": []
        },
        {
            "metadata": {},
            "cell_type": "markdown",
            "source": "## find All\n"
        },
        {
            "metadata": {},
            "cell_type": "markdown",
            "source": "The <code>find_all()</code> method looks through a tag\u2019s descendants and retrieves all descendants that match your filters.\n\n<p>\nThe Method signature for <code>find_all(name, attrs, recursive, string, limit, **kwargs)<c/ode>\n</p>\n"
        },
        {
            "metadata": {},
            "cell_type": "markdown",
            "source": "### Name\n"
        },
        {
            "metadata": {},
            "cell_type": "markdown",
            "source": "When we set the <code>name</code> parameter to a tag name, the method will extract all the tags with that name and its children.\n"
        },
        {
            "metadata": {},
            "cell_type": "code",
            "source": "table_rows=table_bs.find_all('tr')\ntable_rows",
            "execution_count": 27,
            "outputs": [
                {
                    "output_type": "execute_result",
                    "execution_count": 27,
                    "data": {
                        "text/plain": "[<tr><td id=\"flight\">Flight No</td><td>Launch site</td> <td>Payload mass</td></tr>,\n <tr> <td>1</td><td><a href=\"https://en.wikipedia.org/wiki/Florida\">Florida</a><a></a></td><td>300 kg</td></tr>,\n <tr><td>2</td><td><a href=\"https://en.wikipedia.org/wiki/Texas\">Texas</a></td><td>94 kg</td></tr>,\n <tr><td>3</td><td><a href=\"https://en.wikipedia.org/wiki/Florida\">Florida</a><a> </a></td><td>80 kg</td></tr>]"
                    },
                    "metadata": {}
                }
            ]
        },
        {
            "metadata": {},
            "cell_type": "markdown",
            "source": "The result is a Python Iterable just like a list, each element is a <code>tag</code> object:\n"
        },
        {
            "metadata": {},
            "cell_type": "code",
            "source": "first_row =table_rows[0]\nfirst_row",
            "execution_count": 28,
            "outputs": [
                {
                    "output_type": "execute_result",
                    "execution_count": 28,
                    "data": {
                        "text/plain": "<tr><td id=\"flight\">Flight No</td><td>Launch site</td> <td>Payload mass</td></tr>"
                    },
                    "metadata": {}
                }
            ]
        },
        {
            "metadata": {},
            "cell_type": "markdown",
            "source": "The type is <code>tag</code>\n"
        },
        {
            "metadata": {},
            "cell_type": "code",
            "source": "print(type(first_row))",
            "execution_count": 29,
            "outputs": [
                {
                    "output_type": "stream",
                    "text": "<class 'bs4.element.Tag'>\n",
                    "name": "stdout"
                }
            ]
        },
        {
            "metadata": {},
            "cell_type": "markdown",
            "source": "we can obtain the child\n"
        },
        {
            "metadata": {},
            "cell_type": "code",
            "source": "first_row.td",
            "execution_count": 30,
            "outputs": [
                {
                    "output_type": "execute_result",
                    "execution_count": 30,
                    "data": {
                        "text/plain": "<td id=\"flight\">Flight No</td>"
                    },
                    "metadata": {}
                }
            ]
        },
        {
            "metadata": {},
            "cell_type": "markdown",
            "source": "If we iterate through the list, each element corresponds to a row in the table:\n"
        },
        {
            "metadata": {},
            "cell_type": "code",
            "source": "for i,row in enumerate(table_rows):\n    print(\"row\",i,\"is\",row)\n    ",
            "execution_count": 31,
            "outputs": [
                {
                    "output_type": "stream",
                    "text": "row 0 is <tr><td id=\"flight\">Flight No</td><td>Launch site</td> <td>Payload mass</td></tr>\nrow 1 is <tr> <td>1</td><td><a href=\"https://en.wikipedia.org/wiki/Florida\">Florida</a><a></a></td><td>300 kg</td></tr>\nrow 2 is <tr><td>2</td><td><a href=\"https://en.wikipedia.org/wiki/Texas\">Texas</a></td><td>94 kg</td></tr>\nrow 3 is <tr><td>3</td><td><a href=\"https://en.wikipedia.org/wiki/Florida\">Florida</a><a> </a></td><td>80 kg</td></tr>\n",
                    "name": "stdout"
                }
            ]
        },
        {
            "metadata": {},
            "cell_type": "markdown",
            "source": "As <code>row</code> is a <code>cell</code> object, we can apply the method <code>find_all</code> to it and extract table cells in the object <code>cells</code> using the tag <code>td</code>, this is all the children with the name <code>td</code>. The result is a list, each element corresponds to a cell and is a <code>Tag</code> object, we can iterate through this list as well. We can extract the content using the <code>string</code>  attribute.\n"
        },
        {
            "metadata": {},
            "cell_type": "code",
            "source": "for i,row in enumerate(table_rows):\n    print(\"row\",i)\n    cells=row.find_all('td')\n    for j,cell in enumerate(cells):\n        print('colunm',j,\"cell\",cell)",
            "execution_count": 32,
            "outputs": [
                {
                    "output_type": "stream",
                    "text": "row 0\ncolunm 0 cell <td id=\"flight\">Flight No</td>\ncolunm 1 cell <td>Launch site</td>\ncolunm 2 cell <td>Payload mass</td>\nrow 1\ncolunm 0 cell <td>1</td>\ncolunm 1 cell <td><a href=\"https://en.wikipedia.org/wiki/Florida\">Florida</a><a></a></td>\ncolunm 2 cell <td>300 kg</td>\nrow 2\ncolunm 0 cell <td>2</td>\ncolunm 1 cell <td><a href=\"https://en.wikipedia.org/wiki/Texas\">Texas</a></td>\ncolunm 2 cell <td>94 kg</td>\nrow 3\ncolunm 0 cell <td>3</td>\ncolunm 1 cell <td><a href=\"https://en.wikipedia.org/wiki/Florida\">Florida</a><a> </a></td>\ncolunm 2 cell <td>80 kg</td>\n",
                    "name": "stdout"
                }
            ]
        },
        {
            "metadata": {},
            "cell_type": "markdown",
            "source": "If we use a list we can match against any item in that list.\n"
        },
        {
            "metadata": {},
            "cell_type": "code",
            "source": "list_input=table_bs .find_all(name=[\"tr\", \"td\"])\nlist_input",
            "execution_count": 33,
            "outputs": [
                {
                    "output_type": "execute_result",
                    "execution_count": 33,
                    "data": {
                        "text/plain": "[<tr><td id=\"flight\">Flight No</td><td>Launch site</td> <td>Payload mass</td></tr>,\n <td id=\"flight\">Flight No</td>,\n <td>Launch site</td>,\n <td>Payload mass</td>,\n <tr> <td>1</td><td><a href=\"https://en.wikipedia.org/wiki/Florida\">Florida</a><a></a></td><td>300 kg</td></tr>,\n <td>1</td>,\n <td><a href=\"https://en.wikipedia.org/wiki/Florida\">Florida</a><a></a></td>,\n <td>300 kg</td>,\n <tr><td>2</td><td><a href=\"https://en.wikipedia.org/wiki/Texas\">Texas</a></td><td>94 kg</td></tr>,\n <td>2</td>,\n <td><a href=\"https://en.wikipedia.org/wiki/Texas\">Texas</a></td>,\n <td>94 kg</td>,\n <tr><td>3</td><td><a href=\"https://en.wikipedia.org/wiki/Florida\">Florida</a><a> </a></td><td>80 kg</td></tr>,\n <td>3</td>,\n <td><a href=\"https://en.wikipedia.org/wiki/Florida\">Florida</a><a> </a></td>,\n <td>80 kg</td>]"
                    },
                    "metadata": {}
                }
            ]
        },
        {
            "metadata": {},
            "cell_type": "markdown",
            "source": "## Attributes\n"
        },
        {
            "metadata": {},
            "cell_type": "markdown",
            "source": "If the argument is not recognized it will be turned into a filter on the tag\u2019s attributes. For example the <code>id</code>  argument, Beautiful Soup will filter against each tag\u2019s <code>id</code> attribute. For example, the first <code>td</code> elements have a value of <code>id</code> of <code>flight</code>, therefore we can filter based on that <code>id</code> value.\n"
        },
        {
            "metadata": {},
            "cell_type": "code",
            "source": "table_bs.find_all(id=\"flight\")",
            "execution_count": 34,
            "outputs": [
                {
                    "output_type": "execute_result",
                    "execution_count": 34,
                    "data": {
                        "text/plain": "[<td id=\"flight\">Flight No</td>]"
                    },
                    "metadata": {}
                }
            ]
        },
        {
            "metadata": {},
            "cell_type": "markdown",
            "source": "We can find all the elements that have links to the Florida Wikipedia page:\n"
        },
        {
            "metadata": {},
            "cell_type": "code",
            "source": "list_input=table_bs.find_all(href=\"https://en.wikipedia.org/wiki/Florida\")\nlist_input",
            "execution_count": 35,
            "outputs": [
                {
                    "output_type": "execute_result",
                    "execution_count": 35,
                    "data": {
                        "text/plain": "[<a href=\"https://en.wikipedia.org/wiki/Florida\">Florida</a>,\n <a href=\"https://en.wikipedia.org/wiki/Florida\">Florida</a>]"
                    },
                    "metadata": {}
                }
            ]
        },
        {
            "metadata": {},
            "cell_type": "markdown",
            "source": "If we set the  <code>href</code> attribute to True, regardless of what the value is, the code finds all tags with <code>href</code> value:\n"
        },
        {
            "metadata": {},
            "cell_type": "code",
            "source": "table_bs.find_all(href=True)",
            "execution_count": 36,
            "outputs": [
                {
                    "output_type": "execute_result",
                    "execution_count": 36,
                    "data": {
                        "text/plain": "[<a href=\"https://en.wikipedia.org/wiki/Florida\">Florida</a>,\n <a href=\"https://en.wikipedia.org/wiki/Texas\">Texas</a>,\n <a href=\"https://en.wikipedia.org/wiki/Florida\">Florida</a>]"
                    },
                    "metadata": {}
                }
            ]
        },
        {
            "metadata": {},
            "cell_type": "markdown",
            "source": "There are other methods for dealing with attributes and other related methods; Check out the following <a href='https://www.crummy.com/software/BeautifulSoup/bs4/doc/?utm_medium=Exinfluencer&utm_source=Exinfluencer&utm_content=000026UJ&utm_term=10006555&utm_id=NA-SkillsNetwork-Channel-SkillsNetworkCoursesIBMDeveloperSkillsNetworkPY0220ENSkillsNetwork23455606-2021-01-01#css-selectors'>link</a>\n"
        },
        {
            "metadata": {},
            "cell_type": "markdown",
            "source": "<h3 id=\"exer_type\">Exercise: <code>find_all</code></h3>\n"
        },
        {
            "metadata": {},
            "cell_type": "markdown",
            "source": "Using the logic above, find all the elements without <code>href</code> value\n"
        },
        {
            "metadata": {},
            "cell_type": "code",
            "source": "table_bs.find_all(href=False)",
            "execution_count": 37,
            "outputs": [
                {
                    "output_type": "execute_result",
                    "execution_count": 37,
                    "data": {
                        "text/plain": "[<html><head></head><body><table><tbody><tr><td id=\"flight\">Flight No</td><td>Launch site</td> <td>Payload mass</td></tr><tr> <td>1</td><td><a href=\"https://en.wikipedia.org/wiki/Florida\">Florida</a><a></a></td><td>300 kg</td></tr><tr><td>2</td><td><a href=\"https://en.wikipedia.org/wiki/Texas\">Texas</a></td><td>94 kg</td></tr><tr><td>3</td><td><a href=\"https://en.wikipedia.org/wiki/Florida\">Florida</a><a> </a></td><td>80 kg</td></tr></tbody></table></body></html>,\n <head></head>,\n <body><table><tbody><tr><td id=\"flight\">Flight No</td><td>Launch site</td> <td>Payload mass</td></tr><tr> <td>1</td><td><a href=\"https://en.wikipedia.org/wiki/Florida\">Florida</a><a></a></td><td>300 kg</td></tr><tr><td>2</td><td><a href=\"https://en.wikipedia.org/wiki/Texas\">Texas</a></td><td>94 kg</td></tr><tr><td>3</td><td><a href=\"https://en.wikipedia.org/wiki/Florida\">Florida</a><a> </a></td><td>80 kg</td></tr></tbody></table></body>,\n <table><tbody><tr><td id=\"flight\">Flight No</td><td>Launch site</td> <td>Payload mass</td></tr><tr> <td>1</td><td><a href=\"https://en.wikipedia.org/wiki/Florida\">Florida</a><a></a></td><td>300 kg</td></tr><tr><td>2</td><td><a href=\"https://en.wikipedia.org/wiki/Texas\">Texas</a></td><td>94 kg</td></tr><tr><td>3</td><td><a href=\"https://en.wikipedia.org/wiki/Florida\">Florida</a><a> </a></td><td>80 kg</td></tr></tbody></table>,\n <tbody><tr><td id=\"flight\">Flight No</td><td>Launch site</td> <td>Payload mass</td></tr><tr> <td>1</td><td><a href=\"https://en.wikipedia.org/wiki/Florida\">Florida</a><a></a></td><td>300 kg</td></tr><tr><td>2</td><td><a href=\"https://en.wikipedia.org/wiki/Texas\">Texas</a></td><td>94 kg</td></tr><tr><td>3</td><td><a href=\"https://en.wikipedia.org/wiki/Florida\">Florida</a><a> </a></td><td>80 kg</td></tr></tbody>,\n <tr><td id=\"flight\">Flight No</td><td>Launch site</td> <td>Payload mass</td></tr>,\n <td id=\"flight\">Flight No</td>,\n <td>Launch site</td>,\n <td>Payload mass</td>,\n <tr> <td>1</td><td><a href=\"https://en.wikipedia.org/wiki/Florida\">Florida</a><a></a></td><td>300 kg</td></tr>,\n <td>1</td>,\n <td><a href=\"https://en.wikipedia.org/wiki/Florida\">Florida</a><a></a></td>,\n <a></a>,\n <td>300 kg</td>,\n <tr><td>2</td><td><a href=\"https://en.wikipedia.org/wiki/Texas\">Texas</a></td><td>94 kg</td></tr>,\n <td>2</td>,\n <td><a href=\"https://en.wikipedia.org/wiki/Texas\">Texas</a></td>,\n <td>94 kg</td>,\n <tr><td>3</td><td><a href=\"https://en.wikipedia.org/wiki/Florida\">Florida</a><a> </a></td><td>80 kg</td></tr>,\n <td>3</td>,\n <td><a href=\"https://en.wikipedia.org/wiki/Florida\">Florida</a><a> </a></td>,\n <a> </a>,\n <td>80 kg</td>]"
                    },
                    "metadata": {}
                }
            ]
        },
        {
            "metadata": {},
            "cell_type": "markdown",
            "source": "<details><summary>Click here for the solution</summary>\n\n```\ntable_bs.find_all(href=False)\n\n```\n\n</details>\n"
        },
        {
            "metadata": {},
            "cell_type": "markdown",
            "source": "Using the soup object <code>soup</code>, find the element with the <code>id</code> attribute content set to <code>\"boldest\"</code>.\n"
        },
        {
            "metadata": {},
            "cell_type": "code",
            "source": "soup.find_all(id='boldest')",
            "execution_count": 39,
            "outputs": [
                {
                    "output_type": "execute_result",
                    "execution_count": 39,
                    "data": {
                        "text/plain": "[<b id=\"boldest\">Lebron James</b>]"
                    },
                    "metadata": {}
                }
            ]
        },
        {
            "metadata": {},
            "cell_type": "markdown",
            "source": "<details><summary>Click here for the solution</summary>\n\n```\nsoup.find_all(id=\"boldest\")\n\n```\n\n</details>\n"
        },
        {
            "metadata": {},
            "cell_type": "markdown",
            "source": "### string\n"
        },
        {
            "metadata": {},
            "cell_type": "markdown",
            "source": "With string you can search for strings instead of tags, where we find all the elments with Florida:\n"
        },
        {
            "metadata": {},
            "cell_type": "code",
            "source": "table_bs.find_all(string=\"Florida\")",
            "execution_count": 40,
            "outputs": [
                {
                    "output_type": "execute_result",
                    "execution_count": 40,
                    "data": {
                        "text/plain": "['Florida', 'Florida']"
                    },
                    "metadata": {}
                }
            ]
        },
        {
            "metadata": {},
            "cell_type": "markdown",
            "source": "## find\n"
        },
        {
            "metadata": {},
            "cell_type": "markdown",
            "source": "The <code>find_all()</code> method scans the entire document looking for results, it\u2019s if you are looking for one element you can use the <code>find()</code> method to find the first element in the document. Consider the following two table:\n"
        },
        {
            "metadata": {},
            "cell_type": "code",
            "source": "%%html\n<h3>Rocket Launch </h3>\n\n<p>\n<table class='rocket'>\n  <tr>\n    <td>Flight No</td>\n    <td>Launch site</td> \n    <td>Payload mass</td>\n  </tr>\n  <tr>\n    <td>1</td>\n    <td>Florida</td>\n    <td>300 kg</td>\n  </tr>\n  <tr>\n    <td>2</td>\n    <td>Texas</td>\n    <td>94 kg</td>\n  </tr>\n  <tr>\n    <td>3</td>\n    <td>Florida </td>\n    <td>80 kg</td>\n  </tr>\n</table>\n</p>\n<p>\n\n<h3>Pizza Party  </h3>\n  \n    \n<table class='pizza'>\n  <tr>\n    <td>Pizza Place</td>\n    <td>Orders</td> \n    <td>Slices </td>\n   </tr>\n  <tr>\n    <td>Domino's Pizza</td>\n    <td>10</td>\n    <td>100</td>\n  </tr>\n  <tr>\n    <td>Little Caesars</td>\n    <td>12</td>\n    <td >144 </td>\n  </tr>\n  <tr>\n    <td>Papa John's </td>\n    <td>15 </td>\n    <td>165</td>\n  </tr>\n",
            "execution_count": 41,
            "outputs": [
                {
                    "output_type": "display_data",
                    "data": {
                        "text/plain": "<IPython.core.display.HTML object>",
                        "text/html": "<h3>Rocket Launch </h3>\n\n<p>\n<table class='rocket'>\n  <tr>\n    <td>Flight No</td>\n    <td>Launch site</td> \n    <td>Payload mass</td>\n  </tr>\n  <tr>\n    <td>1</td>\n    <td>Florida</td>\n    <td>300 kg</td>\n  </tr>\n  <tr>\n    <td>2</td>\n    <td>Texas</td>\n    <td>94 kg</td>\n  </tr>\n  <tr>\n    <td>3</td>\n    <td>Florida </td>\n    <td>80 kg</td>\n  </tr>\n</table>\n</p>\n<p>\n\n<h3>Pizza Party  </h3>\n  \n    \n<table class='pizza'>\n  <tr>\n    <td>Pizza Place</td>\n    <td>Orders</td> \n    <td>Slices </td>\n   </tr>\n  <tr>\n    <td>Domino's Pizza</td>\n    <td>10</td>\n    <td>100</td>\n  </tr>\n  <tr>\n    <td>Little Caesars</td>\n    <td>12</td>\n    <td >144 </td>\n  </tr>\n  <tr>\n    <td>Papa John's </td>\n    <td>15 </td>\n    <td>165</td>\n  </tr>\n"
                    },
                    "metadata": {}
                }
            ]
        },
        {
            "metadata": {},
            "cell_type": "markdown",
            "source": "We store the HTML as a Python string and assign <code>two_tables</code>:\n"
        },
        {
            "metadata": {},
            "cell_type": "code",
            "source": "two_tables=\"<h3>Rocket Launch </h3><p><table class='rocket'><tr><td>Flight No</td><td>Launch site</td> <td>Payload mass</td></tr><tr><td>1</td><td>Florida</td><td>300 kg</td></tr><tr><td>2</td><td>Texas</td><td>94 kg</td></tr><tr><td>3</td><td>Florida </td><td>80 kg</td></tr></table></p><p><h3>Pizza Party  </h3><table class='pizza'><tr><td>Pizza Place</td><td>Orders</td> <td>Slices </td></tr><tr><td>Domino's Pizza</td><td>10</td><td>100</td></tr><tr><td>Little Caesars</td><td>12</td><td >144 </td></tr><tr><td>Papa John's </td><td>15 </td><td>165</td></tr>\"",
            "execution_count": 42,
            "outputs": []
        },
        {
            "metadata": {},
            "cell_type": "markdown",
            "source": "We create a <code>BeautifulSoup</code> object  <code>two_tables_bs</code>\n"
        },
        {
            "metadata": {},
            "cell_type": "code",
            "source": "two_tables_bs= BeautifulSoup(two_tables, 'html.parser')",
            "execution_count": 43,
            "outputs": []
        },
        {
            "metadata": {},
            "cell_type": "markdown",
            "source": "We can find the first table using the tag name table\n"
        },
        {
            "metadata": {},
            "cell_type": "code",
            "source": "two_tables_bs.find(\"table\")",
            "execution_count": 44,
            "outputs": [
                {
                    "output_type": "execute_result",
                    "execution_count": 44,
                    "data": {
                        "text/plain": "<table class=\"rocket\"><tr><td>Flight No</td><td>Launch site</td> <td>Payload mass</td></tr><tr><td>1</td><td>Florida</td><td>300 kg</td></tr><tr><td>2</td><td>Texas</td><td>94 kg</td></tr><tr><td>3</td><td>Florida </td><td>80 kg</td></tr></table>"
                    },
                    "metadata": {}
                }
            ]
        },
        {
            "metadata": {},
            "cell_type": "markdown",
            "source": "We can filter on the class attribute to find the second table, but because class is a keyword in Python, we add an underscore.\n"
        },
        {
            "metadata": {},
            "cell_type": "code",
            "source": "two_tables_bs.find(\"table\",class_='pizza')",
            "execution_count": 45,
            "outputs": [
                {
                    "output_type": "execute_result",
                    "execution_count": 45,
                    "data": {
                        "text/plain": "<table class=\"pizza\"><tr><td>Pizza Place</td><td>Orders</td> <td>Slices </td></tr><tr><td>Domino's Pizza</td><td>10</td><td>100</td></tr><tr><td>Little Caesars</td><td>12</td><td>144 </td></tr><tr><td>Papa John's </td><td>15 </td><td>165</td></tr></table>"
                    },
                    "metadata": {}
                }
            ]
        },
        {
            "metadata": {},
            "cell_type": "markdown",
            "source": "<h2 id=\"DSCW\">Downloading And Scraping The Contents Of A Web Page</h2> \n"
        },
        {
            "metadata": {},
            "cell_type": "markdown",
            "source": "We Download the contents of the web page:\n"
        },
        {
            "metadata": {},
            "cell_type": "code",
            "source": "url = \"http://www.ibm.com\"",
            "execution_count": 46,
            "outputs": []
        },
        {
            "metadata": {},
            "cell_type": "markdown",
            "source": "We use <code>get</code> to download the contents of the webpage in text format and store in a variable called <code>data</code>:\n"
        },
        {
            "metadata": {},
            "cell_type": "code",
            "source": "data  = requests.get(url).text \ndata",
            "execution_count": 48,
            "outputs": [
                {
                    "output_type": "execute_result",
                    "execution_count": 48,
                    "data": {
                        "text/plain": "'<!DOCTYPE html>\\n<html lang=\"ja-jp\" dir=\"ltr\">\\n  <head>\\n    <meta charset=\"utf-8\" />\\n<script>digitalData = {\\n    \"page\": {\\n        \"category\": [],\\n        \"pageInfo\": {\\n            \"language\": \"ja-JP\",\\n            \"country\": \"JP\",\\n            \"publisher\": \"IBM Corporation\",\\n            \"version\": \"v19\",\\n            \"ibm\": {\\n                \"contentDelivery\": \"Drupal 8\",\\n                \"contentProducer\": \"2598578 - Page Builder\",\\n                \"owner\": \"Peter Barros/White Plains/IBM\",\\n                \"siteID\": \"DRUPAL\",\\n                \"contactModuleConfiguration\": {\\n                    \"contactInformationBundleKey\": {\\n                        \"focusArea\": \"Miscellaneous - About IBM\",\\n                        \"languageCode\": \"ja\",\\n                        \"regionCode\": \"JP\"\\n                    },\\n                    \"contactModuleTranslationKey\": {\\n                        \"languageCode\": \"ja\",\\n                        \"regionCode\": \"JP\"\\n                    }\\n                },\\n                \"config\": {\\n                    \"masthead\": {\\n                        \"type\": \"default\"\\n                    },\\n                    \"footer\": {\\n                        \"type\": \"default\"\\n                    }\\n                }\\n            },\\n            \"publishDate\": \"2021-07-26\",\\n            \"effectiveDate\": \"2021-03-08\",\\n            \"expiryDate\": \"2025-07-26\"\\n        }\\n    }\\n}</script>\\n<meta name=\"geo.country\" content=\"JP\" />\\n<link rel=\"canonical\" href=\"https://www.ibm.com/jp-ja\" />\\n<meta name=\"robots\" content=\"index, follow\" />\\n<meta name=\"referrer\" content=\"no-referrer-when-downgrade\" />\\n<meta name=\"rights\" content=\"\u00a9 Copyright IBM Corporation 2021\" />\\n<meta name=\"description\" content=\"\u65e5\u672cIBM\u306eWeb\u30b5\u30a4\u30c8\u3067\u3059\u3002\u30cf\u30a4\u30d6\u30ea\u30c3\u30c9\u30af\u30e9\u30a6\u30c9\u3001AI\u3092\u7b46\u982d\u3068\u3059\u308b\u88fd\u54c1\u3001\u30b5\u30fc\u30d3\u30b9\u3001\u30bd\u30ea\u30e5\u30fc\u30b7\u30e7\u30f3\u3092\u7d39\u4ecb\u3057\u307e\u3059\u3002\" />\\n<meta property=\"og:type\" content=\"website\" />\\n<meta property=\"og:url\" content=\"https://www.ibm.com/jp-ja\" />\\n<meta property=\"og:title\" content=\"IBM - \u65e5\u672c\" />\\n<meta property=\"og:description\" content=\"\u65e5\u672cIBM\u306eWeb\u30b5\u30a4\u30c8\u3067\u3059\u3002\u30cf\u30a4\u30d6\u30ea\u30c3\u30c9\u30af\u30e9\u30a6\u30c9\u3001AI\u3092\u7b46\u982d\u3068\u3059\u308b\u88fd\u54c1\u3001\u30b5\u30fc\u30d3\u30b9\u3001\u30bd\u30ea\u30e5\u30fc\u30b7\u30e7\u30f3\u3092\u7d39\u4ecb\u3057\u307e\u3059\u3002\" />\\n<meta property=\"og:image\" content=\"https://1.www.s81c.com/common/images/ibm-leadspace-1200x627.jpg\" />\\n<meta property=\"og:locale\" content=\"ja-jp\" />\\n<meta name=\"twitter:card\" content=\"summary\" />\\n<script>cpp = {\"path\":\"\\\\/cloud\\\\/ajax\\\\/product\\\\/{product}\"}</script>\\n<meta name=\"viewport\" content=\"width=device-width, initial-scale=1.0\" />\\n<script data-title=\"Components design metadata\">/*\\nLeadspace: v19 - Module 5E - Leadspace (5E)-20210726\\n\\nBands/Sections:\\n1. v19 - Module 12A - Newsflash (12A) - 20210719\\n2. v19 - Carousel Module 1B - Features (1B)\\n3. v19 - Carousel Module 1B - Trials (1B)\\n4. v19 - Carousel Module 2B - Products (2B)\\n5. v19 - Module 11A (Double) - Content Spotlight (11A)\\n\\n*/</script>\\n<link rel=\"alternate\" hreflang=\"en-af\" href=\"https://www.ibm.com/af-en\" />\\n<link rel=\"alternate\" hreflang=\"fr-dz\" href=\"https://www.ibm.com/dz-fr\" />\\n<link rel=\"alternate\" hreflang=\"pt-ao\" href=\"https://www.ibm.com/ao-pt\" />\\n<link rel=\"alternate\" hreflang=\"en-ai\" href=\"https://www.ibm.com/ai-en\" />\\n<link rel=\"alternate\" hreflang=\"en-ag\" href=\"https://www.ibm.com/ag-en\" />\\n<link rel=\"alternate\" hreflang=\"es-ar\" href=\"https://www.ibm.com/ar-es\" />\\n<link rel=\"alternate\" hreflang=\"en-aw\" href=\"https://www.ibm.com/aw-en\" />\\n<link rel=\"alternate\" hreflang=\"en-au\" href=\"https://www.ibm.com/au-en\" />\\n<link rel=\"alternate\" hreflang=\"de-at\" href=\"https://www.ibm.com/at-de\" />\\n<link rel=\"alternate\" hreflang=\"en-bs\" href=\"https://www.ibm.com/bs-en\" />\\n<link rel=\"alternate\" hreflang=\"en-bh\" href=\"https://www.ibm.com/bh-en\" />\\n<link rel=\"alternate\" hreflang=\"en-bd\" href=\"https://www.ibm.com/bd-en\" />\\n<link rel=\"alternate\" hreflang=\"en-bb\" href=\"https://www.ibm.com/bb-en\" />\\n<link rel=\"alternate\" hreflang=\"en-be\" href=\"https://www.ibm.com/be-en\" />\\n<link rel=\"alternate\" hreflang=\"en-bm\" href=\"https://www.ibm.com/bm-en\" />\\n<link rel=\"alternate\" hreflang=\"es-bo\" href=\"https://www.ibm.com/bo-es\" />\\n<link rel=\"alternate\" hreflang=\"en-bw\" href=\"https://www.ibm.com/bw-en\" />\\n<link rel=\"alternate\" hreflang=\"pt-br\" href=\"https://www.ibm.com/br-pt\" />\\n<link rel=\"alternate\" hreflang=\"en-vg\" href=\"https://www.ibm.com/vg-en\" />\\n<link rel=\"alternate\" hreflang=\"en-bn\" href=\"https://www.ibm.com/bn-en\" />\\n<link rel=\"alternate\" hreflang=\"en-bg\" href=\"https://www.ibm.com/bg-en\" />\\n<link rel=\"alternate\" hreflang=\"fr-bf\" href=\"https://www.ibm.com/bf-fr\" />\\n<link rel=\"alternate\" hreflang=\"en-kh\" href=\"https://www.ibm.com/kh-en\" />\\n<link rel=\"alternate\" hreflang=\"fr-cm\" href=\"https://www.ibm.com/cm-fr\" />\\n<link rel=\"alternate\" hreflang=\"en-ca\" href=\"https://www.ibm.com/ca-en\" />\\n<link rel=\"alternate\" hreflang=\"fr-ca\" href=\"https://www.ibm.com/ca-fr\" />\\n<link rel=\"alternate\" hreflang=\"en-ky\" href=\"https://www.ibm.com/ky-en\" />\\n<link rel=\"alternate\" hreflang=\"fr-td\" href=\"https://www.ibm.com/td-fr\" />\\n<link rel=\"alternate\" hreflang=\"es-cl\" href=\"https://www.ibm.com/cl-es\" />\\n<link rel=\"alternate\" hreflang=\"zh-cn\" href=\"https://www.ibm.com/cn-zh\" />\\n<link rel=\"alternate\" hreflang=\"es-co\" href=\"https://www.ibm.com/co-es\" />\\n<link rel=\"alternate\" hreflang=\"fr-cd\" href=\"https://www.ibm.com/cd-fr\" />\\n<link rel=\"alternate\" hreflang=\"fr-cg\" href=\"https://www.ibm.com/cg-fr\" />\\n<link rel=\"alternate\" hreflang=\"es-cr\" href=\"https://www.ibm.com/cr-es\" />\\n<link rel=\"alternate\" hreflang=\"en-hr\" href=\"https://www.ibm.com/hr-en\" />\\n<link rel=\"alternate\" hreflang=\"en-cw\" href=\"https://www.ibm.com/cw-en\" />\\n<link rel=\"alternate\" hreflang=\"en-cy\" href=\"https://www.ibm.com/cy-en\" />\\n<link rel=\"alternate\" hreflang=\"en-cz\" href=\"https://www.ibm.com/cz-en\" />\\n<link rel=\"alternate\" hreflang=\"en-dm\" href=\"https://www.ibm.com/dm-en\" />\\n<link rel=\"alternate\" hreflang=\"en-dk\" href=\"https://www.ibm.com/dk-en\" />\\n<link rel=\"alternate\" hreflang=\"es-ec\" href=\"https://www.ibm.com/ec-es\" />\\n<link rel=\"alternate\" hreflang=\"en-eg\" href=\"https://www.ibm.com/eg-en\" />\\n<link rel=\"alternate\" hreflang=\"en-ee\" href=\"https://www.ibm.com/ee-en\" />\\n<link rel=\"alternate\" hreflang=\"en-et\" href=\"https://www.ibm.com/et-en\" />\\n<link rel=\"alternate\" hreflang=\"en-fi\" href=\"https://www.ibm.com/fi-en\" />\\n<link rel=\"alternate\" hreflang=\"fr-fr\" href=\"https://www.ibm.com/fr-fr\" />\\n<link rel=\"alternate\" hreflang=\"fr-ga\" href=\"https://www.ibm.com/ga-fr\" />\\n<link rel=\"alternate\" hreflang=\"de-de\" href=\"https://www.ibm.com/de-de\" />\\n<link rel=\"alternate\" hreflang=\"en-gh\" href=\"https://www.ibm.com/gh-en\" />\\n<link rel=\"alternate\" hreflang=\"en-gr\" href=\"https://www.ibm.com/gr-en\" />\\n<link rel=\"alternate\" hreflang=\"en-gd\" href=\"https://www.ibm.com/gd-en\" />\\n<link rel=\"alternate\" hreflang=\"en-gy\" href=\"https://www.ibm.com/gy-en\" />\\n<link rel=\"alternate\" hreflang=\"en-hk\" href=\"https://www.ibm.com/hk-en\" />\\n<link rel=\"alternate\" hreflang=\"en-hu\" href=\"https://www.ibm.com/hu-en\" />\\n<link rel=\"alternate\" hreflang=\"en-in\" href=\"https://www.ibm.com/in-en\" />\\n<link rel=\"alternate\" hreflang=\"en-id\" href=\"https://www.ibm.com/id-en\" />\\n<link rel=\"alternate\" hreflang=\"en-iq\" href=\"https://www.ibm.com/iq-en\" />\\n<link rel=\"alternate\" hreflang=\"en-ie\" href=\"https://www.ibm.com/ie-en\" />\\n<link rel=\"alternate\" hreflang=\"en-il\" href=\"https://www.ibm.com/il-en\" />\\n<link rel=\"alternate\" hreflang=\"it-it\" href=\"https://www.ibm.com/it-it\" />\\n<link rel=\"alternate\" hreflang=\"fr-ci\" href=\"https://www.ibm.com/ci-fr\" />\\n<link rel=\"alternate\" hreflang=\"en-jm\" href=\"https://www.ibm.com/jm-en\" />\\n<link rel=\"alternate\" hreflang=\"ja-jp\" href=\"https://www.ibm.com/jp-ja\" />\\n<link rel=\"alternate\" hreflang=\"en-jo\" href=\"https://www.ibm.com/jo-en\" />\\n<link rel=\"alternate\" hreflang=\"en-kz\" href=\"https://www.ibm.com/kz-en\" />\\n<link rel=\"alternate\" hreflang=\"en-ke\" href=\"https://www.ibm.com/ke-en\" />\\n<link rel=\"alternate\" hreflang=\"ko-kr\" href=\"https://www.ibm.com/kr-ko\" />\\n<link rel=\"alternate\" hreflang=\"en-kw\" href=\"https://www.ibm.com/kw-en\" />\\n<link rel=\"alternate\" hreflang=\"en-lv\" href=\"https://www.ibm.com/lv-en\" />\\n<link rel=\"alternate\" hreflang=\"en-lb\" href=\"https://www.ibm.com/lb-en\" />\\n<link rel=\"alternate\" hreflang=\"en-ly\" href=\"https://www.ibm.com/ly-en\" />\\n<link rel=\"alternate\" hreflang=\"en-lt\" href=\"https://www.ibm.com/lt-en\" />\\n<link rel=\"alternate\" hreflang=\"fr-mg\" href=\"https://www.ibm.com/mg-fr\" />\\n<link rel=\"alternate\" hreflang=\"en-mw\" href=\"https://www.ibm.com/mw-en\" />\\n<link rel=\"alternate\" hreflang=\"en-my\" href=\"https://www.ibm.com/my-en\" />\\n<link rel=\"alternate\" hreflang=\"fr-mu\" href=\"https://www.ibm.com/mu-fr\" />\\n<link rel=\"alternate\" hreflang=\"es-mx\" href=\"https://www.ibm.com/mx-es\" />\\n<link rel=\"alternate\" hreflang=\"en-ms\" href=\"https://www.ibm.com/ms-en\" />\\n<link rel=\"alternate\" hreflang=\"fr-ma\" href=\"https://www.ibm.com/ma-fr\" />\\n<link rel=\"alternate\" hreflang=\"pt-mz\" href=\"https://www.ibm.com/mz-pt\" />\\n<link rel=\"alternate\" hreflang=\"en-na\" href=\"https://www.ibm.com/na-en\" />\\n<link rel=\"alternate\" hreflang=\"en-np\" href=\"https://www.ibm.com/np-en\" />\\n<link rel=\"alternate\" hreflang=\"en-nl\" href=\"https://www.ibm.com/nl-en\" />\\n<link rel=\"alternate\" hreflang=\"en-nz\" href=\"https://www.ibm.com/nz-en\" />\\n<link rel=\"alternate\" hreflang=\"fr-ne\" href=\"https://www.ibm.com/ne-fr\" />\\n<link rel=\"alternate\" hreflang=\"en-ng\" href=\"https://www.ibm.com/ng-en\" />\\n<link rel=\"alternate\" hreflang=\"en-no\" href=\"https://www.ibm.com/no-en\" />\\n<link rel=\"alternate\" hreflang=\"en-om\" href=\"https://www.ibm.com/om-en\" />\\n<link rel=\"alternate\" hreflang=\"en-pk\" href=\"https://www.ibm.com/pk-en\" />\\n<link rel=\"alternate\" hreflang=\"es-py\" href=\"https://www.ibm.com/py-es\" />\\n<link rel=\"alternate\" hreflang=\"es-pe\" href=\"https://www.ibm.com/pe-es\" />\\n<link rel=\"alternate\" hreflang=\"en-ph\" href=\"https://www.ibm.com/ph-en\" />\\n<link rel=\"alternate\" hreflang=\"pl-pl\" href=\"https://www.ibm.com/pl-pl\" />\\n<link rel=\"alternate\" hreflang=\"en-pt\" href=\"https://www.ibm.com/pt-en\" />\\n<link rel=\"alternate\" hreflang=\"en-qa\" href=\"https://www.ibm.com/qa-en\" />\\n<link rel=\"alternate\" hreflang=\"en-ro\" href=\"https://www.ibm.com/ro-en\" />\\n<link rel=\"alternate\" hreflang=\"ru-ru\" href=\"https://www.ibm.com/ru-ru\" />\\n<link rel=\"alternate\" hreflang=\"en-kn\" href=\"https://www.ibm.com/kn-en\" />\\n<link rel=\"alternate\" hreflang=\"en-lc\" href=\"https://www.ibm.com/lc-en\" />\\n<link rel=\"alternate\" hreflang=\"en-vc\" href=\"https://www.ibm.com/vc-en\" />\\n<link rel=\"alternate\" hreflang=\"ar-sa\" href=\"https://www.ibm.com/sa-ar\" />\\n<link rel=\"alternate\" hreflang=\"en-sa\" href=\"https://www.ibm.com/sa-en\" />\\n<link rel=\"alternate\" hreflang=\"fr-sn\" href=\"https://www.ibm.com/sn-fr\" />\\n<link rel=\"alternate\" hreflang=\"en-rs\" href=\"https://www.ibm.com/rs-en\" />\\n<link rel=\"alternate\" hreflang=\"fr-sc\" href=\"https://www.ibm.com/sc-fr\" />\\n<link rel=\"alternate\" hreflang=\"en-sl\" href=\"https://www.ibm.com/sl-en\" />\\n<link rel=\"alternate\" hreflang=\"en-sg\" href=\"https://www.ibm.com/sg-en\" />\\n<link rel=\"alternate\" hreflang=\"en-sk\" href=\"https://www.ibm.com/sk-en\" />\\n<link rel=\"alternate\" hreflang=\"en-si\" href=\"https://www.ibm.com/si-en\" />\\n<link rel=\"alternate\" hreflang=\"en-za\" href=\"https://www.ibm.com/za-en\" />\\n<link rel=\"alternate\" hreflang=\"es-es\" href=\"https://www.ibm.com/es-es\" />\\n<link rel=\"alternate\" hreflang=\"en-lk\" href=\"https://www.ibm.com/lk-en\" />\\n<link rel=\"alternate\" hreflang=\"en-sr\" href=\"https://www.ibm.com/sr-en\" />\\n<link rel=\"alternate\" hreflang=\"en-se\" href=\"https://www.ibm.com/se-en\" />\\n<link rel=\"alternate\" hreflang=\"fr-ch\" href=\"https://www.ibm.com/ch-fr\" />\\n<link rel=\"alternate\" hreflang=\"de-ch\" href=\"https://www.ibm.com/ch-de\" />\\n<link rel=\"alternate\" hreflang=\"zh-tw\" href=\"https://www.ibm.com/tw-zh\" />\\n<link rel=\"alternate\" hreflang=\"en-tz\" href=\"https://www.ibm.com/tz-en\" />\\n<link rel=\"alternate\" hreflang=\"en-th\" href=\"https://www.ibm.com/th-en\" />\\n<link rel=\"alternate\" hreflang=\"en-tt\" href=\"https://www.ibm.com/tt-en\" />\\n<link rel=\"alternate\" hreflang=\"fr-tn\" href=\"https://www.ibm.com/tn-fr\" />\\n<link rel=\"alternate\" hreflang=\"tr-tr\" href=\"https://www.ibm.com/tr-tr\" />\\n<link rel=\"alternate\" hreflang=\"en-ye\" href=\"https://www.ibm.com/ye-en\" />\\n<link rel=\"alternate\" hreflang=\"en-tc\" href=\"https://www.ibm.com/tc-en\" />\\n<link rel=\"alternate\" hreflang=\"en-ua\" href=\"https://www.ibm.com/ua-en\" />\\n<link rel=\"alternate\" hreflang=\"en-ug\" href=\"https://www.ibm.com/ug-en\" />\\n<link rel=\"alternate\" hreflang=\"ar-ae\" href=\"https://www.ibm.com/ae-ar\" />\\n<link rel=\"alternate\" hreflang=\"en-ae\" href=\"https://www.ibm.com/ae-en\" />\\n<link rel=\"alternate\" hreflang=\"en-gb\" href=\"https://www.ibm.com/uk-en\" />\\n<link rel=\"alternate\" hreflang=\"es-uy\" href=\"https://www.ibm.com/uy-es\" />\\n<link rel=\"alternate\" hreflang=\"en-uz\" href=\"https://www.ibm.com/uz-en\" />\\n<link rel=\"alternate\" hreflang=\"es-ve\" href=\"https://www.ibm.com/ve-es\" />\\n<link rel=\"alternate\" hreflang=\"en-vn\" href=\"https://www.ibm.com/vn-en\" />\\n<link rel=\"alternate\" hreflang=\"en-zm\" href=\"https://www.ibm.com/zm-en\" />\\n<link rel=\"alternate\" hreflang=\"en-zw\" href=\"https://www.ibm.com/zw-en\" />\\n<link rel=\"revision\" href=\"https://www.ibm.com/jp-ja\" />\\n\\n    <title>IBM - \u65e5\u672c</title>\\n    <link rel=\\'dns-prefetch\\' href=\\'//1.www.s81c.com\\' />\\n<link rel=\\'preconnect\\' href=\\'//1.www.s81c.com\\' />\\n    <link href=\"//1.www.s81c.com/common/v18/drupal/css/www.css\" rel=\"preload\" as=\"style\"  />\\n    <link rel=\"stylesheet\" href=\"//1.www.s81c.com/common/v18/drupal/css/www.css\" media=\"all\" />\\n<link href=\"//1.www.s81c.com/common/v18/drupal/css/grid-fluid.css\" rel=\"preload\" as=\"style\"  />\\n<link rel=\"stylesheet\" href=\"//1.www.s81c.com/common/v18/drupal/css/grid-fluid.css\" media=\"all\" />\\n<link href=\"//1.www.s81c.com/common/v18/drupal/css/tables.css\" rel=\"preload\" as=\"style\"  />\\n<link rel=\"stylesheet\" href=\"//1.www.s81c.com/common/v18/drupal/css/tables.css\" media=\"all\" />\\n<link rel=\"preload\" href=\"//1.www.s81c.com/common/fonts/plex/v1/ibmplexsans-regular.woff2\" as=\"font\" type=\"font/woff2\" crossorigin>\\n<link rel=\"preload\" href=\"//1.www.s81c.com/common/fonts/plex/v1/ibmplexsans-regularitalic.woff2\" as=\"font\" type=\"font/woff2\" crossorigin>\\n<link rel=\"preload\" href=\"//1.www.s81c.com/common/fonts/plex/v1/ibmplexsans-semibold.woff2\" as=\"font\" type=\"font/woff2\" crossorigin>\\n<link rel=\"preload\" href=\"//1.www.s81c.com/common/fonts/icons-ibm-v12.woff\" as=\"font\" type=\"font/woff\" crossorigin>\\n<link rel=\"preload\" href=\"//1.www.s81c.com/common/fonts/plex/v1/ibmplexsans-light.woff2\" as=\"font\" type=\"font/woff2\" crossorigin>\\n    <link rel=\"stylesheet\" media=\"all\" href=\"//1.www.s81c.com/common/v19a/css/www.css\" />\\n<link rel=\"stylesheet\" media=\"all\" href=\"//1.cms.s81c.com/sites/default/files/css/css_rqGOprGb68Fw-WD06OP4L-fH88Qh8JBzD64VcrGQ6Ic.css\" />\\n<link rel=\"stylesheet\" media=\"all\" href=\"//1.cms.s81c.com/sites/default/files/css/css_ku1wDrbVrl7b8F65uSGcAyLsgfgRPUHMh6K9xoWITZQ.css\" />\\n\\n    <script src=\"//1.www.s81c.com/common/stats/ibm-common.js\"></script>\\n<script src=\"//1.www.s81c.com/common/v18/drupal/js/www.js\" defer></script>\\n<script src=\"//1.www.s81c.com/common/v19a/js/www.js\" defer></script>\\n\\n    <noscript>\\n      <link rel=\"stylesheet\" type=\"text/css\" href=\"//1.cms.s81c.com/modules/contrib/hc_fractal/dist/css/no-js.css\" />\\n    </noscript>\\n  </head>\\n  <body id=\"ibm-com\"  uuid=\"13191044-6a14-4729-9e45-bd694fad7d27\" class=\"path-node page-node-type-page-wrapper ibm-type\">\\n    \\n      <div class=\"dialog-off-canvas-main-canvas\" data-off-canvas-main-canvas>\\n    <div id=\"ibm-top\" class=\"ibm-landing-page\">\\n    <div class=\"region region-masthead\">\\n    \\n\\n    \\n    \\n\\n<div id=\"ibm-masthead\" role=\"banner\" aria-label=\"IBM\" data-mhtype=\"alternate\" class=\"simple  ibm-mhtype-alternate\">\\n  <div id=\"ibm-universal-nav\">\\n    <nav role=\"navigation\" aria-label=\"IBM\">\\n      <div id=\"ibm-home\"><a href=\"https://www.ibm.com/jp/ja\">IBM\u00ae</a></div>\\n                    <!-- Menu -->\\n              \\n              <ul aria-label=\"\" role=\"toolbar\" class=\"ibm-masthead-categories\">\\n\\n              </ul>\\n      \\n      <ul id=\"ibm-menu-links\" role=\"toolbar\" aria-label=\"Site map\">\\n        <li><a href=\"https://www.ibm.com/sitemap/jp/ja\">\u30b5\u30a4\u30c8\u30de\u30c3\u30d7</a></li>\\n      </ul>\\n    </nav>\\n\\n          <div id=\"ibm-search-module\" role=\"search\" aria-labelledby=\"ibm-masthead\">\\n        <form id=\"ibm-search-form\" action=\"https://www.ibm.com/Search/\" method=\"get\">\\n          <p>\\n            <label for=\"q\">IBM</label>\\n            <input type=\"text\" maxlength=\"100\" value=\"\" placeholder=\u691c\u7d22 name=\"q\" id=\"q\" aria-label=\"Search\"/>\\n            <input type=\"hidden\" value=\"18\" name=\"v\"/>\\n            <input type=\"hidden\" value=\"utf\" name=\"en\"/>\\n            <input type=\"hidden\" value=\"ja\" name=\"lang\"/>\\n            <input type=\"hidden\" value=\"jp\" name=\"cc\"/>\\n            <input type=\"submit\" id=\"ibm-search\" class=\"ibm-btn-search\" value=\"Submit\"/>\\n          </p>\\n        </form>\\n      </div>\\n    \\n\\n  </div> \\n  </div>\\n\\n  </div>\\n\\n  <div id=\"ibm-content-wrapper\">\\n      <header  aria-label=\"Navigation Header\">\\n        \\n\\n  </header>\\n\\n\\n\\n      <div class=\"region region-help\">\\n    <div data-drupal-messages-fallback class=\"hidden\"></div>\\n\\n  </div>\\n\\n      <div class=\"region region-content\">\\n    <div id=\"block-ibm-duo-content\">\\n  \\n    \\n      \\n\\n\\n\\n\\n            \\n\\n\\n\\n\\n\\n\\n\\n\\n  <section  role=\"article\" about=\"/jp-ja/node/2975215\" class=\"ibm-duo-leadspace ibm-duo-leadspace-large ibm-background-gray-100\" data-bg-lazy-load>\\n    <div class=\"ibm-grid-container ibm-duo-leadspace-large__container\">\\n      <div class=\"ibm-grid-col-sm-4-4 ibm-grid-col-md-8-8 ibm-grid-col-lg-16-16 ibm-grid-col-seamless ibm-duo-leadspace-large__bg\">\\n\\n                  <div class=\"picturefill-background ibm-duo-leadspace-large__image ani-reveal ani-fadeIn\">\\n            <span data-src=\"//1.cms.s81c.com/sites/default/files/2021-07-26/ibm-quantum-press-20210726_4.jpg\"></span>\\n            <span data-src=\"//1.cms.s81c.com/sites/default/files/2021-07-26/ibm-quantum-press-20210726-mobile.jpg\" data-media=\"(min-width: 320px)\"></span>\\n            <span data-src=\"//1.cms.s81c.com/sites/default/files/2021-07-26/ibm-quantum-press-20210726_4.jpg\" data-media=\"(min-width: 672px)\"></span>\\n          </div>\\n        \\n              </div>\\n\\n      <div class=\"ibm-grid-col-sm-4-4 ibm-grid-col-md-8-4 ibm-grid-col-lg-16-7 ibm-duo-leadspace-large__content\">\\n                  <div class=\"ibm-grid-col-sm-4-3 ibm-grid-col-lg-16-12 ibm-grid-col-xlg-16-16 ibm-grid-col-seamless ibm-mb-4 ibm-duo-leadspace-large__headline ani-reveal ani-fadeInUp\" data-wow-delay=\".2s\">\\n            <h1 class=\"bx--type-expressive-heading-05 bx--type-light ibm-textcolor-gray-10 ibm-pb-0 ibm-mb-0\">\\n                  <span>\u65e5\u672c\u521d\u306e\u30b2\u30fc\u30c8\u578b\u5546\u7528\u91cf\u5b50\u30b3\u30f3\u30d4\u30e5\u30fc\u30bf\u30fc\u3092\u59cb\u52d5</span>\\n\\n            </h1>\\n          </div>\\n        \\n        <div class=\"ibm-duo-leadspace-large__subhead\">\\n                      <div class=\"ibm-grid-col-sm-4-3 ibm-grid-col-lg-16-10 ibm-grid-col-xlg-16-12 ibm-grid-col-seamless ani-reveal ani-fadeInUp\" data-wow-delay=\".4s\">\\n              <p class=\"bx--type-expressive-heading-03 ibm-textcolor-gray-30 ibm-mb-0\">\\n                    <span>\u6771\u4eac\u5927\u5b66\u3068IBM\u306f\u300c\u65b0\u5ddd\u5d0e\u30fb\u5275\u9020\u306e\u3082\u308a\u304b\u308f\u3055\u304d\u65b0\u7523\u696d\u5275\u9020\u30bb\u30f3\u30bf\u30fc\u300d\u306b\u304a\u3051\u308b\u300cIBM Quantum System One\u300d\u306e\u7a3c\u50cd\u3092\u958b\u59cb</span>\\n\\n              </p>\\n            </div>\\n          \\n            <div class=\"ibm-btn-row ibm-button-link ibm-mt-4 ani-reveal ani-fadeInUp\" data-wow-delay=\".6s\">\\n          \\n\\n        \\n  \\n  \\n  \\n\\n\\n\\n\\n\\n        \\n  <div class=\\'ibm-duo-button-item\\'>\\n    <a  target=\"_self\" href=\"https://jp.newsroom.ibm.com/2021-07-27-Launched-Japan-first-gate-type-commercial-quantum-computer?lnk=jphpv18l1&amp;lnk2=learn\" class=\"ibm-btn-pri ibm-duo-btn-cta ibm-duo-u--link-icon\">\\n      \u30cb\u30e5\u30fc\u30b9\u30ea\u30ea\u30fc\u30b9\\n      \\n    \\n        \\n\\n                  <svg focusable=\"false\" preserveAspectRatio=\"xMidYMid meet\" xmlns=\"http://www.w3.org/2000/svg\" fill=\"currentColor\" aria-hidden=\"true\" width=\"20\" height=\"20\" viewBox=\"0 0 20 20\" slot=\"icon\"><title>IBM\u53f3\u77e2\u5370</title><path d=\"M11.8 2.8L10.8 3.8 16.2 9.3 1 9.3 1 10.7 16.2 10.7 10.8 16.2 11.8 17.2 19 10z\"></path></svg>\\n          \\n    \\n    </a>\\n  </div>\\n\\n          \\n\\n        \\n  \\n  \\n  \\n\\n\\n\\n\\n\\n        \\n  <div class=\\'ibm-duo-button-item\\'>\\n    <a  target=\"_self\" href=\"https://www.ibm.com/jp-ja/quantum-computing?lnk=jphpv18l1&amp;lnk2=learn\" class=\"ibm-btn-sec ibm-duo-btn-cta ibm-duo-u--link-icon ibm-btn-sec--white\">\\n      \u91cf\u5b50\u30b3\u30f3\u30d4\u30e5\u30fc\u30c6\u30a3\u30f3\u30b0\\n      \\n    \\n        \\n\\n                  <svg focusable=\"false\" preserveAspectRatio=\"xMidYMid meet\" xmlns=\"http://www.w3.org/2000/svg\" fill=\"currentColor\" aria-hidden=\"true\" width=\"20\" height=\"20\" viewBox=\"0 0 20 20\" slot=\"icon\"><title>IBM\u53f3\u77e2\u5370</title><path d=\"M11.8 2.8L10.8 3.8 16.2 9.3 1 9.3 1 10.7 16.2 10.7 10.8 16.2 11.8 17.2 19 10z\"></path></svg>\\n          \\n    \\n    </a>\\n  </div>\\n\\n      </div>\\n  <div class=\"ibm-grid-col-sm-4-4 ani-reveal ani-fadeInUp\" data-wow-delay=\".7s\">\\n      </div>\\n\\n          \\n        </div>\\n      </div>\\n\\n      <div class=\"ibm-grid-col-sm-4-1 ibm-grid-col-md-8-0 ibm-grid-col-lg-16-1\"></div>\\n\\n      <div class=\"ibm-grid-col-sm-4-4 ibm-grid-col-md-8-4 ibm-grid-col-lg-16-8 ibm-grid-col-xlg-16-8 ibm-grid-col-seamless ibm-duo-leadspace-large__media-full\">\\n              </div>\\n    </div>\\n  </section>\\n\\n\\n\\n      \\n\\n\\n  \\n\\n<main role=\"main\" aria-labelledby=\"ibm-pagetitle-h1\">\\n  <div id=\"ibm-pcon\">\\n    <div id=\"ibm-content\">\\n      <div id=\"ibm-content-body\" class=\"ibm-padding-top-0\">\\n        <div id=\"ibm-content-main\">\\n          \\n                    \\n          <div class=\"node__content\">\\n                                                \\n\\n  \\n\\n\\n\\n\\n\\n  <section  role=\"article\" about=\"/jp-ja/node/2967186\" id=\"2967186\" class=\"ibm-duo-band ibm-duo-module-12a ibm-background-cool-gray-10\" data-bg-lazy-load>\\n    \\n                      \\n  \\n  \\n\\n\\n\\n\\n\\n<div class=\"ibm-grid-container ibm-duo-u--pt-4 ibm-duo-u--pb-4 \">\\n  <div class=\"ibm-grid-col-sm-4-4 ibm-grid-col-md-8-6 ibm-grid-col-lg-16-8 ibm-duo-module-12a__content\">\\n    \\n          <div class=\"ibm-duo-module-12a__subhead ibm-textcolor-gray-90\">\\n                    <p>Call for Code Global Challenge\u306e\u5fdc\u52df\u7de0\u3081\u5207\u308a\u306f\u30012021\u5e748\u67081\u65e516\u664259\u5206\uff08\u65e5\u672c\u6642\u9593\uff09</p>\\n      \\n      </div>\\n    \\n      </div>\\n\\n  \\n    <div class=\"ibm-grid-col-sm-4-0 ibm-grid-col-md-8-2 ibm-grid-col-lg-16-4\"></div>\\n          <div class=\"ibm-grid-col-sm-4-4 ibm-grid-col-md-8-4 ibm-grid-col-lg-16-4 ibm-duo-module-12a__cta ani-reveal ani-fadeInUp\">\\n                  \\n\\n        \\n  \\n  \\n  \\n\\n\\n\\n\\n\\n        \\n  <div class=\\'ibm-duo-button-item\\'>\\n    <a  target=\"_self\" href=\"https://developer.ibm.com/callforcode/?lnk=hpv18nf1\" class=\"ibm-btn-pri ibm-duo-btn-cta ibm-duo-u--link-icon\">\\n      \u8a73\u7d30\u306f\u3053\u3061\u3089\uff08\u82f1\u8a9e\uff09\\n      \\n    \\n        \\n\\n                  <svg focusable=\"false\" preserveAspectRatio=\"xMidYMid meet\" xmlns=\"http://www.w3.org/2000/svg\" fill=\"currentColor\" aria-hidden=\"true\" width=\"20\" height=\"20\" viewBox=\"0 0 20 20\" slot=\"icon\"><title>IBM\u53f3\u77e2\u5370</title><path d=\"M11.8 2.8L10.8 3.8 16.2 9.3 1 9.3 1 10.7 16.2 10.7 10.8 16.2 11.8 17.2 19 10z\"></path></svg>\\n          \\n    \\n    </a>\\n  </div>\\n\\n              </div>\\n      </div>\\n\\n\\n              </section>\\n\\n              \\n\\n\\n\\n\\n\\n\\n\\n  <section  role=\"article\" about=\"/jp-ja/node/2598600\" data-ibm-cm-avoid=\"true\" id=\"2598600\" class=\"ibm-duo-band ibm-duo-module-1b ibm-duo-u--pt-4 ibm-duo-u--pb-4 ibm-background-white-core\" data-bg-lazy-load>\\n    <div class=\"ibm-grid-container ibm-duo-module-1b__container\">\\n      <div class=\"ibm-grid-col-sm-4-4 ibm-grid-col-md-8-4 ibm-grid-col-lg-16-4\">\\n        \\n\\n  <div class=\"ibm-duo-heading__headline ibm-grid-col-sm-4-4 ibm-grid-col-md-8-6 ibm-grid-col-lg-16-8 ibm-grid-col-seamless ibm-mb-3 ani-reveal ani-fadeInUp\">\\n    <h2 class=\"bx--type-productive-heading-02 ibm-textcolor-gray-90 ibm-pb-0 ibm-mb-0\">\\n          <span > IBM\u306e\u53d6\u308a\u7d44\u307f</span>\\n\\n    </h2>\\n  </div>\\n\\n\\n      </div>\\n\\n      \\n                                \\n        \\n        <div class=\"ibm-grid-col-sm-4-4 ibm-grid-col-md-8-8 ibm-grid-col-lg-16-12 ibm-grid-col-seamless\">\\n          <div class=\"ibm-duo-carousel ibm-duo-carousel__1b ani-reveal ani-fadeInUp\" data-widget=\"setsameheight\" data-always=\"true\" data-items=\".ibm-duo-card__heading\">\\n\\n          \\n                      <div class=\"ibm-grid-col-sm-4-4 ibm-grid-col-md-8-4 ibm-duo-carousel__item ibm-duo-carousel-1b__item\">\\n                  \\n\\n\\n\\n\\n\\n\\n\\n\\n\\n<div class=\"ibm-card ibm-duo-card ibm-duo-card--auto-height ibm-card--noborder ibm-mb-0\">\\n\\n  \\n        \\n\\n        \\n  \\n  \\n  \\n\\n\\n\\n\\n    <a  target=\"_self\" href=\"https://www.ibm.com/blogs/solutions/jp-ja/category/bigdata-analytics/spss-modeler-himotoku/?lnk=jphpv18f1&amp;lnk2=learn\" class=\"ibm-blocklink ibm-duo-card__link ibm-duo-u--link-icon--rtl ibm-background-cool-gray-10 ibm-duo-card--hover-light\">\\n    \\n          <div class=\"ibm-card__image ibm-duo-card__image ibm-duo-u--ratio--sixteen-nine\">\\n                  \\n\\n<img loading=\"lazy\" src=\"//1.cms.s81c.com/sites/default/files/2021-07-21/this-week-at-ibm-himotoku-20210726-444x254_0.jpg\" alt=\"\u65e5\u672cIBM \u7267\u91ce\u6c0f\u3001\u897f\u7267\u6c0f\"\\n        class=\"\"\\n  />\\n        \\n                                                      </div>\\n    \\n    <div class=\"ibm-card__content ibm-duo-card__content\">\\n      <div class=\"ibm-grid-container ibm-pb-3\">\\n                  <div class=\"ibm-grid-col-sm-4-4 ibm-grid-col-md-8-6 ibm-grid-col-lg-16-12 ibm-duo-card__heading\">\\n            <h3 class=\"bx--type-productive-heading-02 ibm-type-semibold ibm-mb-1 ibm-textcolor-gray-90 ibm-pb-0\">\\n                  <span > SPSS\u30e6\u30fc\u30b6\u30fc\u306e\u57f7\u7b46\u8a18\u4e8b\u9023\u8f09\u4e2d</span>\\n\\n            </h3>\\n          </div>\\n        \\n                  <div class=\"ibm-grid-col-sm-4-4 ibm-grid-col-md-8-6 ibm-grid-col-lg-16-14 ibm-duo-card__desc\">\\n            <div class=\"ibm-card__subheading bx--type-body-short-02 ibm-mb-0 ibm-textcolor-gray-70 ibm-pb-0\">\\n                          <p>SPSS Modeler\u3092\u3054\u5229\u7528\u4e2d\u306e\u304a\u5ba2\u69d8\u304c\u3001\u30ea\u30ec\u30fc\u5f62\u5f0f\u3067\u30c7\u30fc\u30bf\u52a0\u5de5\u306e\u5b9f\u8df5\u4f8b\u984c\u3068Tips\u3092\u7d39\u4ecb</p>\\n      \\n            </div>\\n          </div>\\n              </div>\\n    </div>\\n\\n          <div class=\"ibm-card__bottom ibm-duo-card__bottom\">\\n          <div class=\"ibm-grid-container\">\\n            <div class=\"ibm-grid-col-sm-4-4 ibm-grid-col-md-8-8 ibm-grid-col-lg-16-16\">\\n                                          \\n\\n        \\n  \\n  \\n  \\n\\n\\n\\n\\n    <p class=\"ibm-duo-u--link-icon ibm-textcolor-blue-60\">\\n    <span class=\"ibm-textcolor-blue-60\">\u9023\u8f09\u8a18\u4e8b\u4e00\u89a7\u306f\u3053\u3061\u3089</span>\\n    \\n    \\n        \\n\\n                  <svg focusable=\"false\" preserveAspectRatio=\"xMidYMid meet\" xmlns=\"http://www.w3.org/2000/svg\" fill=\"currentColor\" aria-hidden=\"true\" width=\"20\" height=\"20\" viewBox=\"0 0 20 20\" slot=\"icon\"><title>IBM\u53f3\u77e2\u5370</title><path d=\"M11.8 2.8L10.8 3.8 16.2 9.3 1 9.3 1 10.7 16.2 10.7 10.8 16.2 11.8 17.2 19 10z\"></path></svg>\\n          \\n    \\n  </p>\\n\\n            </div>\\n          </div>\\n      </div>\\n    \\n  \\n  </a>\\n\\n    </div>\\n\\n\\n              </div>\\n                      <div class=\"ibm-grid-col-sm-4-4 ibm-grid-col-md-8-4 ibm-duo-carousel__item ibm-duo-carousel-1b__item\">\\n                  \\n\\n\\n\\n\\n\\n\\n\\n\\n\\n<div class=\"ibm-card ibm-duo-card ibm-duo-card--auto-height ibm-card--noborder ibm-mb-0\">\\n\\n  \\n        \\n\\n        \\n  \\n  \\n  \\n\\n\\n\\n\\n    <a  target=\"_self\" href=\"https://www.ibm.com/blogs/solutions/jp-ja/synnex-ibm-cloud-business-for-smb/?lnk=jphpv18f2&amp;lnk2=learn\" class=\"ibm-blocklink ibm-duo-card__link ibm-duo-u--link-icon--rtl ibm-background-cool-gray-10 ibm-duo-card--hover-light\">\\n    \\n          <div class=\"ibm-card__image ibm-duo-card__image ibm-duo-u--ratio--sixteen-nine\">\\n                  \\n\\n<img loading=\"lazy\" src=\"//1.cms.s81c.com/sites/default/files/2021-07-21/this-week-at-ibm-cloud-20210621-444x254.jpg\" alt=\"IBM Cloud \u30ed\u30b4\"\\n        class=\"\"\\n  />\\n        \\n                                                      </div>\\n    \\n    <div class=\"ibm-card__content ibm-duo-card__content\">\\n      <div class=\"ibm-grid-container ibm-pb-3\">\\n                  <div class=\"ibm-grid-col-sm-4-4 ibm-grid-col-md-8-6 ibm-grid-col-lg-16-12 ibm-duo-card__heading\">\\n            <h3 class=\"bx--type-productive-heading-02 ibm-type-semibold ibm-mb-1 ibm-textcolor-gray-90 ibm-pb-0\">\\n                  <span > \u30af\u30e9\u30a6\u30c9\u306b\u304a\u3051\u308b\u30d3\u30b8\u30cd\u30b9\u5354\u696d</span>\\n\\n            </h3>\\n          </div>\\n        \\n                  <div class=\"ibm-grid-col-sm-4-4 ibm-grid-col-md-8-6 ibm-grid-col-lg-16-14 ibm-duo-card__desc\">\\n            <div class=\"ibm-card__subheading bx--type-body-short-02 ibm-mb-0 ibm-textcolor-gray-70 ibm-pb-0\">\\n                          <p>\u30b7\u30cd\u30c3\u30af\u30b9\u30b8\u30e3\u30d1\u30f3\u304c\u30b5\u30d6\u30b9\u30af\u30ea\u30d7\u30b7\u30e7\u30f3\u578b\u30b5\u30fc\u30d3\u30b9\u3068\u3057\u3066IBM Cloud\u3092\u63d0\u4f9b</p>\\n      \\n            </div>\\n          </div>\\n              </div>\\n    </div>\\n\\n          <div class=\"ibm-card__bottom ibm-duo-card__bottom\">\\n          <div class=\"ibm-grid-container\">\\n            <div class=\"ibm-grid-col-sm-4-4 ibm-grid-col-md-8-8 ibm-grid-col-lg-16-16\">\\n                                          \\n\\n        \\n  \\n  \\n  \\n\\n\\n\\n\\n    <p class=\"ibm-duo-u--link-icon ibm-textcolor-blue-60\">\\n    <span class=\"ibm-textcolor-blue-60\">\u8a73\u7d30\u306f\u3053\u3061\u3089</span>\\n    \\n    \\n        \\n\\n                  <svg focusable=\"false\" preserveAspectRatio=\"xMidYMid meet\" xmlns=\"http://www.w3.org/2000/svg\" width=\"32\" height=\"32\" viewBox=\"0 0 32 32\" aria-hidden=\"true\"><polygon points=\"18,6 16.6,7.4 24.1,15 3,15 3,17 24.1,17 16.6,24.6 18,26 28,16\"></polygon><title>Arrow right</title></svg>\\n          \\n    \\n  </p>\\n\\n            </div>\\n          </div>\\n      </div>\\n    \\n  \\n  </a>\\n\\n    </div>\\n\\n\\n              </div>\\n                      <div class=\"ibm-grid-col-sm-4-4 ibm-grid-col-md-8-4 ibm-duo-carousel__item ibm-duo-carousel-1b__item\">\\n                  \\n\\n\\n\\n\\n\\n\\n\\n\\n\\n<div class=\"ibm-card ibm-duo-card ibm-duo-card--auto-height ibm-card--noborder ibm-mb-0\">\\n\\n  \\n        \\n\\n        \\n  \\n  \\n  \\n\\n\\n\\n\\n    <a  target=\"_self\" href=\"https://www.ibm.com/think/jp-ja/business/i-workflow-2021?lnk=jphpv18f3&amp;lnk2=learn\" class=\"ibm-blocklink ibm-duo-card__link ibm-duo-u--link-icon--rtl ibm-background-cool-gray-10 ibm-duo-card--hover-light\">\\n    \\n          <div class=\"ibm-card__image ibm-duo-card__image ibm-duo-u--ratio--sixteen-nine\">\\n                  \\n\\n<img loading=\"lazy\" src=\"//1.cms.s81c.com/sites/default/files/2021-07-16/this-week-at-ibm-i-workflow-20210719-444x254.jpg\" alt=\"\u65e5\u672cIBM \u677e\u5c3e\u6c0f\"\\n        class=\"\"\\n  />\\n        \\n                                                      </div>\\n    \\n    <div class=\"ibm-card__content ibm-duo-card__content\">\\n      <div class=\"ibm-grid-container ibm-pb-3\">\\n                  <div class=\"ibm-grid-col-sm-4-4 ibm-grid-col-md-8-6 ibm-grid-col-lg-16-12 ibm-duo-card__heading\">\\n            <h3 class=\"bx--type-productive-heading-02 ibm-type-semibold ibm-mb-1 ibm-textcolor-gray-90 ibm-pb-0\">\\n                  <span > \u9032\u307e\u306c\u300c2025\u5e74\u306e\u5d16\u300d\u306e\u514b\u670d</span>\\n\\n            </h3>\\n          </div>\\n        \\n                  <div class=\"ibm-grid-col-sm-4-4 ibm-grid-col-md-8-6 ibm-grid-col-lg-16-14 ibm-duo-card__desc\">\\n            <div class=\"ibm-card__subheading bx--type-body-short-02 ibm-mb-0 ibm-textcolor-gray-70 ibm-pb-0\">\\n                          <p>\u65e5\u672cIBM \u677e\u5c3e\u304c\u8a9e\u308b\u3001\u65e5\u672c\u4f01\u696d\u306e\u73fe\u5728\u5730\u3068DX\u3092\u52a0\u901f\u3055\u305b\u308b\u305f\u3081\u306e\u9375\u3068\u306f</p>\\n      \\n            </div>\\n          </div>\\n              </div>\\n    </div>\\n\\n          <div class=\"ibm-card__bottom ibm-duo-card__bottom\">\\n          <div class=\"ibm-grid-container\">\\n            <div class=\"ibm-grid-col-sm-4-4 ibm-grid-col-md-8-8 ibm-grid-col-lg-16-16\">\\n                                          \\n\\n        \\n  \\n  \\n  \\n\\n\\n\\n\\n    <p class=\"ibm-duo-u--link-icon ibm-textcolor-blue-60\">\\n    <span class=\"ibm-textcolor-blue-60\">\u8a18\u4e8b\u3092\u8aad\u3080</span>\\n    \\n    \\n        \\n\\n                  <svg focusable=\"false\" preserveAspectRatio=\"xMidYMid meet\" xmlns=\"http://www.w3.org/2000/svg\" fill=\"currentColor\" aria-hidden=\"true\" width=\"20\" height=\"20\" viewBox=\"0 0 20 20\" slot=\"icon\"><title>IBM\u53f3\u77e2\u5370</title><path d=\"M11.8 2.8L10.8 3.8 16.2 9.3 1 9.3 1 10.7 16.2 10.7 10.8 16.2 11.8 17.2 19 10z\"></path></svg>\\n          \\n    \\n  </p>\\n\\n            </div>\\n          </div>\\n      </div>\\n    \\n  \\n  </a>\\n\\n    </div>\\n\\n\\n              </div>\\n                      <div class=\"ibm-grid-col-sm-4-4 ibm-grid-col-md-8-4 ibm-duo-carousel__item ibm-duo-carousel-1b__item\">\\n                  \\n\\n\\n\\n\\n\\n\\n\\n\\n\\n<div class=\"ibm-card ibm-duo-card ibm-duo-card--auto-height ibm-card--noborder ibm-mb-0\">\\n\\n  \\n        \\n\\n        \\n  \\n  \\n  \\n\\n\\n\\n\\n    <a  target=\"_self\" href=\"https://www.ibm.com/jp-ja/events/x-online?lnk=jphpv18f4&amp;lnk2=learn\" class=\"ibm-blocklink ibm-duo-card__link ibm-duo-u--link-icon--rtl ibm-background-cool-gray-10 ibm-duo-card--hover-light\">\\n    \\n          <div class=\"ibm-card__image ibm-duo-card__image ibm-duo-u--ratio--sixteen-nine\">\\n                  \\n\\n<img loading=\"lazy\" src=\"//1.cms.s81c.com/sites/default/files/2021-04-16/this-week-at-ibm-xonline-20210419-444x254.jpg\" alt=\"\u9752\u306e\u30b0\u30e9\u30c7\u30fc\u30b7\u30e7\u30f3\u3092\u80cc\u666f\u306bX\u306e\u6587\u5b57\u304c\u30c7\u30b6\u30a4\u30f3\u3055\u308c\u3066\u3044\u308b\"\\n        class=\"\"\\n  />\\n        \\n                                                      </div>\\n    \\n    <div class=\"ibm-card__content ibm-duo-card__content\">\\n      <div class=\"ibm-grid-container ibm-pb-3\">\\n                  <div class=\"ibm-grid-col-sm-4-4 ibm-grid-col-md-8-6 ibm-grid-col-lg-16-12 ibm-duo-card__heading\">\\n            <h3 class=\"bx--type-productive-heading-02 ibm-type-semibold ibm-mb-1 ibm-textcolor-gray-90 ibm-pb-0\">\\n                  <span > X-Online (\u30af\u30ed\u30b9\u30fb\u30aa\u30f3\u30e9\u30a4\u30f3)\\xa0</span>\\n\\n            </h3>\\n          </div>\\n        \\n                  <div class=\"ibm-grid-col-sm-4-4 ibm-grid-col-md-8-6 ibm-grid-col-lg-16-14 ibm-duo-card__desc\">\\n            <div class=\"ibm-card__subheading bx--type-body-short-02 ibm-mb-0 ibm-textcolor-gray-70 ibm-pb-0\">\\n                          <p>\u8ab2\u984c\u5225\u3001\u696d\u7a2e\u5225\u306b\u8c4a\u5bcc\u306a\u30b3\u30f3\u30c6\u30f3\u30c4\u3092\u516c\u958b\u3057\u3066\u3044\u308b\u30c7\u30b8\u30bf\u30eb\u30fb\u30a4\u30d9\u30f3\u30c8\u30fb\u30dd\u30fc\u30bf\u30eb</p>\\n      \\n            </div>\\n          </div>\\n              </div>\\n    </div>\\n\\n          <div class=\"ibm-card__bottom ibm-duo-card__bottom\">\\n          <div class=\"ibm-grid-container\">\\n            <div class=\"ibm-grid-col-sm-4-4 ibm-grid-col-md-8-8 ibm-grid-col-lg-16-16\">\\n                                          \\n\\n        \\n  \\n  \\n  \\n\\n\\n\\n\\n    <p class=\"ibm-duo-u--link-icon ibm-textcolor-blue-60\">\\n    <span class=\"ibm-textcolor-blue-60\">\u8996\u8074\u65b9\u6cd5\u306f\u3053\u3061\u3089(\u767b\u9332\u5236:\u7121\u6599\uff09</span>\\n    \\n    \\n        \\n\\n                  <svg focusable=\"false\" preserveAspectRatio=\"xMidYMid meet\" xmlns=\"http://www.w3.org/2000/svg\" fill=\"currentColor\" aria-hidden=\"true\" width=\"20\" height=\"20\" viewBox=\"0 0 20 20\" slot=\"icon\"><title>IBM\u53f3\u77e2\u5370</title><path d=\"M11.8 2.8L10.8 3.8 16.2 9.3 1 9.3 1 10.7 16.2 10.7 10.8 16.2 11.8 17.2 19 10z\"></path></svg>\\n          \\n    \\n  </p>\\n\\n            </div>\\n          </div>\\n      </div>\\n    \\n  \\n  </a>\\n\\n    </div>\\n\\n\\n              </div>\\n                    <span class=\"ibm-duo-carousel__counter ibm-duo-carousel__counter--4 bx--type-body-long-01 ibm-mb-1 ibm-textcolor-gray-90\"></span>\\n          </div>\\n        </div>\\n      \\n    </div>\\n  </section>\\n\\n              \\n\\n\\n\\n\\n\\n\\n\\n  <section  role=\"article\" about=\"/jp-ja/node/2598712\" data-ibm-cm-avoid=\"true\" id=\"2598712\" class=\"ibm-duo-band ibm-duo-module-1b ibm-duo-u--pt-4 ibm-duo-u--pb-4 ibm-background-cool-gray-10\" data-bg-lazy-load>\\n    <div class=\"ibm-grid-container ibm-duo-module-1b__container\">\\n      <div class=\"ibm-grid-col-sm-4-4 ibm-grid-col-md-8-4 ibm-grid-col-lg-16-4\">\\n        \\n\\n  <div class=\"ibm-duo-heading__headline ibm-grid-col-sm-4-4 ibm-grid-col-md-8-6 ibm-grid-col-lg-16-8 ibm-grid-col-seamless ibm-mb-3 ani-reveal ani-fadeInUp\">\\n    <h2 class=\"bx--type-productive-heading-02 ibm-textcolor-gray-90 ibm-pb-0 ibm-mb-0\">\\n          <span > \u7121\u6599\u8a55\u4fa1\u7248\u3068\u7279\u5178</span>\\n\\n    </h2>\\n  </div>\\n\\n\\n  <div class=\"ibm-duo-heading__cta ibm-grid-col-sm-4-4 ibm-grid-col-md-8-8 ibm-grid-col-lg-16-15 ibm-grid-col-seamless ibm-mt-3 ibm-mb-3 ani-reveal ani-fadeInUp\">\\n          \\n\\n        \\n  \\n  \\n  \\n\\n\\n\\n\\n  <p class=\\'ibm-mb-0 ibm-pb-1 ibm-duo-u--pr-2\\'>\\n    <a  target=\"_self\" href=\"/jp-ja/products/trials\" class=\"ibm-duo-u--link-icon ibm-duo-u--link-icon--rtl ibm-textcolor-blue-60\">\\n      <span>\u305d\u306e\u4ed6\u306e\u8a55\u4fa1\u7248\u3092\u898b\u308b</span>\\n      \\n    \\n        \\n\\n                  <svg focusable=\"false\" preserveAspectRatio=\"xMidYMid meet\" xmlns=\"http://www.w3.org/2000/svg\" fill=\"currentColor\" aria-hidden=\"true\" width=\"20\" height=\"20\" viewBox=\"0 0 20 20\" slot=\"icon\"><title>IBM\u53f3\u77e2\u5370</title><path d=\"M11.8 2.8L10.8 3.8 16.2 9.3 1 9.3 1 10.7 16.2 10.7 10.8 16.2 11.8 17.2 19 10z\"></path></svg>\\n          \\n    \\n    </a>\\n  </p>\\n\\n      </div>\\n      </div>\\n\\n      \\n                                \\n        \\n        <div class=\"ibm-grid-col-sm-4-4 ibm-grid-col-md-8-8 ibm-grid-col-lg-16-12 ibm-grid-col-seamless\">\\n          <div class=\"ibm-duo-carousel ibm-duo-carousel__1b ani-reveal ani-fadeInUp\" data-widget=\"setsameheight\" data-always=\"true\" data-items=\".ibm-duo-card__heading\">\\n\\n          \\n                      <div class=\"ibm-grid-col-sm-4-4 ibm-grid-col-md-8-4 ibm-duo-carousel__item ibm-duo-carousel-1b__item\">\\n                  \\n\\n\\n\\n\\n\\n\\n\\n\\n\\n<div class=\"ibm-card ibm-duo-card ibm-duo-card--auto-height ibm-card--noborder ibm-mb-0\">\\n\\n  \\n        \\n\\n        \\n  \\n  \\n  \\n\\n\\n\\n\\n    <a  target=\"_self\" href=\"/jp-ja/products/mq\" class=\"ibm-blocklink ibm-duo-card__link ibm-duo-u--link-icon--rtl ibm-background-white-core ibm-duo-card--hover-light\">\\n    \\n          <div class=\"ibm-card__image ibm-duo-card__image ibm-duo-u--ratio--sixteen-nine\">\\n                  \\n\\n<img loading=\"lazy\" src=\"//1.cms.s81c.com/sites/default/files/2021-06-11/mq-trial.png\" alt=\"IBM MQ\u30da\u30fc\u30b8\u306e\u30b9\u30af\u30ea\u30fc\u30f3\u30b7\u30e7\u30c3\u30c8\"\\n        class=\"\"\\n  />\\n        \\n                                                      </div>\\n    \\n    <div class=\"ibm-card__content ibm-duo-card__content\">\\n      <div class=\"ibm-grid-container ibm-pb-3\">\\n                  <div class=\"ibm-grid-col-sm-4-4 ibm-grid-col-md-8-6 ibm-grid-col-lg-16-12 ibm-duo-card__heading\">\\n            <h3 class=\"bx--type-productive-heading-02 ibm-type-semibold ibm-mb-1 ibm-textcolor-gray-90 ibm-pb-0\">\\n                  <span > IBM MQ</span>\\n\\n            </h3>\\n          </div>\\n        \\n                  <div class=\"ibm-grid-col-sm-4-4 ibm-grid-col-md-8-6 ibm-grid-col-lg-16-14 ibm-duo-card__desc\">\\n            <div class=\"ibm-card__subheading bx--type-body-short-02 ibm-mb-0 ibm-textcolor-gray-70 ibm-pb-0\">\\n                          <p>\u591a\u69d8\u306a\u30a2\u30d7\u30ea\u30b1\u30fc\u30b7\u30e7\u30f3\u3084\u30c7\u30fc\u30bf\u3092\u3001\u8907\u6570\u306e\u30d7\u30e9\u30c3\u30c8\u30d5\u30a9\u30fc\u30e0\u3067\u30b7\u30f3\u30d7\u30eb\u304b\u3064\u8fc5\u901f\u306b\u7d71\u5408\u3059\u308b\u30e1\u30c3\u30bb\u30fc\u30b8\u30f3\u30b0\u30fb\u30df\u30c9\u30eb\u30a6\u30a7\u30a2\u3067\u3059\u3002</p>\\n      \\n            </div>\\n          </div>\\n              </div>\\n    </div>\\n\\n          <div class=\"ibm-card__bottom ibm-duo-card__bottom\">\\n          <div class=\"ibm-grid-container\">\\n            <div class=\"ibm-grid-col-sm-4-4 ibm-grid-col-md-8-8 ibm-grid-col-lg-16-16\">\\n                                          \\n\\n        \\n  \\n  \\n  \\n\\n\\n\\n\\n    <p class=\"ibm-duo-u--link-icon ibm-textcolor-blue-60\">\\n    <span class=\"ibm-textcolor-blue-60\"></span>\\n    \\n    \\n        \\n\\n                  <svg focusable=\"false\" preserveAspectRatio=\"xMidYMid meet\" xmlns=\"http://www.w3.org/2000/svg\" fill=\"currentColor\" aria-hidden=\"true\" width=\"20\" height=\"20\" viewBox=\"0 0 20 20\" slot=\"icon\"><title>IBM\u53f3\u77e2\u5370</title><path d=\"M11.8 2.8L10.8 3.8 16.2 9.3 1 9.3 1 10.7 16.2 10.7 10.8 16.2 11.8 17.2 19 10z\"></path></svg>\\n          \\n    \\n  </p>\\n\\n            </div>\\n          </div>\\n      </div>\\n    \\n  \\n  </a>\\n\\n    </div>\\n\\n\\n              </div>\\n                      <div class=\"ibm-grid-col-sm-4-4 ibm-grid-col-md-8-4 ibm-duo-carousel__item ibm-duo-carousel-1b__item\">\\n                  \\n\\n\\n\\n\\n\\n\\n\\n\\n\\n<div class=\"ibm-card ibm-duo-card ibm-duo-card--auto-height ibm-card--noborder ibm-mb-0\">\\n\\n  \\n        \\n\\n        \\n  \\n  \\n  \\n\\n\\n\\n\\n    <a  target=\"_self\" href=\"/jp-ja/cloud/aspera\" class=\"ibm-blocklink ibm-duo-card__link ibm-duo-u--link-icon--rtl ibm-background-white-core ibm-duo-card--hover-light\">\\n    \\n          <div class=\"ibm-card__image ibm-duo-card__image ibm-duo-u--ratio--sixteen-nine\">\\n                  \\n\\n<img loading=\"lazy\" src=\"//1.cms.s81c.com/sites/default/files/2021-06-11/aspera-trial.png\" alt=\"IBM Aspera on Cloud\u306e\u30b9\u30af\u30ea\u30fc\u30f3\u30b7\u30e7\u30c3\u30c8\"\\n        class=\"\"\\n  />\\n        \\n                                                      </div>\\n    \\n    <div class=\"ibm-card__content ibm-duo-card__content\">\\n      <div class=\"ibm-grid-container ibm-pb-3\">\\n                  <div class=\"ibm-grid-col-sm-4-4 ibm-grid-col-md-8-6 ibm-grid-col-lg-16-12 ibm-duo-card__heading\">\\n            <h3 class=\"bx--type-productive-heading-02 ibm-type-semibold ibm-mb-1 ibm-textcolor-gray-90 ibm-pb-0\">\\n                  <span > IBM Aspera on Cloud</span>\\n\\n            </h3>\\n          </div>\\n        \\n                  <div class=\"ibm-grid-col-sm-4-4 ibm-grid-col-md-8-6 ibm-grid-col-lg-16-14 ibm-duo-card__desc\">\\n            <div class=\"ibm-card__subheading bx--type-body-short-02 ibm-mb-0 ibm-textcolor-gray-70 ibm-pb-0\">\\n                          <p>\u30cf\u30a4\u30d6\u30ea\u30c3\u30c9\u30fb\u30af\u30e9\u30a6\u30c9\u74b0\u5883\u5168\u4f53\u3067\u5927\u5bb9\u91cf\u306e\u30d5\u30a1\u30a4\u30eb\u3084\u30c7\u30fc\u30bf\u30fb\u30bb\u30c3\u30c8\u3092\u8fc5\u901f\u3001\u78ba\u5b9f\u306b\u8ee2\u9001/\u5171\u6709\u3067\u304d\u307e\u3059\u3002</p>\\n      \\n            </div>\\n          </div>\\n              </div>\\n    </div>\\n\\n          <div class=\"ibm-card__bottom ibm-duo-card__bottom\">\\n          <div class=\"ibm-grid-container\">\\n            <div class=\"ibm-grid-col-sm-4-4 ibm-grid-col-md-8-8 ibm-grid-col-lg-16-16\">\\n                                          \\n\\n        \\n  \\n  \\n  \\n\\n\\n\\n\\n    <p class=\"ibm-duo-u--link-icon ibm-textcolor-blue-60\">\\n    <span class=\"ibm-textcolor-blue-60\"></span>\\n    \\n    \\n        \\n\\n                  <svg focusable=\"false\" preserveAspectRatio=\"xMidYMid meet\" xmlns=\"http://www.w3.org/2000/svg\" fill=\"currentColor\" aria-hidden=\"true\" width=\"20\" height=\"20\" viewBox=\"0 0 20 20\" slot=\"icon\"><title>IBM\u53f3\u77e2\u5370</title><path d=\"M11.8 2.8L10.8 3.8 16.2 9.3 1 9.3 1 10.7 16.2 10.7 10.8 16.2 11.8 17.2 19 10z\"></path></svg>\\n          \\n    \\n  </p>\\n\\n            </div>\\n          </div>\\n      </div>\\n    \\n  \\n  </a>\\n\\n    </div>\\n\\n\\n              </div>\\n                      <div class=\"ibm-grid-col-sm-4-4 ibm-grid-col-md-8-4 ibm-duo-carousel__item ibm-duo-carousel-1b__item\">\\n                  \\n\\n\\n\\n\\n\\n\\n\\n\\n\\n<div class=\"ibm-card ibm-duo-card ibm-duo-card--auto-height ibm-card--noborder ibm-mb-0\">\\n\\n  \\n        \\n\\n        \\n  \\n  \\n  \\n\\n\\n\\n\\n    <a  target=\"_self\" href=\"/jp-ja/products/storage-suite-for-ibm-cloud-paks\" class=\"ibm-blocklink ibm-duo-card__link ibm-duo-u--link-icon--rtl ibm-background-white-core ibm-duo-card--hover-light\">\\n    \\n          <div class=\"ibm-card__image ibm-duo-card__image ibm-duo-u--ratio--sixteen-nine\">\\n                  \\n\\n<img loading=\"lazy\" src=\"//1.cms.s81c.com/sites/default/files/2021-04-08/storage-suite-for-cloud-pak-trial.png\" alt=\"Storage Suite for IBM Cloud Paks\u306e\u30b9\u30af\u30ea\u30fc\u30f3\u30fb\u30b7\u30e7\u30c3\u30c8\"\\n        class=\"\"\\n  />\\n        \\n                                                      </div>\\n    \\n    <div class=\"ibm-card__content ibm-duo-card__content\">\\n      <div class=\"ibm-grid-container ibm-pb-3\">\\n                  <div class=\"ibm-grid-col-sm-4-4 ibm-grid-col-md-8-6 ibm-grid-col-lg-16-12 ibm-duo-card__heading\">\\n            <h3 class=\"bx--type-productive-heading-02 ibm-type-semibold ibm-mb-1 ibm-textcolor-gray-90 ibm-pb-0\">\\n                  <span > IBM Storage Suite for IBM Cloud Paks</span>\\n\\n            </h3>\\n          </div>\\n        \\n                  <div class=\"ibm-grid-col-sm-4-4 ibm-grid-col-md-8-6 ibm-grid-col-lg-16-14 ibm-duo-card__desc\">\\n            <div class=\"ibm-card__subheading bx--type-body-short-02 ibm-mb-0 ibm-textcolor-gray-70 ibm-pb-0\">\\n                          <p>\u30b3\u30f3\u30c6\u30ca\u74b0\u5883\u5411\u3051\u306e\u5f37\u529b\u304b\u3064\u4fca\u654f\u3067\u5b89\u5168\u306a\u30b9\u30c8\u30ec\u30fc\u30b8\u306e\u69cb\u7bc9\u3092\u652f\u63f4\u3059\u308b\u30bd\u30d5\u30c8\u30a6\u30a7\u30a2\u30fb\u30c7\u30d5\u30a1\u30a4\u30f3\u30c9\u30fb\u30b9\u30c8\u30ec\u30fc\u30b8\u3067\u3059\u3002</p>\\n      \\n            </div>\\n          </div>\\n              </div>\\n    </div>\\n\\n          <div class=\"ibm-card__bottom ibm-duo-card__bottom\">\\n          <div class=\"ibm-grid-container\">\\n            <div class=\"ibm-grid-col-sm-4-4 ibm-grid-col-md-8-8 ibm-grid-col-lg-16-16\">\\n                                          \\n\\n        \\n  \\n  \\n  \\n\\n\\n\\n\\n    <p class=\"ibm-duo-u--link-icon ibm-textcolor-blue-60\">\\n    <span class=\"ibm-textcolor-blue-60\"></span>\\n    \\n    \\n        \\n\\n                  <svg focusable=\"false\" preserveAspectRatio=\"xMidYMid meet\" xmlns=\"http://www.w3.org/2000/svg\" fill=\"currentColor\" aria-hidden=\"true\" width=\"20\" height=\"20\" viewBox=\"0 0 20 20\" slot=\"icon\"><title>IBM\u53f3\u77e2\u5370</title><path d=\"M11.8 2.8L10.8 3.8 16.2 9.3 1 9.3 1 10.7 16.2 10.7 10.8 16.2 11.8 17.2 19 10z\"></path></svg>\\n          \\n    \\n  </p>\\n\\n            </div>\\n          </div>\\n      </div>\\n    \\n  \\n  </a>\\n\\n    </div>\\n\\n\\n              </div>\\n                    <span class=\"ibm-duo-carousel__counter ibm-duo-carousel__counter--3 bx--type-body-long-01 ibm-mb-1 ibm-textcolor-gray-90\"></span>\\n          </div>\\n        </div>\\n      \\n    </div>\\n  </section>\\n\\n              \\n\\n\\n\\n\\n\\n\\n  <section  role=\"article\" about=\"/jp-ja/node/2725178\" data-ibm-cm-avoid=\"true\" id=\"2725178\" class=\"ibm-duo-band ibm-duo-module-2b ibm-duo-u--pt-4 ibm-duo-u--pb-4 ibm-background-white-core\" data-bg-lazy-load>\\n    <div class=\"ibm-grid-container ibm-duo-module-2b__container\">\\n\\n      <div class=\"ibm-grid-col-sm-4-4 ibm-grid-col-md-8-4 ibm-grid-col-lg-16-4\">\\n        \\n\\n  <div class=\"ibm-duo-heading__headline ibm-grid-col-sm-4-4 ibm-grid-col-md-8-6 ibm-grid-col-lg-16-8 ibm-grid-col-seamless ibm-mb-3 ani-reveal ani-fadeInUp\">\\n    <h2 class=\"bx--type-productive-heading-02 ibm-textcolor-gray-90 ibm-pb-0 ibm-mb-0\">\\n          <span > \u6ce8\u76ee\u306e\u30c6\u30af\u30ce\u30ed\u30b8\u30fc\u306e\u3054\u7d39\u4ecb</span>\\n\\n    </h2>\\n  </div>\\n\\n\\n      </div>\\n\\n      \\n                                \\n        \\n        <div class=\"ibm-grid-col-sm-4-4 ibm-grid-col-md-8-8 ibm-grid-col-lg-16-12 ibm-grid-col-seamless\">\\n          <div class=\"ibm-duo-carousel ibm-duo-carousel__2b ani-reveal ani-fadeInUp\" data-widget=\"setsameheight\" data-always=\"true\" data-items=\".ibm-duo-card__heading\">\\n\\n            \\n                          <div class=\"ibm-grid-col-sm-4-4 ibm-grid-col-md-8-4 ibm-duo-carousel__item ibm-duo-carousel-2b__item\">\\n                    \\n\\n\\n\\n\\n\\n<div class=\"ibm-card ibm-duo-card ibm-card--noborder ibm-mb-0\">\\n\\n  \\n      <div class=\"ibm-blocklink ibm-duo-card__link ibm-background-cool-gray-10\">\\n          <div class=\"ibm-card__content ibm-duo-card__content\">\\n      <div class=\"ibm-grid-container\">\\n        <div class=\"ibm-grid-col-sm-4-4 ibm-grid-col-md-8-7 ibm-grid-col-lg-16-14 ibm-pb-4\">\\n          \\n          \\n          \\n                      <div class=\"bx--type-body-long-02 ibm-textcolor-gray-70 ibm-mb-3 ibm-duo-card__desc\">\\n                          <p><strong>\u30d3\u30b8\u30cd\u30b9\u7528\u30c4\u30fc\u30eb</strong><br />\\n\\xa0</p>\\n\\n<ul><li><a href=\"/jp-ja/cloud/hybrid?lnk=hpv18pt14\">\u30cf\u30a4\u30d6\u30ea\u30c3\u30c9\u30af\u30e9\u30a6\u30c9</a></li>\\n\\t<li><a href=\"/cloud/learn/public-cloud?lnk=hpv18ct1\">\u30d1\u30d6\u30ea\u30c3\u30af\u30af\u30e9\u30a6\u30c9\uff08\u82f1\u8a9e\uff09</a></li>\\n\\t<li><a href=\"/jp-ja/watson?lnk=ushpv18pt17\">IBM Watson</a></li>\\n\\t<li><a href=\"/jp-ja/garage?lnk=hpv18pt13\">IBM Garage</a></li>\\n\\t<li><a href=\"/jp-ja/blockchain?lnk=hpv18pt4\">\u30d6\u30ed\u30c3\u30af\u30c1\u30a7\u30fc\u30f3</a></li>\\n\\t<li><a href=\"https://www.ibm.com/jp-ja/analytics?lnk=hpv18pt1\">\u30c7\u30fc\u30bf\u3068\u5206\u6790</a></li>\\n\\t<li><a href=\"/jp-ja/security?lnk=hpv18pt9\">\u30bb\u30ad\u30e5\u30ea\u30c6\u30a3\u30fc</a></li>\\n\\t<li><a href=\"/jp-ja/quantum-computing?lnk=hpv18pt16\">\u91cf\u5b50\u30b3\u30f3\u30d4\u30e5\u30fc\u30c6\u30a3\u30f3\u30b0</a></li>\\n\\t<li><a href=\"/jp-ja/financing?lnk=hpv18pt3\">\u30d5\u30a1\u30a4\u30ca\u30f3\u30b7\u30f3\u30b0</a></li>\\n\\t<li><a href=\"https://www.ibm.com/services/jp-ja/studies/thoughtleadership/?lnk=hpv18pt12\">Institute for Business Value</a></li>\\n</ul>\\n      \\n            </div>\\n                  </div>\\n      </div>\\n    </div>\\n\\n      \\n    </div>\\n  </div>\\n\\n\\n                </div>\\n                          <div class=\"ibm-grid-col-sm-4-4 ibm-grid-col-md-8-4 ibm-duo-carousel__item ibm-duo-carousel-2b__item\">\\n                    \\n\\n\\n\\n\\n\\n<div class=\"ibm-card ibm-duo-card ibm-card--noborder ibm-mb-0\">\\n\\n  \\n      <div class=\"ibm-blocklink ibm-duo-card__link ibm-background-cool-gray-10\">\\n          <div class=\"ibm-card__content ibm-duo-card__content\">\\n      <div class=\"ibm-grid-container\">\\n        <div class=\"ibm-grid-col-sm-4-4 ibm-grid-col-md-8-7 ibm-grid-col-lg-16-14 ibm-pb-4\">\\n          \\n          \\n          \\n                      <div class=\"bx--type-body-long-02 ibm-textcolor-gray-70 ibm-mb-3 ibm-duo-card__desc\">\\n                          <p><strong>\u958b\u767a\u8005\u7528\u30c4\u30fc\u30eb</strong><br />\\n\\xa0</p>\\n\\n<ul><li><a href=\"https://developer.ibm.com/depmodels/cloud/?lnk=hpv18ct16\">\u30af\u30e9\u30a6\u30c9\uff08\u82f1\u8a9e\uff09</a></li>\\n\\t<li><a href=\"https://developer.ibm.com/technologies/artificial-intelligence?lnk=hpv18ct19\">\u4eba\u5de5\u77e5\u80fd\uff08\u82f1\u8a9e\uff09</a></li>\\n\\t<li><a href=\"https://www.ibm.com/demos/?lc=ja&amp;lnk=hpv18ct12\">\u30c7\u30e2</a></li>\\n\\t<li><a href=\"https://developer.ibm.com/?lnk=hpv18ct9\">IBM Developer\uff08\u82f1\u8a9e\uff09</a></li>\\n\\t<li><a href=\"https://www.ibm.com/support/knowledgecenter/ja/?lnk=hpv18ct14\">\u8cc7\u6599</a></li>\\n\\t<li><a data-entity-substitution=\"\" data-entity-type=\"\" data-entity-uuid=\"\" href=\"https://www.redbooks.ibm.com/?lnk=ushpv18ct10\">Redbooks\uff08\u82f1\u8a9e\uff09</a></li>\\n\\t<li><a href=\"https://www.ibm.com/mysupport/s/?language=ja&amp;lnk=hpv18ct11\">\u30b5\u30dd\u30fc\u30c8</a></li>\\n\\t<li><a href=\"https://www.ibm.com/training/?lnk=hpv18ct15\">\u7814\u4fee\u3068\u30b9\u30ad\u30eb\uff08\u82f1\u8a9e\uff09</a></li>\\n</ul>\\n      \\n            </div>\\n                  </div>\\n      </div>\\n    </div>\\n\\n      \\n    </div>\\n  </div>\\n\\n\\n                </div>\\n                          <div class=\"ibm-grid-col-sm-4-4 ibm-grid-col-md-8-4 ibm-duo-carousel__item ibm-duo-carousel-2b__item\">\\n                    \\n\\n\\n\\n\\n\\n<div class=\"ibm-card ibm-duo-card ibm-card--noborder ibm-mb-0\">\\n\\n  \\n      <div class=\"ibm-blocklink ibm-duo-card__link ibm-background-cool-gray-10\">\\n          <div class=\"ibm-card__content ibm-duo-card__content\">\\n      <div class=\"ibm-grid-container\">\\n        <div class=\"ibm-grid-col-sm-4-4 ibm-grid-col-md-8-7 ibm-grid-col-lg-16-14 ibm-pb-4\">\\n          \\n          \\n          \\n                      <div class=\"bx--type-body-long-02 ibm-textcolor-gray-70 ibm-mb-3 ibm-duo-card__desc\">\\n                          <p><strong>\u6ce8\u76ee\u306e\u30c8\u30d4\u30c3\u30af\u30b9</strong><br />\\n\\xa0</p>\\n\\n<ul><li><a data-entity-substitution=\"\" data-entity-type=\"\" data-entity-uuid=\"\" href=\"/jp-ja/smarter-business?lnk=hpv18ct20\">DX</a></li>\\n\\t<li><a data-entity-substitution=\"\" data-entity-type=\"\" data-entity-uuid=\"\" href=\"/jp-ja/cloud/application-modernization?lnk=hpv18ct1\">\u30e2\u30c0\u30ca\u30a4\u30bc\u30fc\u30b7\u30e7\u30f3</a></li>\\n\\t<li><a href=\"/jp-ja/cloud/redhat?lnk=hpv18ct13\">Red Hat</a></li>\\n\\t<li><a href=\"/jp-ja/watson?lnk=hpv18ct3\">\u4eba\u5de5\u77e5\u80fd</a></li>\\n\\t<li><a href=\"/jp-ja/quantum-computing?lnk=hpv18ct18\">\u91cf\u5b50\u30b3\u30f3\u30d4\u30e5\u30fc\u30c6\u30a3\u30f3\u30b0</a></li>\\n\\t<li><a href=\"/jp-ja/cloud/kubernetes-service?lnk=hpv18ct8\">Kubernetes</a></li>\\n\\t<li><a href=\"/jp-ja/products/spss-statistics?lnk=ushpv18ct7\">SPSS</a></li>\\n\\t<li><a href=\"https://www.ibm.com/jp-ja/employment/?lnk=hpv18ct2\">\u63a1\u7528\u60c5\u5831</a></li>\\n</ul>\\n      \\n            </div>\\n                  </div>\\n      </div>\\n    </div>\\n\\n      \\n    </div>\\n  </div>\\n\\n\\n                </div>\\n                        <span class=\"ibm-duo-carousel__counter ibm-duo-carousel__counter--3 bx--type-body-long-01 ibm-mb-1 ibm-textcolor-gray-90\"></span>\\n          </div>\\n        </div>\\n      \\n    </div>\\n  </section>\\n\\n              \\n\\n\\n\\n\\n\\n  <section  role=\"article\" about=\"/jp-ja/node/2598824\" id=\"2598824\" class=\"ibm-duo-band ibm-duo-module-11a-double ibm-background-gray-100\" data-bg-lazy-load>\\n          <div class=\"ibm-grid-container\" data-widget=\"setsameheight\" data-always=\"true\" data-items=\".ibm-duo-module-11a-double__headline\">\\n                  <div class=\"ibm-grid-col-sm-4-4 ibm-grid-col-md-8-4 ibm-grid-col-lg-16-8 ibm-grid-col-seamless\">\\n                \\n\\n\\n\\n\\n<div class=\"ibm-duo-module-11a-double ibm-duo-module-11a-double__item ibm-background-gray-100\">\\n      <div class=\"ibm-duo-module-11a-double__bg ibm-duo-u--overlay ibm-duo-u--overlay--dark ani-reveal ani-fadeInUp\" style=\"background-image:url(\\'//1.cms.s81c.com/sites/default/files/2021-04-08/jp-ja-spotright-q-800x800_0.jpg\\')\" role=\"img\" aria-label=\"IBM Quantum\u306e\u753b\u50cf\"></div>\\n  \\n  <div class=\"ibm-grid-container ibm-duo-module-11a-double__content\">\\n    <div class=\"ibm-grid-col-sm-4-4 ibm-grid-col-md-8-8 ibm-grid-col-lg-16-10\">\\n              <div class=\"ibm-grid-col-sm-4-3 ibm-grid-col-md-8-6 ibm-grid-col-lg-16-16 ibm-grid-col-seamless\">\\n          <h2 class=\"bx--type-expressive-heading-05 ibm-type-light ibm-textcolor-gray-10 ibm-mb-3 ibm-pb-0 ibm-duo-module-11a-double__headline ani-reveal ani-fadeInUp\">\\n                <span > IBM Quantum Computing</span>\\n\\n          </h2>\\n        </div>\\n      \\n              <div class=\"ibm-grid-col-sm-4-3 ibm-grid-col-md-8-6 ibm-grid-col-lg-16-12 ibm-grid-col-seamless\">\\n          <div class=\"bx--type-body-long-02 ibm-textcolor-gray-30 ibm-mb-0 ibm-duo-module-11a-double__subhead ibm-pb-1 ani-reveal ani-fadeInUp\">\\n                        <p>IBM Quantum\u306f\u3001\u91cf\u5b50\u30b3\u30f3\u30d4\u30e5\u30fc\u30c6\u30a3\u30f3\u30b0\u306e\u5206\u91ce\u3067\u4e16\u754c\u3092\u30ea\u30fc\u30c9\u3057\u3066\u3044\u307e\u3059\u3002</p>\\n      \\n          </div>\\n        </div>\\n          </div>\\n  </div>\\n\\n      <div class=\"ibm-duo-module-11a-double__cta\">\\n      <div class=\"ibm-grid-container\">\\n        <div class=\"ibm-grid-col-sm-4-2 ibm-grid-col-md-8-4 ibm-grid-col-lg-16-8\"></div>\\n        <div class=\"ibm-grid-col-sm-4-2 ibm-grid-col-md-8-4 ibm-grid-col-lg-16-8 ibm-duo-module-11a-double__cta-wrapper\">\\n          \\n\\n        \\n  \\n  \\n  \\n\\n\\n\\n\\n\\n  <a  target=\"_self\" href=\"/jp-ja/quantum-computing\" class=\"ibm-duo-cta ani-reveal ani-fadeInUp\">\\n    <p class=\\'ibm-type-e ibm-textcolor-white-core ibm-p ibm-mb-0\\'>\u8fd1\u672a\u6765\u306e\u30b3\u30f3\u30d4\u30e5\u30fc\u30c6\u30a3\u30f3\u30b0\u304c\u4eca\u3053\u3053\u306b</p>\\n    <div class=\"ibm-duo-u--link-icon\">\\n      \\n    \\n        \\n\\n                  <svg focusable=\"false\" preserveAspectRatio=\"xMidYMid meet\" xmlns=\"http://www.w3.org/2000/svg\" fill=\"currentColor\" aria-hidden=\"true\" width=\"20\" height=\"20\" viewBox=\"0 0 20 20\" slot=\"icon\"><title>IBM\u53f3\u77e2\u5370</title><path d=\"M11.8 2.8L10.8 3.8 16.2 9.3 1 9.3 1 10.7 16.2 10.7 10.8 16.2 11.8 17.2 19 10z\"></path></svg>\\n          \\n    \\n    </div>\\n  </a>\\n\\n\\n        </div>\\n      </div>\\n    </div>\\n  </div>\\n\\n\\n            </div>\\n                  <div class=\"ibm-grid-col-sm-4-4 ibm-grid-col-md-8-4 ibm-grid-col-lg-16-8 ibm-grid-col-seamless\">\\n                \\n\\n\\n\\n\\n<div class=\"ibm-duo-module-11a-double ibm-duo-module-11a-double__item ibm-background-gray-100\">\\n      <div class=\"ibm-duo-module-11a-double__bg ibm-duo-u--overlay ibm-duo-u--overlay--dark ani-reveal ani-fadeInUp\" style=\"background-image:url(\\'//1.cms.s81c.com/sites/default/files/2021-02-26/cs-hub-logos-1042x1130.png\\')\" role=\"img\" aria-label=\"IBM\u306e\u3055\u307e\u3056\u307e\u306a\u304a\u5ba2\u69d8\u306e\u30ed\u30b4\"></div>\\n  \\n  <div class=\"ibm-grid-container ibm-duo-module-11a-double__content\">\\n    <div class=\"ibm-grid-col-sm-4-4 ibm-grid-col-md-8-8 ibm-grid-col-lg-16-10\">\\n              <div class=\"ibm-grid-col-sm-4-3 ibm-grid-col-md-8-6 ibm-grid-col-lg-16-16 ibm-grid-col-seamless\">\\n          <h2 class=\"bx--type-expressive-heading-05 ibm-type-light ibm-textcolor-gray-10 ibm-mb-3 ibm-pb-0 ibm-duo-module-11a-double__headline ani-reveal ani-fadeInUp\">\\n                <span > \u304a\u5ba2\u69d8\u4e8b\u4f8b\u306e\u3054\u7d39\u4ecb</span>\\n\\n          </h2>\\n        </div>\\n      \\n              <div class=\"ibm-grid-col-sm-4-3 ibm-grid-col-md-8-6 ibm-grid-col-lg-16-12 ibm-grid-col-seamless\">\\n          <div class=\"bx--type-body-long-02 ibm-textcolor-gray-30 ibm-mb-0 ibm-duo-module-11a-double__subhead ibm-pb-1 ani-reveal ani-fadeInUp\">\\n                        <p>IBM\u306f\u4e16\u754c\u4e2d\u306e\u3042\u3089\u3086\u308b\u696d\u754c\u3067\u3001\u304a\u5ba2\u69d8\u306e\u76ee\u6a19\u306e\u9054\u6210\u3092\u652f\u63f4\u3057\u3066\u3044\u307e\u3059\u3002</p>\\n      \\n          </div>\\n        </div>\\n          </div>\\n  </div>\\n\\n      <div class=\"ibm-duo-module-11a-double__cta\">\\n      <div class=\"ibm-grid-container\">\\n        <div class=\"ibm-grid-col-sm-4-2 ibm-grid-col-md-8-4 ibm-grid-col-lg-16-8\"></div>\\n        <div class=\"ibm-grid-col-sm-4-2 ibm-grid-col-md-8-4 ibm-grid-col-lg-16-8 ibm-duo-module-11a-double__cta-wrapper\">\\n          \\n\\n        \\n  \\n  \\n  \\n\\n\\n\\n\\n\\n  <a  target=\"_self\" href=\"https://www.ibm.com/industries/jp/ja/case-studies/?lnk=hpv18cs2\" class=\"ibm-duo-cta ani-reveal ani-fadeInUp\">\\n    <p class=\\'ibm-type-e ibm-textcolor-white-core ibm-p ibm-mb-0\\'>IBM\u306e\u30c6\u30af\u30ce\u30ed\u30b8\u30fc\u304c\u5b9f\u969b\u306b\u4e16\u754c\u4e2d\u3067\u63a8\u9032\u3057\u3066\u3044\u308b\u30bd\u30ea\u30e5\u30fc\u30b7\u30e7\u30f3\u306e\u4e8b\u4f8b\u306f\u3053\u3061\u3089</p>\\n    <div class=\"ibm-duo-u--link-icon\">\\n      \\n    \\n        \\n\\n                  <svg focusable=\"false\" preserveAspectRatio=\"xMidYMid meet\" xmlns=\"http://www.w3.org/2000/svg\" fill=\"currentColor\" aria-hidden=\"true\" width=\"20\" height=\"20\" viewBox=\"0 0 20 20\" slot=\"icon\"><title>IBM\u53f3\u77e2\u5370</title><path d=\"M11.8 2.8L10.8 3.8 16.2 9.3 1 9.3 1 10.7 16.2 10.7 10.8 16.2 11.8 17.2 19 10z\"></path></svg>\\n          \\n    \\n    </div>\\n  </a>\\n\\n\\n        </div>\\n      </div>\\n    </div>\\n  </div>\\n\\n\\n            </div>\\n              <div>\\n      </section>\\n\\n      \\n          </div>\\n\\n        </div>       </div>     </div>   </div> </main>\\n\\n  </div>\\n\\n  </div>\\n\\n  </div>\\n    <footer role=\"contentinfo\" aria-label=\"IBM\">\\n      <div class=\"region region-footer\">\\n    \\n\\n<div id=\"ibm-footer-module\">\\n    <section role=\"region\" aria-label=\"Resources\">\\n\\n            <div class=\"ibm-columns\">\\n              </div>\\n      \\n        \\n    </section>\\n\\n</div>\\n\\n\\n<div id=\"ibm-footer\">\\n\\n    <div class=\"ibm-columns\">\\n      <div class=\"ibm-col-1-1\">\\n                  <div class=\"ibm-footer-corporate-links\">\\n            <ul>\\n                            <li id=\"ibm-truste-cp\">\\n                <a href=\"#\" onclick=\"truste.eu.clickListener();return false;\">Cookie\u306e\u8a2d\u5b9a</a>\\n              </li>\\n            </ul>\\n          </div>\\n        \\n                </div>\\n    </div>\\n\\n</div>\\n\\n  </div>\\n\\n  </footer>\\n  \\n</div>\\n\\n  </div>\\n\\n    \\n    <script type=\"application/json\" data-drupal-selector=\"drupal-settings-json\">{\"path\":{\"baseUrl\":\"\\\\/\",\"scriptPath\":null,\"pathPrefix\":\"jp-ja\\\\/\",\"currentPath\":\"node\\\\/2598578\",\"currentPathIsAdmin\":false,\"isFront\":false,\"currentLanguage\":\"ja-jp\"},\"pluralDelimiter\":\"\\\\u0003\",\"suppressDeprecationErrors\":true,\"ajaxPageState\":{\"libraries\":\"core\\\\/html5shiv,hc_fractal\\\\/01-1b,hc_fractal\\\\/02-2b,hc_fractal\\\\/05-5e,hc_fractal\\\\/11-11a-double,hc_fractal\\\\/12-12a,hc_fractal\\\\/animations,hc_fractal\\\\/card,hc_fractal\\\\/card-image,hc_fractal\\\\/full-width-double,hc_fractal\\\\/full-width-text,hc_fractal\\\\/heading,hc_fractal\\\\/image,hc_fractal\\\\/main_css,hc_fractal\\\\/main_js,hc_fractal\\\\/picturefill_background,hc_fractal\\\\/slick,ibm_ckeditor\\\\/ibm_ckeditor_table_style,ibm_tmgmt_concurrency\\\\/ibm_tmgmt_concurrency_messaging,ibm_tmgmt_concurrency\\\\/ibm_tmgmt_concurrency_publisher,ibm_tmgmt_concurrency\\\\/ibm_tmgmt_concurrency_publisher_finish,metadata\\\\/focus_area,northstar\\\\/grid-fluid,northstar\\\\/shame,northstar\\\\/stats,northstar\\\\/tables,system\\\\/base,tactic_codes\\\\/tactic_codes\",\"theme\":\"ibm_duo\",\"theme_token\":\"q_TRCUpD2MQmLyCgUShbFlr9VGt5tGZKTX2fUFU75QI\"},\"ajaxTrustedUrl\":[],\"ibm_tmgmt_concurrency_publisher\":{\"nid\":\"2598578\",\"language\":\"ja-jp\",\"submit_button\":\"#edit-submit\",\"form\":\"#content-moderation-entity-moderation-form\",\"route\":\"entity.node.canonical\"},\"user\":{\"uid\":0,\"permissionsHash\":\"38c521f2e73acba97a244c38ca669a8077be690dd45b09557a61cf00896ec935\"}}</script>\\n<script src=\"//1.cms.s81c.com/sites/default/files/js/js_34jg0TvjAu7OQXFQOQsw1uKTYfXzyGuy0IUMHk8SlZU.js\"></script>\\n<script src=\"//www.ibm.com/common/digitaladvisor/cm-app/latest/cm-app.min.js\" defer></script>\\n<script src=\"//1.www.s81c.com/common/v18/drupal/js/tables.js\" defer></script>\\n<script src=\"//1.cms.s81c.com/modules/contrib/hc_fractal/dist/js/interactions.js?v=1.1.11\" defer></script>\\n<script src=\"//1.cms.s81c.com/modules/contrib/hc_fractal/dist/js/background-image-lazy-load.js?v=1.1.11\" defer></script>\\n<script src=\"//1.www.s81c.com/common/js/tactic.js\" defer></script>\\n<script src=\"//1.www.s81c.com/common/js/tacticbindlinks.js\" defer></script>\\n<script src=\"//1.cms.s81c.com/sites/default/files/js/js_u2jeYnuguWfCew6-ZT-5A6EwRtJYJvsrgO2_ea5EW8A.js\"></script>\\n<script src=\"//1.cms.s81c.com/modules/contrib/hc_fractal/dist/js/slick-sliders.js?v=1.1.17\" defer></script>\\n<script src=\"//1.cms.s81c.com/modules/contrib/hc_fractal/dist/js/plugins/picturefill-background.js?v=1.1.10\" defer></script>\\n\\n      <script type=\"text/javascript\"  src=\"/dncXzoy4XgNa8vWwU3LD/Ymu5fp4h/ZV46Lw/Q05vbS/QAY2I\"></script></body>\\n</html>\\n'"
                    },
                    "metadata": {}
                }
            ]
        },
        {
            "metadata": {},
            "cell_type": "markdown",
            "source": "We create a <code>BeautifulSoup</code> object using the <code>BeautifulSoup</code> constructor\n"
        },
        {
            "metadata": {},
            "cell_type": "code",
            "source": "soup = BeautifulSoup(data,\"html5lib\")  # create a soup object using the variable 'data'",
            "execution_count": 49,
            "outputs": []
        },
        {
            "metadata": {},
            "cell_type": "markdown",
            "source": "Scrape all links\n"
        },
        {
            "metadata": {},
            "cell_type": "code",
            "source": "for link in soup.find_all('a',href=True):  # in html anchor/link is represented by the tag <a>\n\n    print(link.get('href'))\n",
            "execution_count": 50,
            "outputs": [
                {
                    "output_type": "stream",
                    "text": "https://www.ibm.com/jp/ja\nhttps://www.ibm.com/sitemap/jp/ja\nhttps://jp.newsroom.ibm.com/2021-07-27-Launched-Japan-first-gate-type-commercial-quantum-computer?lnk=jphpv18l1&lnk2=learn\nhttps://www.ibm.com/jp-ja/quantum-computing?lnk=jphpv18l1&lnk2=learn\nhttps://developer.ibm.com/callforcode/?lnk=hpv18nf1\nhttps://www.ibm.com/blogs/solutions/jp-ja/category/bigdata-analytics/spss-modeler-himotoku/?lnk=jphpv18f1&lnk2=learn\nhttps://www.ibm.com/blogs/solutions/jp-ja/synnex-ibm-cloud-business-for-smb/?lnk=jphpv18f2&lnk2=learn\nhttps://www.ibm.com/think/jp-ja/business/i-workflow-2021?lnk=jphpv18f3&lnk2=learn\nhttps://www.ibm.com/jp-ja/events/x-online?lnk=jphpv18f4&lnk2=learn\n/jp-ja/products/trials\n/jp-ja/products/mq\n/jp-ja/cloud/aspera\n/jp-ja/products/storage-suite-for-ibm-cloud-paks\n/jp-ja/cloud/hybrid?lnk=hpv18pt14\n/cloud/learn/public-cloud?lnk=hpv18ct1\n/jp-ja/watson?lnk=ushpv18pt17\n/jp-ja/garage?lnk=hpv18pt13\n/jp-ja/blockchain?lnk=hpv18pt4\nhttps://www.ibm.com/jp-ja/analytics?lnk=hpv18pt1\n/jp-ja/security?lnk=hpv18pt9\n/jp-ja/quantum-computing?lnk=hpv18pt16\n/jp-ja/financing?lnk=hpv18pt3\nhttps://www.ibm.com/services/jp-ja/studies/thoughtleadership/?lnk=hpv18pt12\nhttps://developer.ibm.com/depmodels/cloud/?lnk=hpv18ct16\nhttps://developer.ibm.com/technologies/artificial-intelligence?lnk=hpv18ct19\nhttps://www.ibm.com/demos/?lc=ja&lnk=hpv18ct12\nhttps://developer.ibm.com/?lnk=hpv18ct9\nhttps://www.ibm.com/support/knowledgecenter/ja/?lnk=hpv18ct14\nhttps://www.redbooks.ibm.com/?lnk=ushpv18ct10\nhttps://www.ibm.com/mysupport/s/?language=ja&lnk=hpv18ct11\nhttps://www.ibm.com/training/?lnk=hpv18ct15\n/jp-ja/smarter-business?lnk=hpv18ct20\n/jp-ja/cloud/application-modernization?lnk=hpv18ct1\n/jp-ja/cloud/redhat?lnk=hpv18ct13\n/jp-ja/watson?lnk=hpv18ct3\n/jp-ja/quantum-computing?lnk=hpv18ct18\n/jp-ja/cloud/kubernetes-service?lnk=hpv18ct8\n/jp-ja/products/spss-statistics?lnk=ushpv18ct7\nhttps://www.ibm.com/jp-ja/employment/?lnk=hpv18ct2\n/jp-ja/quantum-computing\nhttps://www.ibm.com/industries/jp/ja/case-studies/?lnk=hpv18cs2\n#\n",
                    "name": "stdout"
                }
            ]
        },
        {
            "metadata": {},
            "cell_type": "markdown",
            "source": "## Scrape  all images  Tags\n"
        },
        {
            "metadata": {},
            "cell_type": "code",
            "source": "for link in soup.find_all('img'):# in html image is represented by the tag <img>\n    print(link)\n    print(link.get('src'))",
            "execution_count": 52,
            "outputs": [
                {
                    "output_type": "stream",
                    "text": "<img alt=\"\u65e5\u672cIBM \u7267\u91ce\u6c0f\u3001\u897f\u7267\u6c0f\" class=\"\" loading=\"lazy\" src=\"//1.cms.s81c.com/sites/default/files/2021-07-21/this-week-at-ibm-himotoku-20210726-444x254_0.jpg\"/>\n//1.cms.s81c.com/sites/default/files/2021-07-21/this-week-at-ibm-himotoku-20210726-444x254_0.jpg\n<img alt=\"IBM Cloud \u30ed\u30b4\" class=\"\" loading=\"lazy\" src=\"//1.cms.s81c.com/sites/default/files/2021-07-21/this-week-at-ibm-cloud-20210621-444x254.jpg\"/>\n//1.cms.s81c.com/sites/default/files/2021-07-21/this-week-at-ibm-cloud-20210621-444x254.jpg\n<img alt=\"\u65e5\u672cIBM \u677e\u5c3e\u6c0f\" class=\"\" loading=\"lazy\" src=\"//1.cms.s81c.com/sites/default/files/2021-07-16/this-week-at-ibm-i-workflow-20210719-444x254.jpg\"/>\n//1.cms.s81c.com/sites/default/files/2021-07-16/this-week-at-ibm-i-workflow-20210719-444x254.jpg\n<img alt=\"\u9752\u306e\u30b0\u30e9\u30c7\u30fc\u30b7\u30e7\u30f3\u3092\u80cc\u666f\u306bX\u306e\u6587\u5b57\u304c\u30c7\u30b6\u30a4\u30f3\u3055\u308c\u3066\u3044\u308b\" class=\"\" loading=\"lazy\" src=\"//1.cms.s81c.com/sites/default/files/2021-04-16/this-week-at-ibm-xonline-20210419-444x254.jpg\"/>\n//1.cms.s81c.com/sites/default/files/2021-04-16/this-week-at-ibm-xonline-20210419-444x254.jpg\n<img alt=\"IBM MQ\u30da\u30fc\u30b8\u306e\u30b9\u30af\u30ea\u30fc\u30f3\u30b7\u30e7\u30c3\u30c8\" class=\"\" loading=\"lazy\" src=\"//1.cms.s81c.com/sites/default/files/2021-06-11/mq-trial.png\"/>\n//1.cms.s81c.com/sites/default/files/2021-06-11/mq-trial.png\n<img alt=\"IBM Aspera on Cloud\u306e\u30b9\u30af\u30ea\u30fc\u30f3\u30b7\u30e7\u30c3\u30c8\" class=\"\" loading=\"lazy\" src=\"//1.cms.s81c.com/sites/default/files/2021-06-11/aspera-trial.png\"/>\n//1.cms.s81c.com/sites/default/files/2021-06-11/aspera-trial.png\n<img alt=\"Storage Suite for IBM Cloud Paks\u306e\u30b9\u30af\u30ea\u30fc\u30f3\u30fb\u30b7\u30e7\u30c3\u30c8\" class=\"\" loading=\"lazy\" src=\"//1.cms.s81c.com/sites/default/files/2021-04-08/storage-suite-for-cloud-pak-trial.png\"/>\n//1.cms.s81c.com/sites/default/files/2021-04-08/storage-suite-for-cloud-pak-trial.png\n",
                    "name": "stdout"
                }
            ]
        },
        {
            "metadata": {},
            "cell_type": "markdown",
            "source": "## Scrape data from HTML tables\n"
        },
        {
            "metadata": {},
            "cell_type": "code",
            "source": "#The below url contains an html table with data about colors and color codes.\nurl = \"https://cf-courses-data.s3.us.cloud-object-storage.appdomain.cloud/IBM-DA0321EN-SkillsNetwork/labs/datasets/HTMLColorCodes.html\"",
            "execution_count": 53,
            "outputs": []
        },
        {
            "metadata": {},
            "cell_type": "markdown",
            "source": "Before proceeding to scrape a web site, you need to examine the contents, and the way data is organized on the website. Open the above url in your browser and check how many rows and columns are there in the color table.\n"
        },
        {
            "metadata": {},
            "cell_type": "code",
            "source": "# get the contents of the webpage in text format and store in a variable called data\ndata  = requests.get(url).text",
            "execution_count": 54,
            "outputs": []
        },
        {
            "metadata": {},
            "cell_type": "code",
            "source": "soup = BeautifulSoup(data,\"html5lib\")",
            "execution_count": 55,
            "outputs": []
        },
        {
            "metadata": {},
            "cell_type": "code",
            "source": "#find a html table in the web page\ntable = soup.find('table') # in html table is represented by the tag <table>",
            "execution_count": 56,
            "outputs": []
        },
        {
            "metadata": {},
            "cell_type": "code",
            "source": "#Get all rows from the table\nfor row in table.find_all('tr'): # in html table row is represented by the tag <tr>\n    # Get all columns in each row.\n    cols = row.find_all('td') # in html a column is represented by the tag <td>\n    color_name = cols[2].string # store the value in column 3 as color_name\n    color_code = cols[3].string # store the value in column 4 as color_code\n    print(\"{}--->{}\".format(color_name,color_code))",
            "execution_count": 57,
            "outputs": [
                {
                    "output_type": "stream",
                    "text": "Color Name--->None\nlightsalmon--->#FFA07A\nsalmon--->#FA8072\ndarksalmon--->#E9967A\nlightcoral--->#F08080\ncoral--->#FF7F50\ntomato--->#FF6347\norangered--->#FF4500\ngold--->#FFD700\norange--->#FFA500\ndarkorange--->#FF8C00\nlightyellow--->#FFFFE0\nlemonchiffon--->#FFFACD\npapayawhip--->#FFEFD5\nmoccasin--->#FFE4B5\npeachpuff--->#FFDAB9\npalegoldenrod--->#EEE8AA\nkhaki--->#F0E68C\ndarkkhaki--->#BDB76B\nyellow--->#FFFF00\nlawngreen--->#7CFC00\nchartreuse--->#7FFF00\nlimegreen--->#32CD32\nlime--->#00FF00\nforestgreen--->#228B22\ngreen--->#008000\npowderblue--->#B0E0E6\nlightblue--->#ADD8E6\nlightskyblue--->#87CEFA\nskyblue--->#87CEEB\ndeepskyblue--->#00BFFF\nlightsteelblue--->#B0C4DE\ndodgerblue--->#1E90FF\n",
                    "name": "stdout"
                }
            ]
        },
        {
            "metadata": {},
            "cell_type": "markdown",
            "source": "## Scrape data from HTML tables into a DataFrame using BeautifulSoup and Pandas\n"
        },
        {
            "metadata": {},
            "cell_type": "code",
            "source": "import pandas as pd",
            "execution_count": 58,
            "outputs": []
        },
        {
            "metadata": {},
            "cell_type": "code",
            "source": "#The below url contains html tables with data about world population.\nurl = \"https://en.wikipedia.org/wiki/World_population\"",
            "execution_count": 59,
            "outputs": []
        },
        {
            "metadata": {},
            "cell_type": "markdown",
            "source": "Before proceeding to scrape a web site, you need to examine the contents, and the way data is organized on the website. Open the above url in your browser and check the tables on the webpage.\n"
        },
        {
            "metadata": {},
            "cell_type": "code",
            "source": "# get the contents of the webpage in text format and store in a variable called data\ndata  = requests.get(url).text",
            "execution_count": 60,
            "outputs": []
        },
        {
            "metadata": {},
            "cell_type": "code",
            "source": "soup = BeautifulSoup(data,\"html5lib\")",
            "execution_count": 61,
            "outputs": []
        },
        {
            "metadata": {},
            "cell_type": "code",
            "source": "#find all html tables in the web page\ntables = soup.find_all('table') # in html table is represented by the tag <table>",
            "execution_count": 62,
            "outputs": []
        },
        {
            "metadata": {},
            "cell_type": "code",
            "source": "# we can see how many tables were found by checking the length of the tables list\nlen(tables)",
            "execution_count": 63,
            "outputs": [
                {
                    "output_type": "execute_result",
                    "execution_count": 63,
                    "data": {
                        "text/plain": "26"
                    },
                    "metadata": {}
                }
            ]
        },
        {
            "metadata": {},
            "cell_type": "markdown",
            "source": "Assume that we are looking for the `10 most densly populated countries` table, we can look through the tables list and find the right one we are look for based on the data in each table or we can search for the table name if it is in the table but this option might not always work.\n"
        },
        {
            "metadata": {},
            "cell_type": "code",
            "source": "for index,table in enumerate(tables):\n    if (\"10 most densely populated countries\" in str(table)):\n        table_index = index\nprint(table_index)",
            "execution_count": 64,
            "outputs": [
                {
                    "output_type": "stream",
                    "text": "5\n",
                    "name": "stdout"
                }
            ]
        },
        {
            "metadata": {},
            "cell_type": "markdown",
            "source": "See if you can locate the table name of the table, `10 most densly populated countries`, below.\n"
        },
        {
            "metadata": {},
            "cell_type": "code",
            "source": "print(tables[table_index].prettify())",
            "execution_count": 65,
            "outputs": [
                {
                    "output_type": "stream",
                    "text": "<table class=\"wikitable sortable\" style=\"text-align:right\">\n <caption>\n  10 most densely populated countries\n  <small>\n   (with population above 5 million)\n  </small>\n </caption>\n <tbody>\n  <tr>\n   <th>\n    Rank\n   </th>\n   <th>\n    Country\n   </th>\n   <th>\n    Population\n   </th>\n   <th>\n    Area\n    <br/>\n    <small>\n     (km\n     <sup>\n      2\n     </sup>\n     )\n    </small>\n   </th>\n   <th>\n    Density\n    <br/>\n    <small>\n     (pop/km\n     <sup>\n      2\n     </sup>\n     )\n    </small>\n   </th>\n  </tr>\n  <tr>\n   <td>\n    1\n   </td>\n   <td align=\"left\">\n    <span class=\"flagicon\">\n     <img alt=\"\" class=\"thumbborder\" data-file-height=\"3456\" data-file-width=\"5184\" decoding=\"async\" height=\"15\" src=\"//upload.wikimedia.org/wikipedia/commons/thumb/4/48/Flag_of_Singapore.svg/23px-Flag_of_Singapore.svg.png\" srcset=\"//upload.wikimedia.org/wikipedia/commons/thumb/4/48/Flag_of_Singapore.svg/35px-Flag_of_Singapore.svg.png 1.5x, //upload.wikimedia.org/wikipedia/commons/thumb/4/48/Flag_of_Singapore.svg/45px-Flag_of_Singapore.svg.png 2x\" width=\"23\"/>\n    </span>\n    <a href=\"/wiki/Singapore\" title=\"Singapore\">\n     Singapore\n    </a>\n   </td>\n   <td>\n    5,704,000\n   </td>\n   <td>\n    710\n   </td>\n   <td>\n    8,033\n   </td>\n  </tr>\n  <tr>\n   <td>\n    2\n   </td>\n   <td align=\"left\">\n    <span class=\"flagicon\">\n     <img alt=\"\" class=\"thumbborder\" data-file-height=\"600\" data-file-width=\"1000\" decoding=\"async\" height=\"14\" src=\"//upload.wikimedia.org/wikipedia/commons/thumb/f/f9/Flag_of_Bangladesh.svg/23px-Flag_of_Bangladesh.svg.png\" srcset=\"//upload.wikimedia.org/wikipedia/commons/thumb/f/f9/Flag_of_Bangladesh.svg/35px-Flag_of_Bangladesh.svg.png 1.5x, //upload.wikimedia.org/wikipedia/commons/thumb/f/f9/Flag_of_Bangladesh.svg/46px-Flag_of_Bangladesh.svg.png 2x\" width=\"23\"/>\n    </span>\n    <a href=\"/wiki/Bangladesh\" title=\"Bangladesh\">\n     Bangladesh\n    </a>\n   </td>\n   <td>\n    171,090,000\n   </td>\n   <td>\n    143,998\n   </td>\n   <td>\n    1,188\n   </td>\n  </tr>\n  <tr>\n   <td>\n    3\n   </td>\n   <td align=\"left\">\n    <span class=\"flagicon\">\n     <img alt=\"\" class=\"thumbborder\" data-file-height=\"600\" data-file-width=\"900\" decoding=\"async\" height=\"15\" src=\"//upload.wikimedia.org/wikipedia/commons/thumb/5/59/Flag_of_Lebanon.svg/23px-Flag_of_Lebanon.svg.png\" srcset=\"//upload.wikimedia.org/wikipedia/commons/thumb/5/59/Flag_of_Lebanon.svg/35px-Flag_of_Lebanon.svg.png 1.5x, //upload.wikimedia.org/wikipedia/commons/thumb/5/59/Flag_of_Lebanon.svg/45px-Flag_of_Lebanon.svg.png 2x\" width=\"23\"/>\n    </span>\n    <a href=\"/wiki/Lebanon\" title=\"Lebanon\">\n     Lebanon\n    </a>\n   </td>\n   <td>\n    6,856,000\n   </td>\n   <td>\n    10,452\n   </td>\n   <td>\n    656\n   </td>\n  </tr>\n  <tr>\n   <td>\n    4\n   </td>\n   <td align=\"left\">\n    <span class=\"flagicon\">\n     <img alt=\"\" class=\"thumbborder\" data-file-height=\"600\" data-file-width=\"900\" decoding=\"async\" height=\"15\" src=\"//upload.wikimedia.org/wikipedia/commons/thumb/7/72/Flag_of_the_Republic_of_China.svg/23px-Flag_of_the_Republic_of_China.svg.png\" srcset=\"//upload.wikimedia.org/wikipedia/commons/thumb/7/72/Flag_of_the_Republic_of_China.svg/35px-Flag_of_the_Republic_of_China.svg.png 1.5x, //upload.wikimedia.org/wikipedia/commons/thumb/7/72/Flag_of_the_Republic_of_China.svg/45px-Flag_of_the_Republic_of_China.svg.png 2x\" width=\"23\"/>\n    </span>\n    <a href=\"/wiki/Taiwan\" title=\"Taiwan\">\n     Taiwan\n    </a>\n   </td>\n   <td>\n    23,604,000\n   </td>\n   <td>\n    36,193\n   </td>\n   <td>\n    652\n   </td>\n  </tr>\n  <tr>\n   <td>\n    5\n   </td>\n   <td align=\"left\">\n    <span class=\"flagicon\">\n     <img alt=\"\" class=\"thumbborder\" data-file-height=\"600\" data-file-width=\"900\" decoding=\"async\" height=\"15\" src=\"//upload.wikimedia.org/wikipedia/commons/thumb/0/09/Flag_of_South_Korea.svg/23px-Flag_of_South_Korea.svg.png\" srcset=\"//upload.wikimedia.org/wikipedia/commons/thumb/0/09/Flag_of_South_Korea.svg/35px-Flag_of_South_Korea.svg.png 1.5x, //upload.wikimedia.org/wikipedia/commons/thumb/0/09/Flag_of_South_Korea.svg/45px-Flag_of_South_Korea.svg.png 2x\" width=\"23\"/>\n    </span>\n    <a href=\"/wiki/South_Korea\" title=\"South Korea\">\n     South Korea\n    </a>\n   </td>\n   <td>\n    51,781,000\n   </td>\n   <td>\n    99,538\n   </td>\n   <td>\n    520\n   </td>\n  </tr>\n  <tr>\n   <td>\n    6\n   </td>\n   <td align=\"left\">\n    <span class=\"flagicon\">\n     <img alt=\"\" class=\"thumbborder\" data-file-height=\"720\" data-file-width=\"1080\" decoding=\"async\" height=\"15\" src=\"//upload.wikimedia.org/wikipedia/commons/thumb/1/17/Flag_of_Rwanda.svg/23px-Flag_of_Rwanda.svg.png\" srcset=\"//upload.wikimedia.org/wikipedia/commons/thumb/1/17/Flag_of_Rwanda.svg/35px-Flag_of_Rwanda.svg.png 1.5x, //upload.wikimedia.org/wikipedia/commons/thumb/1/17/Flag_of_Rwanda.svg/45px-Flag_of_Rwanda.svg.png 2x\" width=\"23\"/>\n    </span>\n    <a href=\"/wiki/Rwanda\" title=\"Rwanda\">\n     Rwanda\n    </a>\n   </td>\n   <td>\n    12,374,000\n   </td>\n   <td>\n    26,338\n   </td>\n   <td>\n    470\n   </td>\n  </tr>\n  <tr>\n   <td>\n    7\n   </td>\n   <td align=\"left\">\n    <span class=\"flagicon\">\n     <img alt=\"\" class=\"thumbborder\" data-file-height=\"600\" data-file-width=\"1000\" decoding=\"async\" height=\"14\" src=\"//upload.wikimedia.org/wikipedia/commons/thumb/5/56/Flag_of_Haiti.svg/23px-Flag_of_Haiti.svg.png\" srcset=\"//upload.wikimedia.org/wikipedia/commons/thumb/5/56/Flag_of_Haiti.svg/35px-Flag_of_Haiti.svg.png 1.5x, //upload.wikimedia.org/wikipedia/commons/thumb/5/56/Flag_of_Haiti.svg/46px-Flag_of_Haiti.svg.png 2x\" width=\"23\"/>\n    </span>\n    <a href=\"/wiki/Haiti\" title=\"Haiti\">\n     Haiti\n    </a>\n   </td>\n   <td>\n    11,578,000\n   </td>\n   <td>\n    27,065\n   </td>\n   <td>\n    428\n   </td>\n  </tr>\n  <tr>\n   <td>\n    8\n   </td>\n   <td align=\"left\">\n    <span class=\"flagicon\">\n     <img alt=\"\" class=\"thumbborder\" data-file-height=\"600\" data-file-width=\"900\" decoding=\"async\" height=\"15\" src=\"//upload.wikimedia.org/wikipedia/commons/thumb/2/20/Flag_of_the_Netherlands.svg/23px-Flag_of_the_Netherlands.svg.png\" srcset=\"//upload.wikimedia.org/wikipedia/commons/thumb/2/20/Flag_of_the_Netherlands.svg/35px-Flag_of_the_Netherlands.svg.png 1.5x, //upload.wikimedia.org/wikipedia/commons/thumb/2/20/Flag_of_the_Netherlands.svg/45px-Flag_of_the_Netherlands.svg.png 2x\" width=\"23\"/>\n    </span>\n    <a href=\"/wiki/Netherlands\" title=\"Netherlands\">\n     Netherlands\n    </a>\n   </td>\n   <td>\n    17,620,000\n   </td>\n   <td>\n    41,526\n   </td>\n   <td>\n    424\n   </td>\n  </tr>\n  <tr>\n   <td>\n    9\n   </td>\n   <td align=\"left\">\n    <span class=\"flagicon\">\n     <img alt=\"\" class=\"thumbborder\" data-file-height=\"800\" data-file-width=\"1100\" decoding=\"async\" height=\"15\" src=\"//upload.wikimedia.org/wikipedia/commons/thumb/d/d4/Flag_of_Israel.svg/21px-Flag_of_Israel.svg.png\" srcset=\"//upload.wikimedia.org/wikipedia/commons/thumb/d/d4/Flag_of_Israel.svg/32px-Flag_of_Israel.svg.png 1.5x, //upload.wikimedia.org/wikipedia/commons/thumb/d/d4/Flag_of_Israel.svg/41px-Flag_of_Israel.svg.png 2x\" width=\"21\"/>\n    </span>\n    <a href=\"/wiki/Israel\" title=\"Israel\">\n     Israel\n    </a>\n   </td>\n   <td>\n    9,380,000\n   </td>\n   <td>\n    22,072\n   </td>\n   <td>\n    425\n   </td>\n  </tr>\n  <tr>\n   <td>\n    10\n   </td>\n   <td align=\"left\">\n    <span class=\"flagicon\">\n     <img alt=\"\" class=\"thumbborder\" data-file-height=\"900\" data-file-width=\"1350\" decoding=\"async\" height=\"15\" src=\"//upload.wikimedia.org/wikipedia/en/thumb/4/41/Flag_of_India.svg/23px-Flag_of_India.svg.png\" srcset=\"//upload.wikimedia.org/wikipedia/en/thumb/4/41/Flag_of_India.svg/35px-Flag_of_India.svg.png 1.5x, //upload.wikimedia.org/wikipedia/en/thumb/4/41/Flag_of_India.svg/45px-Flag_of_India.svg.png 2x\" width=\"23\"/>\n    </span>\n    <a href=\"/wiki/India\" title=\"India\">\n     India\n    </a>\n   </td>\n   <td>\n    1,379,980,000\n   </td>\n   <td>\n    3,287,240\n   </td>\n   <td>\n    420\n   </td>\n  </tr>\n </tbody>\n</table>\n\n",
                    "name": "stdout"
                }
            ]
        },
        {
            "metadata": {},
            "cell_type": "code",
            "source": "population_data = pd.DataFrame(columns=[\"Rank\", \"Country\", \"Population\", \"Area\", \"Density\"])\n\nfor row in tables[table_index].tbody.find_all(\"tr\"):\n    col = row.find_all(\"td\")\n    if (col != []):\n        rank = col[0].text\n        country = col[1].text\n        population = col[2].text.strip()\n        area = col[3].text.strip()\n        density = col[4].text.strip()\n        population_data = population_data.append({\"Rank\":rank, \"Country\":country, \"Population\":population, \"Area\":area, \"Density\":density}, ignore_index=True)\n\npopulation_data",
            "execution_count": 66,
            "outputs": [
                {
                    "output_type": "execute_result",
                    "execution_count": 66,
                    "data": {
                        "text/plain": "  Rank       Country     Population       Area Density\n0    1    \u00a0Singapore      5,704,000        710   8,033\n1    2   \u00a0Bangladesh    171,090,000    143,998   1,188\n2    3      \u00a0Lebanon      6,856,000     10,452     656\n3    4       \u00a0Taiwan     23,604,000     36,193     652\n4    5  \u00a0South Korea     51,781,000     99,538     520\n5    6       \u00a0Rwanda     12,374,000     26,338     470\n6    7        \u00a0Haiti     11,578,000     27,065     428\n7    8  \u00a0Netherlands     17,620,000     41,526     424\n8    9       \u00a0Israel      9,380,000     22,072     425\n9   10        \u00a0India  1,379,980,000  3,287,240     420",
                        "text/html": "<div>\n<style scoped>\n    .dataframe tbody tr th:only-of-type {\n        vertical-align: middle;\n    }\n\n    .dataframe tbody tr th {\n        vertical-align: top;\n    }\n\n    .dataframe thead th {\n        text-align: right;\n    }\n</style>\n<table border=\"1\" class=\"dataframe\">\n  <thead>\n    <tr style=\"text-align: right;\">\n      <th></th>\n      <th>Rank</th>\n      <th>Country</th>\n      <th>Population</th>\n      <th>Area</th>\n      <th>Density</th>\n    </tr>\n  </thead>\n  <tbody>\n    <tr>\n      <th>0</th>\n      <td>1</td>\n      <td>Singapore</td>\n      <td>5,704,000</td>\n      <td>710</td>\n      <td>8,033</td>\n    </tr>\n    <tr>\n      <th>1</th>\n      <td>2</td>\n      <td>Bangladesh</td>\n      <td>171,090,000</td>\n      <td>143,998</td>\n      <td>1,188</td>\n    </tr>\n    <tr>\n      <th>2</th>\n      <td>3</td>\n      <td>Lebanon</td>\n      <td>6,856,000</td>\n      <td>10,452</td>\n      <td>656</td>\n    </tr>\n    <tr>\n      <th>3</th>\n      <td>4</td>\n      <td>Taiwan</td>\n      <td>23,604,000</td>\n      <td>36,193</td>\n      <td>652</td>\n    </tr>\n    <tr>\n      <th>4</th>\n      <td>5</td>\n      <td>South Korea</td>\n      <td>51,781,000</td>\n      <td>99,538</td>\n      <td>520</td>\n    </tr>\n    <tr>\n      <th>5</th>\n      <td>6</td>\n      <td>Rwanda</td>\n      <td>12,374,000</td>\n      <td>26,338</td>\n      <td>470</td>\n    </tr>\n    <tr>\n      <th>6</th>\n      <td>7</td>\n      <td>Haiti</td>\n      <td>11,578,000</td>\n      <td>27,065</td>\n      <td>428</td>\n    </tr>\n    <tr>\n      <th>7</th>\n      <td>8</td>\n      <td>Netherlands</td>\n      <td>17,620,000</td>\n      <td>41,526</td>\n      <td>424</td>\n    </tr>\n    <tr>\n      <th>8</th>\n      <td>9</td>\n      <td>Israel</td>\n      <td>9,380,000</td>\n      <td>22,072</td>\n      <td>425</td>\n    </tr>\n    <tr>\n      <th>9</th>\n      <td>10</td>\n      <td>India</td>\n      <td>1,379,980,000</td>\n      <td>3,287,240</td>\n      <td>420</td>\n    </tr>\n  </tbody>\n</table>\n</div>"
                    },
                    "metadata": {}
                }
            ]
        },
        {
            "metadata": {},
            "cell_type": "markdown",
            "source": "## Scrape data from HTML tables into a DataFrame using BeautifulSoup and read_html\n"
        },
        {
            "metadata": {},
            "cell_type": "markdown",
            "source": "Using the same `url`, `data`, `soup`, and `tables` object as in the last section we can use the `read_html` function to create a DataFrame.\n\nRemember the table we need is located in `tables[table_index]`\n\nWe can now use the `pandas` function `read_html` and give it the string version of the table as well as the `flavor` which is the parsing engine `bs4`.\n"
        },
        {
            "metadata": {},
            "cell_type": "code",
            "source": "pd.read_html(str(tables), flavor='bs4')",
            "execution_count": 71,
            "outputs": [
                {
                    "output_type": "execute_result",
                    "execution_count": 71,
                    "data": {
                        "text/plain": "[        World population (millions, UN estimates)[14]  \\\n                                                     #   \n 0                                                   1   \n 1                                                   2   \n 2                                                   3   \n 3                                                   4   \n 4                                                   5   \n 5                                                   6   \n 6                                                   7   \n 7                                                   8   \n 8                                                   9   \n 9                                                  10   \n 10                                                NaN   \n 11  Notes: .mw-parser-output .reflist{font-size:90...   \n \n                                                        \\\n                       Top ten most populous countries   \n 0                                            China[B]   \n 1                                               India   \n 2                                       United States   \n 3                                           Indonesia   \n 4                                            Pakistan   \n 5                                              Brazil   \n 6                                             Nigeria   \n 7                                          Bangladesh   \n 8                                              Russia   \n 9                                              Mexico   \n 10                                        World total   \n 11  Notes: .mw-parser-output .reflist{font-size:90...   \n \n                                                        \\\n                                                  2000   \n 0                                                1270   \n 1                                                1053   \n 2                                                 283   \n 3                                                 212   \n 4                                                 136   \n 5                                                 176   \n 6                                                 123   \n 7                                                 131   \n 8                                                 146   \n 9                                                 103   \n 10                                               6127   \n 11  Notes: .mw-parser-output .reflist{font-size:90...   \n \n                                                        \\\n                                                  2015   \n 0                                                1376   \n 1                                                1311   \n 2                                                 322   \n 3                                                 258   \n 4                                                 208   \n 5                                                 206   \n 6                                                 182   \n 7                                                 161   \n 8                                                 146   \n 9                                                 127   \n 10                                               7349   \n 11  Notes: .mw-parser-output .reflist{font-size:90...   \n \n                                                        \n                                               2030[A]  \n 0                                                1416  \n 1                                                1528  \n 2                                                 356  \n 3                                                 295  \n 4                                                 245  \n 5                                                 228  \n 6                                                 263  \n 7                                                 186  \n 8                                                 149  \n 9                                                 148  \n 10                                               8501  \n 11  Notes: .mw-parser-output .reflist{font-size:90...  ,\n                   Continent Density(inhabitants/km2) Population(millions)  \\\n 0                      Asia                    104.1                 4641   \n 1                    Africa                     44.4                 1340   \n 2                    Europe                     73.4                  747   \n 3             Latin America                     24.1                  653   \n 4  Northern America[note 2]                     14.9                  368   \n 5                   Oceania                        5                   42   \n 6                Antarctica                       ~0            0.004[16]   \n \n                                Most populous country  \\\n 0                      1,439,323,000[note 1] \u2013 China   \n 1                             0206,139,000 \u2013 Nigeria   \n 2  0145,934,000 \u2013 Russia;approx. 110 million in E...   \n 3                              0212,559,000 \u2013 Brazil   \n 4                       0331,002,000 \u2013 United States   \n 5                           0025,499,000 \u2013 Australia   \n 6                                        N/A[note 3]   \n \n               Most populous city (metropolitan area)  \n 0  37,393,000/13,929,000 \u2013 Greater Tokyo Area/Tok...  \n 1                             20,900,000 \u2013 Cairo[17]  \n 2  16,855,000/12,537,000 \u2013 Moscow metropolitan ar...  \n 3  22,043,000/12,176,000 \u2013 S\u00e3o Paulo Metro Area/S...  \n 4  23,724,000/8,323,000 \u2013 New York metropolitan a...  \n 5                                 4,925,000 \u2013 Sydney  \n 6                            1,258 \u2013 McMurdo Station  ,\n   World population milestones in billions (Worldometers estimates)        \\\n                                                         Population     1   \n 0                                               Year                1804   \n 1                                      Years elapsed                   \u2014   \n \n                                                          \n       2     3     4     5     6     7     8     9    10  \n 0  1927  1960  1974  1987  1999  2011  2023  2037  2057  \n 1   123    33    14    13    12    12    12    14    20  ,\n                                                    0  \\\n 0  .mw-parser-output .legend{page-break-inside:av...   \n \n                                    1  \n 0  67.5\u201370 65\u201367.5 60\u201365 55\u201360 50\u201355  ,\n    Rank        Country  Population % of world         Date  \\\n 0     1          China  1409043320      17.9%  29 Jul 2021   \n 1     2          India  1379982105      17.5%  29 Jul 2021   \n 2     3  United States   332096694      4.21%  29 Jul 2021   \n 3     4      Indonesia   269603400      3.42%   1 Jul 2020   \n 4     5       Pakistan   220892331      2.80%   1 Jul 2020   \n 5     6         Brazil   213468192      2.71%  29 Jul 2021   \n 6     7        Nigeria   206139587      2.61%   1 Jul 2020   \n 7     8     Bangladesh   171089278      2.17%  29 Jul 2021   \n 8     9         Russia   146748590      1.86%   1 Jan 2020   \n 9    10         Mexico   127792286      1.62%   1 Jul 2020   \n \n            Source(official or UN)  \n 0   National population clock[89]  \n 1   National population clock[90]  \n 2   National population clock[91]  \n 3  National annual projection[92]  \n 4               UN Projection[93]  \n 5   National population clock[94]  \n 6               UN Projection[93]  \n 7   National population clock[95]  \n 8    National annual estimate[96]  \n 9  National annual projection[97]  ,\n    Rank      Country  Population  Area(km2)  Density(pop/km2)\n 0     1    Singapore     5704000        710              8033\n 1     2   Bangladesh   171090000     143998              1188\n 2     3      Lebanon     6856000      10452               656\n 3     4       Taiwan    23604000      36193               652\n 4     5  South Korea    51781000      99538               520\n 5     6       Rwanda    12374000      26338               470\n 6     7        Haiti    11578000      27065               428\n 7     8  Netherlands    17620000      41526               424\n 8     9       Israel     9380000      22072               425\n 9    10        India  1379980000    3287240               420,\n    Rank         Country  Population  Area(km2)  Density(pop/km2)  \\\n 0     1           India  1379980000    3287240               420   \n 1     2        Pakistan   224460000     803940               279   \n 2     3      Bangladesh   171090000     143998              1188   \n 3     4           Japan   126010000     377873               333   \n 4     5     Philippines   110550000     300000               369   \n 5     6         Vietnam    96209000     331689               290   \n 6     7  United Kingdom    66436000     243610               273   \n 7     8     South Korea    51781000      99538               520   \n 8     9          Taiwan    23604000      36193               652   \n 9    10       Sri Lanka    21803000      65610               332   \n \n   Population trend  \n 0          Growing  \n 1  Rapidly growing  \n 2  Rapidly growing  \n 3    Declining[98]  \n 4          Growing  \n 5          Growing  \n 6          Growing  \n 7           Steady  \n 8           Steady  \n 9          Growing  ,\n     Year  Population Yearly growth           Density(pop/km2)  \\\n     Year  Population             %    Number Density(pop/km2)   \n 0   1951  2584034261         1.88%  47603112               17   \n 1   1952  2630861562         1.81%  46827301               18   \n 2   1953  2677608960         1.78%  46747398               18   \n 3   1954  2724846741         1.76%  47237781               18   \n 4   1955  2773019936         1.77%  48173195               19   \n ..   ...         ...           ...       ...              ...   \n 65  2016  7464022000         1.14%  84225000               50   \n 66  2017  7547859000         1.12%  83837000               51   \n 67  2018  7631091000         1.10%  83232000               51   \n 68  2019  7713468000         1.08%  82377000               52   \n 69  2020  7795000000         1.05%  81331000               52   \n \n    Urban population       \n              Number    %  \n 0         775067697  30%  \n 1         799282533  30%  \n 2         824289989  31%  \n 3         850179106  31%  \n 4         877008842  32%  \n ..              ...  ...  \n 65       4060653000  54%  \n 66       4140189000  55%  \n 67       4219817000  55%  \n 68       4299439000  56%  \n 69       4378900000  56%  \n \n [70 rows x 7 columns],\n                      Region  1500  1600  1700  1750  1800  1850  1900  1950  \\\n 0                     World   585   660   710   791   978  1262  1650  2521   \n 1                    Africa    86   114   106   106   107   111   133   221   \n 2                      Asia   282   350   411   502   635   809   947  1402   \n 3                    Europe   168   170   178   190   203   276   408   547   \n 4     Latin America[Note 1]    40    20    10    16    24    38    74   167   \n 5  Northern America[Note 1]     6     3     2     2     7    26    82   172   \n 6                   Oceania     3     3     3     2     2     2     6    13   \n \n    1999  2008  2010  2012  2050  2150  \n 0  6008  6707  6896  7052  9725  9746  \n 1   783   973  1022  1052  2478  2308  \n 2  3700  4054  4164  4250  5267  5561  \n 3   675   732   738   740   734   517  \n 4   508   577   590   603   784   912  \n 5   312   337   345   351   433   398  \n 6    30    34    37    38    57    51  ,\n                      Region  1500  1600  1700  1750  1800  1850  1900  1950  \\\n 0                    Africa  14.7  17.3  14.9  13.4  10.9   8.8   8.1   8.8   \n 1                      Asia  48.2  53.0  57.9  63.5  64.9  64.1  57.4  55.6   \n 2                    Europe  28.7  25.8  25.1  20.6  20.8  21.9  24.7  21.7   \n 3     Latin America[Note 1]   6.8   3.0   1.4   2.0   2.5   3.0   4.5   6.6   \n 4  Northern America[Note 1]   1.0   0.5   0.3   0.3   0.7   2.1   5.0   6.8   \n 5                   Oceania   0.5   0.5   0.4   0.3   0.2   0.2   0.4   0.5   \n \n    1999  2008  2010  2012  2050  2150  \n 0  13.0  14.5  14.8  15.2  25.5  23.7  \n 1  61.6  60.4  60.4  60.3  54.2  57.1  \n 2  11.2  10.9  10.7  10.5   7.6   5.3  \n 3   8.5   8.6   8.6   8.6   8.1   9.4  \n 4   5.2   5.0   5.0   5.0   4.5   4.1  \n 5   0.5   0.5   0.5   0.5   0.6   0.5  ,\n          Year    World  Africa    Asia  Europe  Latin America& Carib.[Note 1]  \\\n 0   70,000 BC  < 0.015     NaN     NaN     NaN                            0.0   \n 1   10,000 BC        4     NaN     NaN     NaN                            NaN   \n 2     8000 BC        5     NaN     NaN     NaN                            NaN   \n 3     6500 BC        5     NaN     NaN     NaN                            NaN   \n 4     5000 BC        5     NaN     NaN     NaN                            NaN   \n 5     4000 BC        7     NaN     NaN     NaN                            NaN   \n 6     3000 BC       14     NaN     NaN     NaN                            NaN   \n 7     2000 BC       27     NaN     NaN     NaN                            NaN   \n 8     1000 BC       50     7.0    33.0     9.0                            NaN   \n 9      500 BC      100    14.0    66.0    16.0                            NaN   \n 10       AD 1      200    23.0   141.0    28.0                            NaN   \n 11       1000      400    70.0   269.0    50.0                            8.0   \n 12       1500      458    86.0   243.0    84.0                           39.0   \n 13       1600      580   114.0   339.0   111.0                           10.0   \n 14       1700      682   106.0   436.0   125.0                           10.0   \n 15       1750      791   106.0   502.0   163.0                           16.0   \n 16       1800     1000   107.0   656.0   203.0                           24.0   \n 17       1850     1262   111.0   809.0   276.0                           38.0   \n 18       1900     1650   133.0   947.0   408.0                           74.0   \n 19       1950     2525   229.0  1394.0   549.0                          169.0   \n 20       1955     2758   254.0  1534.0   577.0                          193.0   \n 21       1960     3018   285.0  1687.0   606.0                          221.0   \n 22       1965     3322   322.0  1875.0   635.0                          254.0   \n 23       1970     3682   366.0  2120.0   657.0                          288.0   \n 24       1975     4061   416.0  2378.0   677.0                          326.0   \n 25       1980     4440   478.0  2626.0   694.0                          365.0   \n 26       1985     4853   550.0  2897.0   708.0                          406.0   \n 27       1990     5310   632.0  3202.0   721.0                          447.0   \n 28       1995     5735   720.0  3475.0   728.0                          487.0   \n 29       2000     6127   814.0  3714.0   726.0                          527.0   \n 30       2005     6520   920.0  3945.0   729.0                          564.0   \n 31       2010     6930  1044.0  4170.0   735.0                          600.0   \n 32       2015     7349  1186.0  4393.0   738.0                          634.0   \n \n     North America[Note 1]  Oceania              Notes  \n 0                     0.0      NaN              [116]  \n 1                     NaN      NaN              [117]  \n 2                     NaN      NaN                NaN  \n 3                     NaN      NaN                NaN  \n 4                     NaN      NaN                NaN  \n 5                     NaN      NaN                NaN  \n 6                     NaN      NaN                NaN  \n 7                     NaN      NaN                NaN  \n 8                     NaN      NaN  [citation needed]  \n 9                     NaN      NaN                NaN  \n 10                    NaN      NaN                NaN  \n 11                    1.0      2.0                NaN  \n 12                    3.0      3.0                NaN  \n 13                    3.0      3.0                NaN  \n 14                    2.0      3.0                NaN  \n 15                    2.0      2.0                NaN  \n 16                    7.0      3.0                NaN  \n 17                   26.0      2.0                NaN  \n 18                   82.0      6.0                NaN  \n 19                  172.0     12.7              [118]  \n 20                  187.0     14.2                NaN  \n 21                  204.0     15.8                NaN  \n 22                  219.0     17.5                NaN  \n 23                  231.0     19.7                NaN  \n 24                  242.0     21.5                NaN  \n 25                  254.0     23.0                NaN  \n 26                  267.0     24.9                NaN  \n 27                  281.0     27.0                NaN  \n 28                  296.0     29.1                NaN  \n 29                  314.0     31.1                NaN  \n 30                  329.0     33.4                NaN  \n 31                  344.0     36.4                NaN  \n 32                  358.0     39.3                NaN  ,\n     0                                                  1\n 0 NaN  This section needs additional citations for ve...,\n    Year  UN est.(millions) Difference  USCB est.(millions) Difference.1\n 0  2005               6542          \u2013                 6473            \u2013\n 1  2010               6957        415                 6866          393\n 2  2015               7380        423                 7256          390\n 3  2020               7795        415                 7643          380\n 4  2025               8184        390                 8007          363\n 5  2030               8549        364                 8341          334\n 6  2035               8888        339                 8646          306\n 7  2040               9199        311                 8926          280\n 8  2045               9482        283                 9180          254\n 9  2050               9735        253                 9408          228,\n     Year  World           Asia         Africa       Europe  \\\n 0   2000   6144  3,741 (60.9%)    811 (13.2%)  726 (11.8%)   \n 1   2005   6542  3,978 (60.8%)    916 (14.0%)  729 (11.2%)   \n 2   2010   6957  4,210 (60.5%)  1,039 (14.9%)  736 (10.6%)   \n 3   2015   7380  4,434 (60.1%)  1,182 (16.0%)  743 (10.1%)   \n 4   2020   7795  4,641 (59.5%)  1,341 (17.2%)   748 (9.6%)   \n 5   2025   8184  4,823 (58.9%)  1,509 (18.4%)   746 (9.1%)   \n 6   2030   8549  4,974 (58.2%)  1,688 (19.8%)   741 (8.7%)   \n 7   2035   8888  5,096 (57.3%)  1,878 (21.1%)   735 (8.3%)   \n 8   2040   9199  5,189 (56.4%)  2,077 (22.6%)   728 (7.9%)   \n 9   2045   9482  5,253 (55.4%)  2,282 (24.1%)   720 (7.6%)   \n 10  2050   9735  5,290 (54.3%)  2,489 (25.6%)   711 (7.3%)   \n 11  2055   9958  5,302 (53.2%)  2,698 (27.1%)   700 (7.0%)   \n 12  2060  10152  5,289 (52.1%)  2,905 (28.6%)   689 (6.8%)   \n 13  2065  10318  5,256 (51.0%)  3,109 (30.1%)   677 (6.6%)   \n 14  2070  10459  5,207 (49.8%)  3,308 (31.6%)   667 (6.4%)   \n 15  2075  10577  5,143 (48.6%)  3,499 (33.1%)   657 (6.2%)   \n 16  2080  10674  5,068 (47.5%)  3,681 (34.5%)   650 (6.1%)   \n 17  2085  10750  4,987 (46.4%)  3,851 (35.8%)   643 (6.0%)   \n 18  2090  10810  4,901 (45.3%)  4,008 (37.1%)   638 (5.9%)   \n 19  2095  10852  4,812 (44.3%)  4,152 (38.3%)   634 (5.8%)   \n 20  2100  10875  4,719 (43.4%)  4,280 (39.4%)   630 (5.8%)   \n \n    Latin America/Caribbean Northern America    Oceania  \n 0               522 (8.5%)       312 (5.1%)  31 (0.5%)  \n 1               558 (8.5%)       327 (5.0%)  34 (0.5%)  \n 2               591 (8.5%)       343 (4.9%)  37 (0.5%)  \n 3               624 (8.5%)       357 (4.8%)  40 (0.5%)  \n 4               654 (8.4%)       369 (4.7%)  43 (0.6%)  \n 5               682 (8.3%)       380 (4.6%)  45 (0.6%)  \n 6               706 (8.3%)       391 (4.6%)  48 (0.6%)  \n 7               726 (8.2%)       401 (4.5%)  50 (0.6%)  \n 8               742 (8.1%)       410 (4.5%)  53 (0.6%)  \n 9               754 (8.0%)       418 (4.4%)  55 (0.6%)  \n 10              762 (7.8%)       425 (4.4%)  57 (0.6%)  \n 11              767 (7.7%)       432 (4.3%)  60 (0.6%)  \n 12              768 (7.6%)       439 (4.3%)  62 (0.6%)  \n 13              765 (7.4%)       447 (4.3%)  64 (0.6%)  \n 14              759 (7.3%)       454 (4.3%)  66 (0.6%)  \n 15              750 (7.1%)       461 (4.4%)  67 (0.6%)  \n 16              739 (6.9%)       468 (4.4%)  69 (0.7%)  \n 17              726 (6.8%)       474 (4.4%)  71 (0.7%)  \n 18              711 (6.6%)       479 (4.4%)  72 (0.7%)  \n 19              696 (6.4%)       485 (4.5%)  74 (0.7%)  \n 20              680 (6.3%)       491 (4.5%)  75 (0.7%)  ,\n   Population(in billions)            0.5  0.5.1     1   1.1     2   2.1     4  \\\n 0                    Year           1500   1500  1804  1804  1927  1927  1974   \n 1           Years elapsed  Years elapsed    304   304   123   123    47    47   \n \n     4.1     8     8.1  \n 0  1974  2024  2024.0  \n 1    50    50     NaN  ,\n   Population(in billions)          0.375  0.375.1  0.75  0.75.1   1.5  1.5.1  \\\n 0                    Year           1171     1171  1715    1715  1881   1881   \n 1           Years elapsed  Years elapsed      544   544     166   166     79   \n \n       3   3.1     6     6.1  \n 0  1960  1960  1999  1999.0  \n 1    79    39    39     NaN  ,\n     0                                                  1\n 0 NaN  Wikimedia Commons has media related to World p...,\n   .mw-parser-output .navbar{display:inline;font-size:88%;font-weight:normal}.mw-parser-output .navbar-collapse{float:left;text-align:left}.mw-parser-output .navbar-boxtext{word-spacing:0}.mw-parser-output .navbar ul{display:inline-block;white-space:nowrap;line-height:inherit}.mw-parser-output .navbar-brackets::before{margin-right:-0.125em;content:\"[ \"}.mw-parser-output .navbar-brackets::after{margin-left:-0.125em;content:\" ]\"}.mw-parser-output .navbar li{word-spacing:-0.125em}.mw-parser-output .navbar-mini abbr{font-variant:small-caps;border-bottom:none;text-decoration:none;cursor:inherit}.mw-parser-output .navbar-ct-full{font-size:114%;margin:0 7em}.mw-parser-output .navbar-ct-mini{font-size:114%;margin:0 4em}.mw-parser-output .infobox .navbar{font-size:100%}.mw-parser-output .navbox .navbar{display:block;font-size:100%}.mw-parser-output .navbox-title .navbar{float:left;text-align:left;margin-right:0.5em}vteGlobal human population  \\\n 0                                       Major topics                                                                                                                                                                                                                                                                                                                                                                                                                                                                                                                                                                                                                                                                                                                                                                                                                                                                                                                                \n 1                       Biological andrelated topics                                                                                                                                                                                                                                                                                                                                                                                                                                                                                                                                                                                                                                                                                                                                                                                                                                                                                                                                \n 2                     Human impact onthe environment                                                                                                                                                                                                                                                                                                                                                                                                                                                                                                                                                                                                                                                                                                                                                                                                                                                                                                                                \n 3                                  Populationecology                                                                                                                                                                                                                                                                                                                                                                                                                                                                                                                                                                                                                                                                                                                                                                                                                                                                                                                                \n 4                                         Literature                                                                                                                                                                                                                                                                                                                                                                                                                                                                                                                                                                                                                                                                                                                                                                                                                                                                                                                                \n 5                                       Publications                                                                                                                                                                                                                                                                                                                                                                                                                                                                                                                                                                                                                                                                                                                                                                                                                                                                                                                                \n 6                                              Lists                                                                                                                                                                                                                                                                                                                                                                                                                                                                                                                                                                                                                                                                                                                                                                                                                                                                                                                                \n 7                            Events andorganizations                                                                                                                                                                                                                                                                                                                                                                                                                                                                                                                                                                                                                                                                                                                                                                                                                                                                                                                                \n 8                                     Related topics                                                                                                                                                                                                                                                                                                                                                                                                                                                                                                                                                                                                                                                                                                                                                                                                                                                                                                                                \n 9  Commons  Human overpopulation Human activities...                                                                                                                                                                                                                                                                                                                                                                                                                                                                                                                                                                                                                                                                                                                                                                                                                                                                                                                                \n \n   .mw-parser-output .navbar{display:inline;font-size:88%;font-weight:normal}.mw-parser-output .navbar-collapse{float:left;text-align:left}.mw-parser-output .navbar-boxtext{word-spacing:0}.mw-parser-output .navbar ul{display:inline-block;white-space:nowrap;line-height:inherit}.mw-parser-output .navbar-brackets::before{margin-right:-0.125em;content:\"[ \"}.mw-parser-output .navbar-brackets::after{margin-left:-0.125em;content:\" ]\"}.mw-parser-output .navbar li{word-spacing:-0.125em}.mw-parser-output .navbar-mini abbr{font-variant:small-caps;border-bottom:none;text-decoration:none;cursor:inherit}.mw-parser-output .navbar-ct-full{font-size:114%;margin:0 7em}.mw-parser-output .navbar-ct-mini{font-size:114%;margin:0 4em}.mw-parser-output .infobox .navbar{font-size:100%}.mw-parser-output .navbox .navbar{display:block;font-size:100%}.mw-parser-output .navbox-title .navbar{float:left;text-align:left;margin-right:0.5em}vteGlobal human population.1  \n 0  Biocapacity Demographics of the world Human ov...                                                                                                                                                                                                                                                                                                                                                                                                                                                                                                                                                                                                                                                                                                                                                                                                                                                                                                                                 \n 1  Family planning Pledge two or fewer Population...                                                                                                                                                                                                                                                                                                                                                                                                                                                                                                                                                                                                                                                                                                                                                                                                                                                                                                                                 \n 2  Deforestation Desalination Desertification Env...                                                                                                                                                                                                                                                                                                                                                                                                                                                                                                                                                                                                                                                                                                                                                                                                                                                                                                                                 \n 3  Deep ecology Earth's energy budget Food securi...                                                                                                                                                                                                                                                                                                                                                                                                                                                                                                                                                                                                                                                                                                                                                                                                                                                                                                                                 \n 4  A Modest Proposal Observations Concerning the ...                                                                                                                                                                                                                                                                                                                                                                                                                                                                                                                                                                                                                                                                                                                                                                                                                                                                                                                                 \n 5  Population and Environment Population and Deve...                                                                                                                                                                                                                                                                                                                                                                                                                                                                                                                                                                                                                                                                                                                                                                                                                                                                                                                                 \n 6  Population and housing censuses by country Met...                                                                                                                                                                                                                                                                                                                                                                                                                                                                                                                                                                                                                                                                                                                                                                                                                                                                                                                                 \n 7  7 Billion Actions Extinction Rebellion Interna...                                                                                                                                                                                                                                                                                                                                                                                                                                                                                                                                                                                                                                                                                                                                                                                                                                                                                                                                 \n 8  Classic Maya collapse Fertility and intelligen...                                                                                                                                                                                                                                                                                                                                                                                                                                                                                                                                                                                                                                                                                                                                                                                                                                                                                                                                 \n 9  Commons  Human overpopulation Human activities...                                                                                                                                                                                                                                                                                                                                                                                                                                                                                                                                                                                                                                                                                                                                                                                                                                                                                                                                 ,\n            Articles related to the world's population  \\\n 0   vteAnthropogenic effects on the environmentGen...   \n 1         vteAnthropogenic effects on the environment   \n 2                                             General   \n 3                                              Causes   \n 4                                             Effects   \n 5                                          Mitigation   \n 6   Commons  Category by country assessment mitiga...   \n 7      vteLists of countries by population statistics   \n 8                                              Global   \n 9                               Continents/subregions   \n 10                                   Intercontinental   \n 11                                 Cities/urban areas   \n 12                                    Past and future   \n 13                                 Population density   \n 14                                  Growth indicators   \n 15                                 Other demographics   \n 16                                             Health   \n 17                           Education and innovation   \n 18                                           Economic   \n 19  List of international rankings List of top int...   \n 20                               vteHierarchy of life   \n 21  Biosphere\u00a0> Biome\u00a0> Ecosystem\u00a0> Biocenosis\u00a0> P...   \n 22                                   vteGlobalization   \n 23                          Journals  Outline Studies   \n 24                                            Aspects   \n 25                                             Issues   \n 26  .mw-parser-output .nobold{font-weight:normal}G...   \n 27                                              Other   \n 28                                           Theories   \n 29                                    Notablescholars   \n 30                                          Economics   \n 31                                  Political economy   \n 32                               Politics / sociology   \n 33                                       Non\u2013academic   \n 34                          Category \u00a0Business portal   \n \n          Articles related to the world's population.1  \n 0   vteAnthropogenic effects on the environmentGen...  \n 1         vteAnthropogenic effects on the environment  \n 2   Anthropocene Environmental issues list of issu...  \n 3   Agriculture irrigation meat production cocoa p...  \n 4   Biodiversity threats biodiversity loss decline...  \n 5   Alternative fuel vehicle propulsion Birth cont...  \n 6   Commons  Category by country assessment mitiga...  \n 7      vteLists of countries by population statistics  \n 8        Current population Demographics of the world  \n 9   Africa Antarctica Asia Europe North America Ca...  \n 10  Americas Arab world Commonwealth of Nations Eu...  \n 11  World cities National capitals Megacities Mega...  \n 12  Past and future population World population es...  \n 13  Current density Past and future population den...  \n 14  Population growth rate Natural increase Birth ...  \n 15  Age at first marriage Age structure Dependency...  \n 16  Antidepressant consumption Antiviral medicatio...  \n 17  Bloomberg Innovation Index Education Index Int...  \n 18  Access to financial services Development aid g...  \n 19  List of international rankings List of top int...  \n 20                               vteHierarchy of life  \n 21  Biosphere\u00a0> Biome\u00a0> Ecosystem\u00a0> Biocenosis\u00a0> P...  \n 22                                   vteGlobalization  \n 23                          Journals  Outline Studies  \n 24  Alter-globalization Anti-globalization Cultura...  \n 25  .mw-parser-output .nobold{font-weight:normal}G...  \n 26  Climate change Climate justice Disease COVID-1...  \n 27  Brain drain reverse Care drain Development aid...  \n 28  Capital accumulation Dependency Development Ea...  \n 29  Economics Ravi Batra Jagdish Bhagwati Robert B...  \n 30  Ravi Batra Jagdish Bhagwati Robert Brenner Jay...  \n 31  Samir Amin Giovanni Arrighi Robert W. Cox Andr...  \n 32  Arjun Appadurai Daniele Archibugi K. Anthony A...  \n 33  Noam Chomsky Thomas Friedman Naomi Klein John ...  \n 34                          Category \u00a0Business portal  ,\n          vteAnthropogenic effects on the environment  \\\n 0                                            General   \n 1                                             Causes   \n 2                                            Effects   \n 3                                         Mitigation   \n 4  Commons  Category by country assessment mitiga...   \n \n        vteAnthropogenic effects on the environment.1  \n 0  Anthropocene Environmental issues list of issu...  \n 1  Agriculture irrigation meat production cocoa p...  \n 2  Biodiversity threats biodiversity loss decline...  \n 3  Alternative fuel vehicle propulsion Birth cont...  \n 4  Commons  Category by country assessment mitiga...  ,\n        vteLists of countries by population statistics  \\\n 0                                              Global   \n 1                               Continents/subregions   \n 2                                    Intercontinental   \n 3                                  Cities/urban areas   \n 4                                     Past and future   \n 5                                  Population density   \n 6                                   Growth indicators   \n 7                                  Other demographics   \n 8                                              Health   \n 9                            Education and innovation   \n 10                                           Economic   \n 11  List of international rankings List of top int...   \n \n      vteLists of countries by population statistics.1  \n 0        Current population Demographics of the world  \n 1   Africa Antarctica Asia Europe North America Ca...  \n 2   Americas Arab world Commonwealth of Nations Eu...  \n 3   World cities National capitals Megacities Mega...  \n 4   Past and future population World population es...  \n 5   Current density Past and future population den...  \n 6   Population growth rate Natural increase Birth ...  \n 7   Age at first marriage Age structure Dependency...  \n 8   Antidepressant consumption Antiviral medicatio...  \n 9   Bloomberg Innovation Index Education Index Int...  \n 10  Access to financial services Development aid g...  \n 11  List of international rankings List of top int...  ,\n                                 vteHierarchy of life  \\\n 0  Biosphere\u00a0> Biome\u00a0> Ecosystem\u00a0> Biocenosis\u00a0> P...   \n \n                               vteHierarchy of life.1  \n 0  Biosphere\u00a0> Biome\u00a0> Ecosystem\u00a0> Biocenosis\u00a0> P...  ,\n                                      vteGlobalization  \\\n 0                           Journals  Outline Studies   \n 1                                             Aspects   \n 2                                              Issues   \n 3   .mw-parser-output .nobold{font-weight:normal}G...   \n 4                                               Other   \n 5                                            Theories   \n 6                                     Notablescholars   \n 7                                           Economics   \n 8                                   Political economy   \n 9                                Politics / sociology   \n 10                                       Non\u2013academic   \n 11                          Category \u00a0Business portal   \n \n                                    vteGlobalization.1  \n 0                           Journals  Outline Studies  \n 1   Alter-globalization Anti-globalization Cultura...  \n 2   .mw-parser-output .nobold{font-weight:normal}G...  \n 3   Climate change Climate justice Disease COVID-1...  \n 4   Brain drain reverse Care drain Development aid...  \n 5   Capital accumulation Dependency Development Ea...  \n 6   Economics Ravi Batra Jagdish Bhagwati Robert B...  \n 7   Ravi Batra Jagdish Bhagwati Robert Brenner Jay...  \n 8   Samir Amin Giovanni Arrighi Robert W. Cox Andr...  \n 9   Arjun Appadurai Daniele Archibugi K. Anthony A...  \n 10  Noam Chomsky Thomas Friedman Naomi Klein John ...  \n 11                          Category \u00a0Business portal  ,\n                                                    0  \\\n 0  .mw-parser-output .nobold{font-weight:normal}G...   \n 1                                              Other   \n \n                                                    1  \n 0  Climate change Climate justice Disease COVID-1...  \n 1  Brain drain reverse Care drain Development aid...  ,\n                       0                                                  1\n 0             Economics  Ravi Batra Jagdish Bhagwati Robert Brenner Jay...\n 1     Political economy  Samir Amin Giovanni Arrighi Robert W. Cox Andr...\n 2  Politics / sociology  Arjun Appadurai Daniele Archibugi K. Anthony A...\n 3          Non\u2013academic  Noam Chomsky Thomas Friedman Naomi Klein John ...,\n   Authority control                  Authority control.1\n 0           General  Integrated Authority File (Germany)\n 1             Other                   Microsoft Academic]"
                    },
                    "metadata": {}
                }
            ]
        },
        {
            "metadata": {},
            "cell_type": "markdown",
            "source": "The function `read_html` always returns a list of DataFrames so we must pick the one we want out of the list.\n"
        },
        {
            "metadata": {},
            "cell_type": "code",
            "source": "population_data_read_html = pd.read_html(str(tables), flavor='bs4')[5]\n\npopulation_data_read_html",
            "execution_count": 74,
            "outputs": [
                {
                    "output_type": "execute_result",
                    "execution_count": 74,
                    "data": {
                        "text/plain": "   Rank      Country  Population  Area(km2)  Density(pop/km2)\n0     1    Singapore     5704000        710              8033\n1     2   Bangladesh   171090000     143998              1188\n2     3      Lebanon     6856000      10452               656\n3     4       Taiwan    23604000      36193               652\n4     5  South Korea    51781000      99538               520\n5     6       Rwanda    12374000      26338               470\n6     7        Haiti    11578000      27065               428\n7     8  Netherlands    17620000      41526               424\n8     9       Israel     9380000      22072               425\n9    10        India  1379980000    3287240               420",
                        "text/html": "<div>\n<style scoped>\n    .dataframe tbody tr th:only-of-type {\n        vertical-align: middle;\n    }\n\n    .dataframe tbody tr th {\n        vertical-align: top;\n    }\n\n    .dataframe thead th {\n        text-align: right;\n    }\n</style>\n<table border=\"1\" class=\"dataframe\">\n  <thead>\n    <tr style=\"text-align: right;\">\n      <th></th>\n      <th>Rank</th>\n      <th>Country</th>\n      <th>Population</th>\n      <th>Area(km2)</th>\n      <th>Density(pop/km2)</th>\n    </tr>\n  </thead>\n  <tbody>\n    <tr>\n      <th>0</th>\n      <td>1</td>\n      <td>Singapore</td>\n      <td>5704000</td>\n      <td>710</td>\n      <td>8033</td>\n    </tr>\n    <tr>\n      <th>1</th>\n      <td>2</td>\n      <td>Bangladesh</td>\n      <td>171090000</td>\n      <td>143998</td>\n      <td>1188</td>\n    </tr>\n    <tr>\n      <th>2</th>\n      <td>3</td>\n      <td>Lebanon</td>\n      <td>6856000</td>\n      <td>10452</td>\n      <td>656</td>\n    </tr>\n    <tr>\n      <th>3</th>\n      <td>4</td>\n      <td>Taiwan</td>\n      <td>23604000</td>\n      <td>36193</td>\n      <td>652</td>\n    </tr>\n    <tr>\n      <th>4</th>\n      <td>5</td>\n      <td>South Korea</td>\n      <td>51781000</td>\n      <td>99538</td>\n      <td>520</td>\n    </tr>\n    <tr>\n      <th>5</th>\n      <td>6</td>\n      <td>Rwanda</td>\n      <td>12374000</td>\n      <td>26338</td>\n      <td>470</td>\n    </tr>\n    <tr>\n      <th>6</th>\n      <td>7</td>\n      <td>Haiti</td>\n      <td>11578000</td>\n      <td>27065</td>\n      <td>428</td>\n    </tr>\n    <tr>\n      <th>7</th>\n      <td>8</td>\n      <td>Netherlands</td>\n      <td>17620000</td>\n      <td>41526</td>\n      <td>424</td>\n    </tr>\n    <tr>\n      <th>8</th>\n      <td>9</td>\n      <td>Israel</td>\n      <td>9380000</td>\n      <td>22072</td>\n      <td>425</td>\n    </tr>\n    <tr>\n      <th>9</th>\n      <td>10</td>\n      <td>India</td>\n      <td>1379980000</td>\n      <td>3287240</td>\n      <td>420</td>\n    </tr>\n  </tbody>\n</table>\n</div>"
                    },
                    "metadata": {}
                }
            ]
        },
        {
            "metadata": {},
            "cell_type": "markdown",
            "source": "## Scrape data from HTML tables into a DataFrame using read_html\n"
        },
        {
            "metadata": {},
            "cell_type": "markdown",
            "source": "We can also use the `read_html` function to directly get DataFrames from a `url`.\n"
        },
        {
            "metadata": {},
            "cell_type": "code",
            "source": "dataframe_list = pd.read_html(url, flavor='bs4')",
            "execution_count": 75,
            "outputs": []
        },
        {
            "metadata": {},
            "cell_type": "markdown",
            "source": "We can see there are 25 DataFrames just like when we used `find_all` on the `soup` object.\n"
        },
        {
            "metadata": {},
            "cell_type": "code",
            "source": "len(dataframe_list)",
            "execution_count": 76,
            "outputs": [
                {
                    "output_type": "execute_result",
                    "execution_count": 76,
                    "data": {
                        "text/plain": "26"
                    },
                    "metadata": {}
                }
            ]
        },
        {
            "metadata": {},
            "cell_type": "markdown",
            "source": "Finally we can pick the DataFrame we need out of the list.\n"
        },
        {
            "metadata": {},
            "cell_type": "code",
            "source": "dataframe_list[5]",
            "execution_count": 77,
            "outputs": [
                {
                    "output_type": "execute_result",
                    "execution_count": 77,
                    "data": {
                        "text/plain": "   Rank      Country  Population  Area(km2)  Density(pop/km2)\n0     1    Singapore     5704000        710              8033\n1     2   Bangladesh   171090000     143998              1188\n2     3      Lebanon     6856000      10452               656\n3     4       Taiwan    23604000      36193               652\n4     5  South Korea    51781000      99538               520\n5     6       Rwanda    12374000      26338               470\n6     7        Haiti    11578000      27065               428\n7     8  Netherlands    17620000      41526               424\n8     9       Israel     9380000      22072               425\n9    10        India  1379980000    3287240               420",
                        "text/html": "<div>\n<style scoped>\n    .dataframe tbody tr th:only-of-type {\n        vertical-align: middle;\n    }\n\n    .dataframe tbody tr th {\n        vertical-align: top;\n    }\n\n    .dataframe thead th {\n        text-align: right;\n    }\n</style>\n<table border=\"1\" class=\"dataframe\">\n  <thead>\n    <tr style=\"text-align: right;\">\n      <th></th>\n      <th>Rank</th>\n      <th>Country</th>\n      <th>Population</th>\n      <th>Area(km2)</th>\n      <th>Density(pop/km2)</th>\n    </tr>\n  </thead>\n  <tbody>\n    <tr>\n      <th>0</th>\n      <td>1</td>\n      <td>Singapore</td>\n      <td>5704000</td>\n      <td>710</td>\n      <td>8033</td>\n    </tr>\n    <tr>\n      <th>1</th>\n      <td>2</td>\n      <td>Bangladesh</td>\n      <td>171090000</td>\n      <td>143998</td>\n      <td>1188</td>\n    </tr>\n    <tr>\n      <th>2</th>\n      <td>3</td>\n      <td>Lebanon</td>\n      <td>6856000</td>\n      <td>10452</td>\n      <td>656</td>\n    </tr>\n    <tr>\n      <th>3</th>\n      <td>4</td>\n      <td>Taiwan</td>\n      <td>23604000</td>\n      <td>36193</td>\n      <td>652</td>\n    </tr>\n    <tr>\n      <th>4</th>\n      <td>5</td>\n      <td>South Korea</td>\n      <td>51781000</td>\n      <td>99538</td>\n      <td>520</td>\n    </tr>\n    <tr>\n      <th>5</th>\n      <td>6</td>\n      <td>Rwanda</td>\n      <td>12374000</td>\n      <td>26338</td>\n      <td>470</td>\n    </tr>\n    <tr>\n      <th>6</th>\n      <td>7</td>\n      <td>Haiti</td>\n      <td>11578000</td>\n      <td>27065</td>\n      <td>428</td>\n    </tr>\n    <tr>\n      <th>7</th>\n      <td>8</td>\n      <td>Netherlands</td>\n      <td>17620000</td>\n      <td>41526</td>\n      <td>424</td>\n    </tr>\n    <tr>\n      <th>8</th>\n      <td>9</td>\n      <td>Israel</td>\n      <td>9380000</td>\n      <td>22072</td>\n      <td>425</td>\n    </tr>\n    <tr>\n      <th>9</th>\n      <td>10</td>\n      <td>India</td>\n      <td>1379980000</td>\n      <td>3287240</td>\n      <td>420</td>\n    </tr>\n  </tbody>\n</table>\n</div>"
                    },
                    "metadata": {}
                }
            ]
        },
        {
            "metadata": {},
            "cell_type": "markdown",
            "source": "We can also use the `match` parameter to select the specific table we want. If the table contains a string matching the text it will be read.\n"
        },
        {
            "metadata": {},
            "cell_type": "code",
            "source": "pd.read_html(url, match=\"10 most densely populated countries\", flavor='bs4')[0]",
            "execution_count": 81,
            "outputs": [
                {
                    "output_type": "execute_result",
                    "execution_count": 81,
                    "data": {
                        "text/plain": "   Rank      Country  Population  Area(km2)  Density(pop/km2)\n0     1    Singapore     5704000        710              8033\n1     2   Bangladesh   171090000     143998              1188\n2     3      Lebanon     6856000      10452               656\n3     4       Taiwan    23604000      36193               652\n4     5  South Korea    51781000      99538               520\n5     6       Rwanda    12374000      26338               470\n6     7        Haiti    11578000      27065               428\n7     8  Netherlands    17620000      41526               424\n8     9       Israel     9380000      22072               425\n9    10        India  1379980000    3287240               420",
                        "text/html": "<div>\n<style scoped>\n    .dataframe tbody tr th:only-of-type {\n        vertical-align: middle;\n    }\n\n    .dataframe tbody tr th {\n        vertical-align: top;\n    }\n\n    .dataframe thead th {\n        text-align: right;\n    }\n</style>\n<table border=\"1\" class=\"dataframe\">\n  <thead>\n    <tr style=\"text-align: right;\">\n      <th></th>\n      <th>Rank</th>\n      <th>Country</th>\n      <th>Population</th>\n      <th>Area(km2)</th>\n      <th>Density(pop/km2)</th>\n    </tr>\n  </thead>\n  <tbody>\n    <tr>\n      <th>0</th>\n      <td>1</td>\n      <td>Singapore</td>\n      <td>5704000</td>\n      <td>710</td>\n      <td>8033</td>\n    </tr>\n    <tr>\n      <th>1</th>\n      <td>2</td>\n      <td>Bangladesh</td>\n      <td>171090000</td>\n      <td>143998</td>\n      <td>1188</td>\n    </tr>\n    <tr>\n      <th>2</th>\n      <td>3</td>\n      <td>Lebanon</td>\n      <td>6856000</td>\n      <td>10452</td>\n      <td>656</td>\n    </tr>\n    <tr>\n      <th>3</th>\n      <td>4</td>\n      <td>Taiwan</td>\n      <td>23604000</td>\n      <td>36193</td>\n      <td>652</td>\n    </tr>\n    <tr>\n      <th>4</th>\n      <td>5</td>\n      <td>South Korea</td>\n      <td>51781000</td>\n      <td>99538</td>\n      <td>520</td>\n    </tr>\n    <tr>\n      <th>5</th>\n      <td>6</td>\n      <td>Rwanda</td>\n      <td>12374000</td>\n      <td>26338</td>\n      <td>470</td>\n    </tr>\n    <tr>\n      <th>6</th>\n      <td>7</td>\n      <td>Haiti</td>\n      <td>11578000</td>\n      <td>27065</td>\n      <td>428</td>\n    </tr>\n    <tr>\n      <th>7</th>\n      <td>8</td>\n      <td>Netherlands</td>\n      <td>17620000</td>\n      <td>41526</td>\n      <td>424</td>\n    </tr>\n    <tr>\n      <th>8</th>\n      <td>9</td>\n      <td>Israel</td>\n      <td>9380000</td>\n      <td>22072</td>\n      <td>425</td>\n    </tr>\n    <tr>\n      <th>9</th>\n      <td>10</td>\n      <td>India</td>\n      <td>1379980000</td>\n      <td>3287240</td>\n      <td>420</td>\n    </tr>\n  </tbody>\n</table>\n</div>"
                    },
                    "metadata": {}
                }
            ]
        },
        {
            "metadata": {},
            "cell_type": "markdown",
            "source": "## Authors\n"
        },
        {
            "metadata": {},
            "cell_type": "markdown",
            "source": "Ramesh Sannareddy\n"
        },
        {
            "metadata": {},
            "cell_type": "markdown",
            "source": "### Other Contributors\n"
        },
        {
            "metadata": {},
            "cell_type": "markdown",
            "source": "Rav Ahuja\n"
        },
        {
            "metadata": {},
            "cell_type": "markdown",
            "source": "## Change Log\n"
        },
        {
            "metadata": {},
            "cell_type": "markdown",
            "source": "| Date (YYYY-MM-DD) | Version | Changed By                                               | Change Description |\n| ----------------- | ------- | -------------------------------------------------------- | ------------------ |\n| 2020-10-17        | 0.1     | Joseph Santarcangelo  Created initial version of the lab |                    |\n"
        },
        {
            "metadata": {},
            "cell_type": "markdown",
            "source": "Copyright \u00a9 2020 IBM Corporation. This notebook and its source code are released under the terms of the [MIT License](https://cognitiveclass.ai/mit-license?utm_medium=Exinfluencer\\&utm_source=Exinfluencer\\&utm_content=000026UJ\\&utm_term=10006555\\&utm_id=NA-SkillsNetwork-Channel-SkillsNetworkCoursesIBMDeveloperSkillsNetworkPY0220ENSkillsNetwork23455606-2021-01-01\\&cm_mmc=Email_Newsletter-\\_-Developer_Ed%2BTech-\\_-WW_WW-\\_-SkillsNetwork-Courses-IBMDeveloperSkillsNetwork-PY0101EN-SkillsNetwork-19487395\\&cm_mmca1=000026UJ\\&cm_mmca2=10006555\\&cm_mmca3=M12345678\\&cvosrc=email.Newsletter.M12345678\\&cvo_campaign=000026UJ).\n"
        }
    ],
    "metadata": {
        "kernelspec": {
            "name": "python3",
            "display_name": "Python 3.7",
            "language": "python"
        },
        "language_info": {
            "name": "python",
            "version": "3.7.10",
            "mimetype": "text/x-python",
            "codemirror_mode": {
                "name": "ipython",
                "version": 3
            },
            "pygments_lexer": "ipython3",
            "nbconvert_exporter": "python",
            "file_extension": ".py"
        }
    },
    "nbformat": 4,
    "nbformat_minor": 4
}